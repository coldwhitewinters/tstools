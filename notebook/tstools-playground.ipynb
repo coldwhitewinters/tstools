{
 "cells": [
  {
   "cell_type": "markdown",
   "id": "e56b81dc-5126-4037-b2ec-e55168a329a3",
   "metadata": {},
   "source": [
    "# Notes"
   ]
  },
  {
   "cell_type": "markdown",
   "id": "cd043b89-738f-46f3-a17f-a0c10979ae02",
   "metadata": {},
   "source": []
  },
  {
   "cell_type": "markdown",
   "id": "9da94338-f409-4d17-b5cf-d7f2fde98380",
   "metadata": {},
   "source": [
    "# Setup"
   ]
  },
  {
   "cell_type": "code",
   "execution_count": null,
   "id": "2d2f9e9d-aa44-40bd-83b6-6f8315f1b7a8",
   "metadata": {},
   "outputs": [],
   "source": [
    "%load_ext autoreload\n",
    "%autoreload 2"
   ]
  },
  {
   "cell_type": "code",
   "execution_count": null,
   "id": "7803f99a",
   "metadata": {},
   "outputs": [],
   "source": [
    "import sys\n",
    "sys.path.append(\"..\")\n",
    "\n",
    "import numpy as np\n",
    "import pandas as pd\n",
    "\n",
    "import matplotlib.pyplot as plt\n",
    "import seaborn as sns\n",
    "import plotly.express as px\n",
    "import plotly.graph_objects as go\n",
    "from plotly.subplots import make_subplots\n",
    "from ipywidgets import interact, widgets\n",
    "\n",
    "plt.rcParams[\"figure.figsize\"] = (12, 4)"
   ]
  },
  {
   "cell_type": "markdown",
   "id": "4b64f7f8-9505-4eae-830b-0f0ad02dcde5",
   "metadata": {},
   "source": [
    "# Data"
   ]
  },
  {
   "cell_type": "code",
   "execution_count": null,
   "id": "e29dd22d-4e46-41f5-ab77-fa95981d5a7c",
   "metadata": {},
   "outputs": [],
   "source": [
    "stocks = pd.read_csv(\"../data/all_stocks_5yr.csv.gz\", parse_dates=[\"date\"])\n",
    "stocks"
   ]
  },
  {
   "cell_type": "code",
   "execution_count": null,
   "id": "cdf67a75-77d4-45eb-b396-e43144f2b268",
   "metadata": {},
   "outputs": [],
   "source": [
    "stocks.info()"
   ]
  },
  {
   "cell_type": "code",
   "execution_count": null,
   "id": "13e7e268-d402-4380-948a-30b5552d9a7e",
   "metadata": {},
   "outputs": [],
   "source": [
    "stocks = stocks.set_index(\"date\").groupby(\"Name\").resample(\"W\").mean().reset_index()\n",
    "stocks"
   ]
  },
  {
   "cell_type": "markdown",
   "id": "21c882ae-5073-49e4-8d28-814559e6f9dd",
   "metadata": {},
   "source": [
    "# Playground"
   ]
  },
  {
   "cell_type": "code",
   "execution_count": null,
   "id": "b06f818e-3f98-4451-a53d-82f406db95a9",
   "metadata": {},
   "outputs": [],
   "source": [
    "from tstools.forecast.models import (\n",
    "    Univariate,\n",
    "    Naive,\n",
    "    Drift,\n",
    "    Mean,\n",
    "    ETS,\n",
    "    ARIMA,\n",
    "    AutoARIMA,\n",
    "    AutoRegression,\n",
    "    ScikitRegression,\n",
    ")\n",
    "from tstools.metrics import mae, mse\n",
    "\n",
    "from darts.timeseries import TimeSeries\n",
    "from darts.models import ( \n",
    "    NaiveSeasonal,\n",
    "    NaiveDrift,\n",
    "    Prophet,\n",
    "    ExponentialSmoothing,\n",
    "    ARIMA as arima_darts,\n",
    "    AutoARIMA as autoarima_darts,\n",
    "    RegressionEnsembleModel,\n",
    "    RegressionModel,\n",
    "    Theta,\n",
    "    FFT\n",
    ")\n",
    "import darts.metrics\n",
    "\n",
    "from sklearn.preprocessing import StandardScaler\n",
    "from sklearn.linear_model import LinearRegression, Ridge, Lasso\n",
    "from sklearn.tree import DecisionTreeRegressor\n",
    "from sklearn.ensemble import RandomForestRegressor\n",
    "from sklearn.svm import LinearSVR, SVR\n",
    "\n",
    "import statsmodels.api as sm\n",
    "import statsmodels.tsa.api as tsa\n",
    "import pmdarima as pm\n",
    "\n",
    "from warnings import filterwarnings\n",
    "filterwarnings('ignore')"
   ]
  },
  {
   "cell_type": "code",
   "execution_count": null,
   "id": "bb4da8e4-407a-47a4-b811-0a927ca84d69",
   "metadata": {},
   "outputs": [],
   "source": [
    "#data = stocks[stocks.Name.isin([\"A\", \"AAL\"])]\n",
    "data = stocks[stocks.Name.isin([\"A\"])]\n",
    "data"
   ]
  },
  {
   "cell_type": "code",
   "execution_count": null,
   "id": "76eaa38a-d26c-4830-af53-3bbd08296de8",
   "metadata": {},
   "outputs": [],
   "source": [
    "train = data.iloc[:-10].copy()\n",
    "test = data.iloc[-10:].copy()"
   ]
  },
  {
   "cell_type": "code",
   "execution_count": null,
   "id": "8fbe2cda-8a30-4b46-be97-148ae4a1a4a6",
   "metadata": {},
   "outputs": [],
   "source": []
  }
 ],
 "metadata": {
  "kernelspec": {
   "display_name": "Python 3 (ipykernel)",
   "language": "python",
   "name": "python3"
  },
  "language_info": {
   "codemirror_mode": {
    "name": "ipython",
    "version": 3
   },
   "file_extension": ".py",
   "mimetype": "text/x-python",
   "name": "python",
   "nbconvert_exporter": "python",
   "pygments_lexer": "ipython3",
   "version": "3.7.11"
  }
 },
 "nbformat": 4,
 "nbformat_minor": 5
}
