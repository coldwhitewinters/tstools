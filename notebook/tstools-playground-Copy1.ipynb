{
 "cells": [
  {
   "cell_type": "markdown",
   "id": "e56b81dc-5126-4037-b2ec-e55168a329a3",
   "metadata": {},
   "source": [
    "# Notes"
   ]
  },
  {
   "cell_type": "markdown",
   "id": "cd043b89-738f-46f3-a17f-a0c10979ae02",
   "metadata": {},
   "source": []
  },
  {
   "cell_type": "markdown",
   "id": "9da94338-f409-4d17-b5cf-d7f2fde98380",
   "metadata": {},
   "source": [
    "# Setup"
   ]
  },
  {
   "cell_type": "code",
   "execution_count": 9,
   "id": "2d2f9e9d-aa44-40bd-83b6-6f8315f1b7a8",
   "metadata": {},
   "outputs": [
    {
     "name": "stdout",
     "output_type": "stream",
     "text": [
      "The autoreload extension is already loaded. To reload it, use:\n",
      "  %reload_ext autoreload\n"
     ]
    }
   ],
   "source": [
    "%load_ext autoreload\n",
    "%autoreload 2"
   ]
  },
  {
   "cell_type": "code",
   "execution_count": 10,
   "id": "7803f99a",
   "metadata": {},
   "outputs": [],
   "source": [
    "import sys\n",
    "sys.path.append(\"..\")\n",
    "\n",
    "import numpy as np\n",
    "import pandas as pd\n",
    "\n",
    "import matplotlib.pyplot as plt\n",
    "import seaborn as sns\n",
    "import plotly.express as px\n",
    "import plotly.graph_objects as go\n",
    "from plotly.subplots import make_subplots\n",
    "from ipywidgets import interact, widgets\n",
    "\n",
    "plt.rcParams[\"figure.figsize\"] = (12, 4)"
   ]
  },
  {
   "cell_type": "markdown",
   "id": "4b64f7f8-9505-4eae-830b-0f0ad02dcde5",
   "metadata": {},
   "source": [
    "# Data"
   ]
  },
  {
   "cell_type": "code",
   "execution_count": 11,
   "id": "e29dd22d-4e46-41f5-ab77-fa95981d5a7c",
   "metadata": {},
   "outputs": [
    {
     "data": {
      "text/html": [
       "<div>\n",
       "<style scoped>\n",
       "    .dataframe tbody tr th:only-of-type {\n",
       "        vertical-align: middle;\n",
       "    }\n",
       "\n",
       "    .dataframe tbody tr th {\n",
       "        vertical-align: top;\n",
       "    }\n",
       "\n",
       "    .dataframe thead th {\n",
       "        text-align: right;\n",
       "    }\n",
       "</style>\n",
       "<table border=\"1\" class=\"dataframe\">\n",
       "  <thead>\n",
       "    <tr style=\"text-align: right;\">\n",
       "      <th></th>\n",
       "      <th>date</th>\n",
       "      <th>open</th>\n",
       "      <th>high</th>\n",
       "      <th>low</th>\n",
       "      <th>close</th>\n",
       "      <th>volume</th>\n",
       "      <th>Name</th>\n",
       "    </tr>\n",
       "  </thead>\n",
       "  <tbody>\n",
       "    <tr>\n",
       "      <th>0</th>\n",
       "      <td>2013-02-08</td>\n",
       "      <td>15.07</td>\n",
       "      <td>15.12</td>\n",
       "      <td>14.63</td>\n",
       "      <td>14.75</td>\n",
       "      <td>8407500</td>\n",
       "      <td>AAL</td>\n",
       "    </tr>\n",
       "    <tr>\n",
       "      <th>1</th>\n",
       "      <td>2013-02-11</td>\n",
       "      <td>14.89</td>\n",
       "      <td>15.01</td>\n",
       "      <td>14.26</td>\n",
       "      <td>14.46</td>\n",
       "      <td>8882000</td>\n",
       "      <td>AAL</td>\n",
       "    </tr>\n",
       "    <tr>\n",
       "      <th>2</th>\n",
       "      <td>2013-02-12</td>\n",
       "      <td>14.45</td>\n",
       "      <td>14.51</td>\n",
       "      <td>14.10</td>\n",
       "      <td>14.27</td>\n",
       "      <td>8126000</td>\n",
       "      <td>AAL</td>\n",
       "    </tr>\n",
       "    <tr>\n",
       "      <th>3</th>\n",
       "      <td>2013-02-13</td>\n",
       "      <td>14.30</td>\n",
       "      <td>14.94</td>\n",
       "      <td>14.25</td>\n",
       "      <td>14.66</td>\n",
       "      <td>10259500</td>\n",
       "      <td>AAL</td>\n",
       "    </tr>\n",
       "    <tr>\n",
       "      <th>4</th>\n",
       "      <td>2013-02-14</td>\n",
       "      <td>14.94</td>\n",
       "      <td>14.96</td>\n",
       "      <td>13.16</td>\n",
       "      <td>13.99</td>\n",
       "      <td>31879900</td>\n",
       "      <td>AAL</td>\n",
       "    </tr>\n",
       "    <tr>\n",
       "      <th>...</th>\n",
       "      <td>...</td>\n",
       "      <td>...</td>\n",
       "      <td>...</td>\n",
       "      <td>...</td>\n",
       "      <td>...</td>\n",
       "      <td>...</td>\n",
       "      <td>...</td>\n",
       "    </tr>\n",
       "    <tr>\n",
       "      <th>619035</th>\n",
       "      <td>2018-02-01</td>\n",
       "      <td>76.84</td>\n",
       "      <td>78.27</td>\n",
       "      <td>76.69</td>\n",
       "      <td>77.82</td>\n",
       "      <td>2982259</td>\n",
       "      <td>ZTS</td>\n",
       "    </tr>\n",
       "    <tr>\n",
       "      <th>619036</th>\n",
       "      <td>2018-02-02</td>\n",
       "      <td>77.53</td>\n",
       "      <td>78.12</td>\n",
       "      <td>76.73</td>\n",
       "      <td>76.78</td>\n",
       "      <td>2595187</td>\n",
       "      <td>ZTS</td>\n",
       "    </tr>\n",
       "    <tr>\n",
       "      <th>619037</th>\n",
       "      <td>2018-02-05</td>\n",
       "      <td>76.64</td>\n",
       "      <td>76.92</td>\n",
       "      <td>73.18</td>\n",
       "      <td>73.83</td>\n",
       "      <td>2962031</td>\n",
       "      <td>ZTS</td>\n",
       "    </tr>\n",
       "    <tr>\n",
       "      <th>619038</th>\n",
       "      <td>2018-02-06</td>\n",
       "      <td>72.74</td>\n",
       "      <td>74.56</td>\n",
       "      <td>72.13</td>\n",
       "      <td>73.27</td>\n",
       "      <td>4924323</td>\n",
       "      <td>ZTS</td>\n",
       "    </tr>\n",
       "    <tr>\n",
       "      <th>619039</th>\n",
       "      <td>2018-02-07</td>\n",
       "      <td>72.70</td>\n",
       "      <td>75.00</td>\n",
       "      <td>72.69</td>\n",
       "      <td>73.86</td>\n",
       "      <td>4534912</td>\n",
       "      <td>ZTS</td>\n",
       "    </tr>\n",
       "  </tbody>\n",
       "</table>\n",
       "<p>619040 rows × 7 columns</p>\n",
       "</div>"
      ],
      "text/plain": [
       "             date   open   high    low  close    volume Name\n",
       "0      2013-02-08  15.07  15.12  14.63  14.75   8407500  AAL\n",
       "1      2013-02-11  14.89  15.01  14.26  14.46   8882000  AAL\n",
       "2      2013-02-12  14.45  14.51  14.10  14.27   8126000  AAL\n",
       "3      2013-02-13  14.30  14.94  14.25  14.66  10259500  AAL\n",
       "4      2013-02-14  14.94  14.96  13.16  13.99  31879900  AAL\n",
       "...           ...    ...    ...    ...    ...       ...  ...\n",
       "619035 2018-02-01  76.84  78.27  76.69  77.82   2982259  ZTS\n",
       "619036 2018-02-02  77.53  78.12  76.73  76.78   2595187  ZTS\n",
       "619037 2018-02-05  76.64  76.92  73.18  73.83   2962031  ZTS\n",
       "619038 2018-02-06  72.74  74.56  72.13  73.27   4924323  ZTS\n",
       "619039 2018-02-07  72.70  75.00  72.69  73.86   4534912  ZTS\n",
       "\n",
       "[619040 rows x 7 columns]"
      ]
     },
     "execution_count": 11,
     "metadata": {},
     "output_type": "execute_result"
    }
   ],
   "source": [
    "stocks = pd.read_csv(\"../data/all_stocks_5yr.csv.gz\", parse_dates=[\"date\"])\n",
    "stocks"
   ]
  },
  {
   "cell_type": "code",
   "execution_count": 12,
   "id": "cdf67a75-77d4-45eb-b396-e43144f2b268",
   "metadata": {},
   "outputs": [
    {
     "name": "stdout",
     "output_type": "stream",
     "text": [
      "<class 'pandas.core.frame.DataFrame'>\n",
      "RangeIndex: 619040 entries, 0 to 619039\n",
      "Data columns (total 7 columns):\n",
      " #   Column  Non-Null Count   Dtype         \n",
      "---  ------  --------------   -----         \n",
      " 0   date    619040 non-null  datetime64[ns]\n",
      " 1   open    619029 non-null  float64       \n",
      " 2   high    619032 non-null  float64       \n",
      " 3   low     619032 non-null  float64       \n",
      " 4   close   619040 non-null  float64       \n",
      " 5   volume  619040 non-null  int64         \n",
      " 6   Name    619040 non-null  object        \n",
      "dtypes: datetime64[ns](1), float64(4), int64(1), object(1)\n",
      "memory usage: 33.1+ MB\n"
     ]
    }
   ],
   "source": [
    "stocks.info()"
   ]
  },
  {
   "cell_type": "code",
   "execution_count": 13,
   "id": "13e7e268-d402-4380-948a-30b5552d9a7e",
   "metadata": {},
   "outputs": [
    {
     "data": {
      "text/html": [
       "<div>\n",
       "<style scoped>\n",
       "    .dataframe tbody tr th:only-of-type {\n",
       "        vertical-align: middle;\n",
       "    }\n",
       "\n",
       "    .dataframe tbody tr th {\n",
       "        vertical-align: top;\n",
       "    }\n",
       "\n",
       "    .dataframe thead th {\n",
       "        text-align: right;\n",
       "    }\n",
       "</style>\n",
       "<table border=\"1\" class=\"dataframe\">\n",
       "  <thead>\n",
       "    <tr style=\"text-align: right;\">\n",
       "      <th></th>\n",
       "      <th>Name</th>\n",
       "      <th>date</th>\n",
       "      <th>open</th>\n",
       "      <th>high</th>\n",
       "      <th>low</th>\n",
       "      <th>close</th>\n",
       "      <th>volume</th>\n",
       "    </tr>\n",
       "  </thead>\n",
       "  <tbody>\n",
       "    <tr>\n",
       "      <th>0</th>\n",
       "      <td>A</td>\n",
       "      <td>2013-02-10</td>\n",
       "      <td>45.070000</td>\n",
       "      <td>45.350000</td>\n",
       "      <td>45.000000</td>\n",
       "      <td>45.080000</td>\n",
       "      <td>1824755.00</td>\n",
       "    </tr>\n",
       "    <tr>\n",
       "      <th>1</th>\n",
       "      <td>A</td>\n",
       "      <td>2013-02-17</td>\n",
       "      <td>44.598000</td>\n",
       "      <td>44.878000</td>\n",
       "      <td>44.040000</td>\n",
       "      <td>44.160000</td>\n",
       "      <td>5165006.80</td>\n",
       "    </tr>\n",
       "    <tr>\n",
       "      <th>2</th>\n",
       "      <td>A</td>\n",
       "      <td>2013-02-24</td>\n",
       "      <td>42.255000</td>\n",
       "      <td>42.545000</td>\n",
       "      <td>41.871250</td>\n",
       "      <td>42.170000</td>\n",
       "      <td>3689833.75</td>\n",
       "    </tr>\n",
       "    <tr>\n",
       "      <th>3</th>\n",
       "      <td>A</td>\n",
       "      <td>2013-03-03</td>\n",
       "      <td>41.332000</td>\n",
       "      <td>41.891000</td>\n",
       "      <td>40.898000</td>\n",
       "      <td>41.480000</td>\n",
       "      <td>3985236.20</td>\n",
       "    </tr>\n",
       "    <tr>\n",
       "      <th>4</th>\n",
       "      <td>A</td>\n",
       "      <td>2013-03-10</td>\n",
       "      <td>42.780000</td>\n",
       "      <td>43.178000</td>\n",
       "      <td>42.518000</td>\n",
       "      <td>42.842000</td>\n",
       "      <td>2878377.80</td>\n",
       "    </tr>\n",
       "    <tr>\n",
       "      <th>...</th>\n",
       "      <td>...</td>\n",
       "      <td>...</td>\n",
       "      <td>...</td>\n",
       "      <td>...</td>\n",
       "      <td>...</td>\n",
       "      <td>...</td>\n",
       "      <td>...</td>\n",
       "    </tr>\n",
       "    <tr>\n",
       "      <th>128835</th>\n",
       "      <td>ZTS</td>\n",
       "      <td>2018-01-14</td>\n",
       "      <td>74.334000</td>\n",
       "      <td>75.013000</td>\n",
       "      <td>73.879140</td>\n",
       "      <td>74.648000</td>\n",
       "      <td>2431182.00</td>\n",
       "    </tr>\n",
       "    <tr>\n",
       "      <th>128836</th>\n",
       "      <td>ZTS</td>\n",
       "      <td>2018-01-21</td>\n",
       "      <td>76.302500</td>\n",
       "      <td>76.747500</td>\n",
       "      <td>75.667500</td>\n",
       "      <td>76.315000</td>\n",
       "      <td>3196819.50</td>\n",
       "    </tr>\n",
       "    <tr>\n",
       "      <th>128837</th>\n",
       "      <td>ZTS</td>\n",
       "      <td>2018-01-28</td>\n",
       "      <td>78.018000</td>\n",
       "      <td>78.784000</td>\n",
       "      <td>77.783000</td>\n",
       "      <td>78.548000</td>\n",
       "      <td>2780926.20</td>\n",
       "    </tr>\n",
       "    <tr>\n",
       "      <th>128838</th>\n",
       "      <td>ZTS</td>\n",
       "      <td>2018-02-04</td>\n",
       "      <td>78.222000</td>\n",
       "      <td>78.760000</td>\n",
       "      <td>77.396000</td>\n",
       "      <td>77.772000</td>\n",
       "      <td>3236979.20</td>\n",
       "    </tr>\n",
       "    <tr>\n",
       "      <th>128839</th>\n",
       "      <td>ZTS</td>\n",
       "      <td>2018-02-11</td>\n",
       "      <td>74.026667</td>\n",
       "      <td>75.493333</td>\n",
       "      <td>72.666667</td>\n",
       "      <td>73.653333</td>\n",
       "      <td>4140422.00</td>\n",
       "    </tr>\n",
       "  </tbody>\n",
       "</table>\n",
       "<p>128840 rows × 7 columns</p>\n",
       "</div>"
      ],
      "text/plain": [
       "       Name       date       open       high        low      close      volume\n",
       "0         A 2013-02-10  45.070000  45.350000  45.000000  45.080000  1824755.00\n",
       "1         A 2013-02-17  44.598000  44.878000  44.040000  44.160000  5165006.80\n",
       "2         A 2013-02-24  42.255000  42.545000  41.871250  42.170000  3689833.75\n",
       "3         A 2013-03-03  41.332000  41.891000  40.898000  41.480000  3985236.20\n",
       "4         A 2013-03-10  42.780000  43.178000  42.518000  42.842000  2878377.80\n",
       "...     ...        ...        ...        ...        ...        ...         ...\n",
       "128835  ZTS 2018-01-14  74.334000  75.013000  73.879140  74.648000  2431182.00\n",
       "128836  ZTS 2018-01-21  76.302500  76.747500  75.667500  76.315000  3196819.50\n",
       "128837  ZTS 2018-01-28  78.018000  78.784000  77.783000  78.548000  2780926.20\n",
       "128838  ZTS 2018-02-04  78.222000  78.760000  77.396000  77.772000  3236979.20\n",
       "128839  ZTS 2018-02-11  74.026667  75.493333  72.666667  73.653333  4140422.00\n",
       "\n",
       "[128840 rows x 7 columns]"
      ]
     },
     "execution_count": 13,
     "metadata": {},
     "output_type": "execute_result"
    }
   ],
   "source": [
    "stocks = stocks.set_index(\"date\").groupby(\"Name\").resample(\"W\").mean().reset_index()\n",
    "stocks"
   ]
  },
  {
   "cell_type": "markdown",
   "id": "21c882ae-5073-49e4-8d28-814559e6f9dd",
   "metadata": {},
   "source": [
    "# Sandbox"
   ]
  },
  {
   "cell_type": "code",
   "execution_count": 62,
   "id": "b06f818e-3f98-4451-a53d-82f406db95a9",
   "metadata": {},
   "outputs": [],
   "source": [
    "from tstools.forecast.models import (\n",
    "    Naive,\n",
    "    Drift,\n",
    "    Mean,\n",
    "    ETS,\n",
    "    ARIMA,\n",
    "    AutoARIMA,\n",
    "    AutoRegression,\n",
    "    ScikitRegression,\n",
    "    VAR,\n",
    "    #ARIMAm\n",
    ")\n",
    "from tstools.metrics import mae, mse\n",
    "\n",
    "from darts.timeseries import TimeSeries\n",
    "from darts.models import ( \n",
    "    NaiveSeasonal,\n",
    "    NaiveDrift,\n",
    "    Prophet,\n",
    "    ExponentialSmoothing,\n",
    "    ARIMA as arima_darts,\n",
    "    AutoARIMA as autoarima_darts,\n",
    "    RegressionEnsembleModel,\n",
    "    RegressionModel,\n",
    "    Theta,\n",
    "    FFT\n",
    ")\n",
    "import darts.metrics\n",
    "from darts.utils.utils import ModelMode, SeasonalityMode, TrendMode\n",
    "\n",
    "from sklearn.preprocessing import StandardScaler\n",
    "from sklearn.linear_model import LinearRegression, Ridge, Lasso\n",
    "from sklearn.tree import DecisionTreeRegressor\n",
    "from sklearn.ensemble import RandomForestRegressor\n",
    "from sklearn.svm import LinearSVR, SVR\n",
    "\n",
    "import statsmodels.api as sm\n",
    "import statsmodels.tsa.api as tsa\n",
    "import pmdarima as pm\n",
    "\n",
    "from warnings import filterwarnings\n",
    "filterwarnings('ignore')"
   ]
  },
  {
   "cell_type": "code",
   "execution_count": 15,
   "id": "bb4da8e4-407a-47a4-b811-0a927ca84d69",
   "metadata": {},
   "outputs": [
    {
     "data": {
      "text/html": [
       "<div>\n",
       "<style scoped>\n",
       "    .dataframe tbody tr th:only-of-type {\n",
       "        vertical-align: middle;\n",
       "    }\n",
       "\n",
       "    .dataframe tbody tr th {\n",
       "        vertical-align: top;\n",
       "    }\n",
       "\n",
       "    .dataframe thead th {\n",
       "        text-align: right;\n",
       "    }\n",
       "</style>\n",
       "<table border=\"1\" class=\"dataframe\">\n",
       "  <thead>\n",
       "    <tr style=\"text-align: right;\">\n",
       "      <th></th>\n",
       "      <th>Name</th>\n",
       "      <th>date</th>\n",
       "      <th>open</th>\n",
       "      <th>high</th>\n",
       "      <th>low</th>\n",
       "      <th>close</th>\n",
       "      <th>volume</th>\n",
       "    </tr>\n",
       "  </thead>\n",
       "  <tbody>\n",
       "    <tr>\n",
       "      <th>0</th>\n",
       "      <td>A</td>\n",
       "      <td>2013-02-10</td>\n",
       "      <td>45.070</td>\n",
       "      <td>45.350000</td>\n",
       "      <td>45.00000</td>\n",
       "      <td>45.080000</td>\n",
       "      <td>1.824755e+06</td>\n",
       "    </tr>\n",
       "    <tr>\n",
       "      <th>1</th>\n",
       "      <td>A</td>\n",
       "      <td>2013-02-17</td>\n",
       "      <td>44.598</td>\n",
       "      <td>44.878000</td>\n",
       "      <td>44.04000</td>\n",
       "      <td>44.160000</td>\n",
       "      <td>5.165007e+06</td>\n",
       "    </tr>\n",
       "    <tr>\n",
       "      <th>2</th>\n",
       "      <td>A</td>\n",
       "      <td>2013-02-24</td>\n",
       "      <td>42.255</td>\n",
       "      <td>42.545000</td>\n",
       "      <td>41.87125</td>\n",
       "      <td>42.170000</td>\n",
       "      <td>3.689834e+06</td>\n",
       "    </tr>\n",
       "    <tr>\n",
       "      <th>3</th>\n",
       "      <td>A</td>\n",
       "      <td>2013-03-03</td>\n",
       "      <td>41.332</td>\n",
       "      <td>41.891000</td>\n",
       "      <td>40.89800</td>\n",
       "      <td>41.480000</td>\n",
       "      <td>3.985236e+06</td>\n",
       "    </tr>\n",
       "    <tr>\n",
       "      <th>4</th>\n",
       "      <td>A</td>\n",
       "      <td>2013-03-10</td>\n",
       "      <td>42.780</td>\n",
       "      <td>43.178000</td>\n",
       "      <td>42.51800</td>\n",
       "      <td>42.842000</td>\n",
       "      <td>2.878378e+06</td>\n",
       "    </tr>\n",
       "    <tr>\n",
       "      <th>...</th>\n",
       "      <td>...</td>\n",
       "      <td>...</td>\n",
       "      <td>...</td>\n",
       "      <td>...</td>\n",
       "      <td>...</td>\n",
       "      <td>...</td>\n",
       "      <td>...</td>\n",
       "    </tr>\n",
       "    <tr>\n",
       "      <th>257</th>\n",
       "      <td>A</td>\n",
       "      <td>2018-01-14</td>\n",
       "      <td>70.702</td>\n",
       "      <td>71.430000</td>\n",
       "      <td>70.12500</td>\n",
       "      <td>71.028000</td>\n",
       "      <td>2.039419e+06</td>\n",
       "    </tr>\n",
       "    <tr>\n",
       "      <th>258</th>\n",
       "      <td>A</td>\n",
       "      <td>2018-01-21</td>\n",
       "      <td>72.105</td>\n",
       "      <td>72.623750</td>\n",
       "      <td>71.59500</td>\n",
       "      <td>72.137500</td>\n",
       "      <td>1.905580e+06</td>\n",
       "    </tr>\n",
       "    <tr>\n",
       "      <th>259</th>\n",
       "      <td>A</td>\n",
       "      <td>2018-01-28</td>\n",
       "      <td>73.870</td>\n",
       "      <td>74.161000</td>\n",
       "      <td>73.22800</td>\n",
       "      <td>73.836000</td>\n",
       "      <td>1.796494e+06</td>\n",
       "    </tr>\n",
       "    <tr>\n",
       "      <th>260</th>\n",
       "      <td>A</td>\n",
       "      <td>2018-02-04</td>\n",
       "      <td>73.548</td>\n",
       "      <td>74.002000</td>\n",
       "      <td>72.84000</td>\n",
       "      <td>73.006000</td>\n",
       "      <td>1.827100e+06</td>\n",
       "    </tr>\n",
       "    <tr>\n",
       "      <th>261</th>\n",
       "      <td>A</td>\n",
       "      <td>2018-02-11</td>\n",
       "      <td>68.670</td>\n",
       "      <td>69.798333</td>\n",
       "      <td>67.40500</td>\n",
       "      <td>68.243333</td>\n",
       "      <td>2.990119e+06</td>\n",
       "    </tr>\n",
       "  </tbody>\n",
       "</table>\n",
       "<p>262 rows × 7 columns</p>\n",
       "</div>"
      ],
      "text/plain": [
       "    Name       date    open       high       low      close        volume\n",
       "0      A 2013-02-10  45.070  45.350000  45.00000  45.080000  1.824755e+06\n",
       "1      A 2013-02-17  44.598  44.878000  44.04000  44.160000  5.165007e+06\n",
       "2      A 2013-02-24  42.255  42.545000  41.87125  42.170000  3.689834e+06\n",
       "3      A 2013-03-03  41.332  41.891000  40.89800  41.480000  3.985236e+06\n",
       "4      A 2013-03-10  42.780  43.178000  42.51800  42.842000  2.878378e+06\n",
       "..   ...        ...     ...        ...       ...        ...           ...\n",
       "257    A 2018-01-14  70.702  71.430000  70.12500  71.028000  2.039419e+06\n",
       "258    A 2018-01-21  72.105  72.623750  71.59500  72.137500  1.905580e+06\n",
       "259    A 2018-01-28  73.870  74.161000  73.22800  73.836000  1.796494e+06\n",
       "260    A 2018-02-04  73.548  74.002000  72.84000  73.006000  1.827100e+06\n",
       "261    A 2018-02-11  68.670  69.798333  67.40500  68.243333  2.990119e+06\n",
       "\n",
       "[262 rows x 7 columns]"
      ]
     },
     "execution_count": 15,
     "metadata": {},
     "output_type": "execute_result"
    }
   ],
   "source": [
    "#data = stocks[stocks.Name.isin([\"A\", \"AAL\"])]\n",
    "data = stocks[stocks.Name.isin([\"A\"])]\n",
    "data"
   ]
  },
  {
   "cell_type": "code",
   "execution_count": 16,
   "id": "76eaa38a-d26c-4830-af53-3bbd08296de8",
   "metadata": {},
   "outputs": [],
   "source": [
    "train = data.iloc[:-10].copy()\n",
    "test = data.iloc[-10:].copy()"
   ]
  },
  {
   "cell_type": "code",
   "execution_count": 17,
   "id": "b13a63d0-5648-48eb-a993-e129aed093ba",
   "metadata": {},
   "outputs": [],
   "source": [
    "ts_train = TimeSeries.from_dataframe(train[[\"date\", \"open\"]].set_index(\"date\"))\n",
    "ts_test = TimeSeries.from_dataframe(test[[\"date\", \"open\"]].set_index(\"date\"))\n",
    "cov_train = TimeSeries.from_dataframe(train[[\"date\", \"close\"]].set_index(\"date\"))\n",
    "cov_test = TimeSeries.from_dataframe(test[[\"date\", \"close\"]].set_index(\"date\"))"
   ]
  },
  {
   "cell_type": "code",
   "execution_count": 18,
   "id": "b59d2331-6604-4261-bff8-26e8b1b5a361",
   "metadata": {},
   "outputs": [],
   "source": [
    "ts_train_endog = train.set_index(\"date\").asfreq(\"W\")[\"open\"].copy()\n",
    "ts_train_exog = train.set_index(\"date\").asfreq(\"W\")[\"close\"].copy()\n",
    "ts_test_endog = test.set_index(\"date\").asfreq(\"W\")[\"open\"].copy()\n",
    "ts_test_exog = test.set_index(\"date\").asfreq(\"W\")[\"close\"].copy()"
   ]
  },
  {
   "cell_type": "code",
   "execution_count": 107,
   "id": "94f8b3c0-97f3-4169-864f-588f93a31147",
   "metadata": {},
   "outputs": [
    {
     "data": {
      "text/html": [
       "<div>\n",
       "<style scoped>\n",
       "    .dataframe tbody tr th:only-of-type {\n",
       "        vertical-align: middle;\n",
       "    }\n",
       "\n",
       "    .dataframe tbody tr th {\n",
       "        vertical-align: top;\n",
       "    }\n",
       "\n",
       "    .dataframe thead th {\n",
       "        text-align: right;\n",
       "    }\n",
       "</style>\n",
       "<table border=\"1\" class=\"dataframe\">\n",
       "  <thead>\n",
       "    <tr style=\"text-align: right;\">\n",
       "      <th></th>\n",
       "      <th>Name</th>\n",
       "      <th>date</th>\n",
       "      <th>open</th>\n",
       "      <th>high</th>\n",
       "      <th>low</th>\n",
       "      <th>close</th>\n",
       "      <th>volume</th>\n",
       "    </tr>\n",
       "  </thead>\n",
       "  <tbody>\n",
       "    <tr>\n",
       "      <th>0</th>\n",
       "      <td>A</td>\n",
       "      <td>2013-02-10</td>\n",
       "      <td>45.0700</td>\n",
       "      <td>45.350</td>\n",
       "      <td>45.00000</td>\n",
       "      <td>45.080</td>\n",
       "      <td>1824755.00</td>\n",
       "    </tr>\n",
       "    <tr>\n",
       "      <th>1</th>\n",
       "      <td>A</td>\n",
       "      <td>2013-02-17</td>\n",
       "      <td>44.5980</td>\n",
       "      <td>44.878</td>\n",
       "      <td>44.04000</td>\n",
       "      <td>44.160</td>\n",
       "      <td>5165006.80</td>\n",
       "    </tr>\n",
       "    <tr>\n",
       "      <th>2</th>\n",
       "      <td>A</td>\n",
       "      <td>2013-02-24</td>\n",
       "      <td>42.2550</td>\n",
       "      <td>42.545</td>\n",
       "      <td>41.87125</td>\n",
       "      <td>42.170</td>\n",
       "      <td>3689833.75</td>\n",
       "    </tr>\n",
       "    <tr>\n",
       "      <th>3</th>\n",
       "      <td>A</td>\n",
       "      <td>2013-03-03</td>\n",
       "      <td>41.3320</td>\n",
       "      <td>41.891</td>\n",
       "      <td>40.89800</td>\n",
       "      <td>41.480</td>\n",
       "      <td>3985236.20</td>\n",
       "    </tr>\n",
       "    <tr>\n",
       "      <th>4</th>\n",
       "      <td>A</td>\n",
       "      <td>2013-03-10</td>\n",
       "      <td>42.7800</td>\n",
       "      <td>43.178</td>\n",
       "      <td>42.51800</td>\n",
       "      <td>42.842</td>\n",
       "      <td>2878377.80</td>\n",
       "    </tr>\n",
       "    <tr>\n",
       "      <th>...</th>\n",
       "      <td>...</td>\n",
       "      <td>...</td>\n",
       "      <td>...</td>\n",
       "      <td>...</td>\n",
       "      <td>...</td>\n",
       "      <td>...</td>\n",
       "      <td>...</td>\n",
       "    </tr>\n",
       "    <tr>\n",
       "      <th>247</th>\n",
       "      <td>A</td>\n",
       "      <td>2017-11-05</td>\n",
       "      <td>67.9820</td>\n",
       "      <td>68.318</td>\n",
       "      <td>67.66000</td>\n",
       "      <td>68.008</td>\n",
       "      <td>1349637.60</td>\n",
       "    </tr>\n",
       "    <tr>\n",
       "      <th>248</th>\n",
       "      <td>A</td>\n",
       "      <td>2017-11-12</td>\n",
       "      <td>68.3660</td>\n",
       "      <td>68.578</td>\n",
       "      <td>67.95220</td>\n",
       "      <td>68.272</td>\n",
       "      <td>1206826.00</td>\n",
       "    </tr>\n",
       "    <tr>\n",
       "      <th>249</th>\n",
       "      <td>A</td>\n",
       "      <td>2017-11-19</td>\n",
       "      <td>67.3500</td>\n",
       "      <td>68.158</td>\n",
       "      <td>67.15800</td>\n",
       "      <td>67.886</td>\n",
       "      <td>2025692.20</td>\n",
       "    </tr>\n",
       "    <tr>\n",
       "      <th>250</th>\n",
       "      <td>A</td>\n",
       "      <td>2017-11-26</td>\n",
       "      <td>69.3275</td>\n",
       "      <td>69.950</td>\n",
       "      <td>68.43250</td>\n",
       "      <td>69.480</td>\n",
       "      <td>3382786.50</td>\n",
       "    </tr>\n",
       "    <tr>\n",
       "      <th>251</th>\n",
       "      <td>A</td>\n",
       "      <td>2017-12-03</td>\n",
       "      <td>69.4880</td>\n",
       "      <td>70.170</td>\n",
       "      <td>68.49600</td>\n",
       "      <td>69.304</td>\n",
       "      <td>2051192.20</td>\n",
       "    </tr>\n",
       "  </tbody>\n",
       "</table>\n",
       "<p>252 rows × 7 columns</p>\n",
       "</div>"
      ],
      "text/plain": [
       "    Name       date     open    high       low   close      volume\n",
       "0      A 2013-02-10  45.0700  45.350  45.00000  45.080  1824755.00\n",
       "1      A 2013-02-17  44.5980  44.878  44.04000  44.160  5165006.80\n",
       "2      A 2013-02-24  42.2550  42.545  41.87125  42.170  3689833.75\n",
       "3      A 2013-03-03  41.3320  41.891  40.89800  41.480  3985236.20\n",
       "4      A 2013-03-10  42.7800  43.178  42.51800  42.842  2878377.80\n",
       "..   ...        ...      ...     ...       ...     ...         ...\n",
       "247    A 2017-11-05  67.9820  68.318  67.66000  68.008  1349637.60\n",
       "248    A 2017-11-12  68.3660  68.578  67.95220  68.272  1206826.00\n",
       "249    A 2017-11-19  67.3500  68.158  67.15800  67.886  2025692.20\n",
       "250    A 2017-11-26  69.3275  69.950  68.43250  69.480  3382786.50\n",
       "251    A 2017-12-03  69.4880  70.170  68.49600  69.304  2051192.20\n",
       "\n",
       "[252 rows x 7 columns]"
      ]
     },
     "execution_count": 107,
     "metadata": {},
     "output_type": "execute_result"
    }
   ],
   "source": [
    "train"
   ]
  },
  {
   "cell_type": "code",
<<<<<<< HEAD
   "execution_count": 274,
=======
   "execution_count": 229,
>>>>>>> ad24471c02b41a7717e79dadb6fad3f7658635b7
   "id": "7b948001-54ae-4d1a-a6cf-39d8cd638d1e",
   "metadata": {},
   "outputs": [],
   "source": [
<<<<<<< HEAD
    "#model = Naive(time_col=\"date\", target_cols=[\"open\"], regressor_cols=None, freq=\"W\")\n",
    "#model = Drift(time_col=\"date\", target_cols=\"open\", regressor_cols=None, freq=None)\n",
    "#model = Mean(time_col=\"date\", target_cols=\"open\", regressor_cols=None, freq=None)\n",
    "model = ARIMA(time_col=\"date\", target_cols=[\"open\"], regressor_cols=[\"close\"], freq=None, order=(5, 1, 0))\n",
=======
    "#model = Naive(time_col=\"date\", target_cols=\"open\", regressor_cols=None, freq=\"W\")\n",
    "#model = Drift(time_col=\"date\", target_cols=\"open\", regressor_cols=None, freq=None)\n",
    "#model = Mean(time_col=\"date\", target_cols=\"open\", regressor_cols=None, freq=None)\n",
    "model = ARIMA(time_col=\"date\", target_cols=[\"open\"], regressor_cols=None, freq=None, order=(5, 1, 0))\n",
>>>>>>> ad24471c02b41a7717e79dadb6fad3f7658635b7
    "#model = ETS(time_col=\"date\", target_cols=[\"open\"], regressor_cols=None, freq=None, trend=\"add\", damped_trend=True)\n",
    "#model = AutoRegression(time_col=\"date\", target_cols=\"open\", regressor_cols=None, freq=None, lags=5, trend=\"n\")\n",
    "#model = AutoARIMA(time_col=\"date\", target_cols=\"open\", regressor_cols=None, freq=\"W\")\n",
    "#model = VAR(time_col=\"date\", target_cols=[\"open\", \"volume\"], regressor_cols=[\"close\"])\n",
    "#model_alt = ARIMAm(time_col=\"date\", target_cols=[\"open\"], regressor_cols=None, order=(5, 1, 0))"
   ]
  },
  {
   "cell_type": "code",
<<<<<<< HEAD
   "execution_count": 276,
=======
   "execution_count": 230,
>>>>>>> ad24471c02b41a7717e79dadb6fad3f7658635b7
   "id": "ef903024-1305-4a74-9f7f-beb600a5201f",
   "metadata": {},
   "outputs": [],
   "source": [
    "#model_darts = ExponentialSmoothing(trend=ModelMode.ADDITIVE, damped=True, seasonal=SeasonalityMode.NONE)\n",
<<<<<<< HEAD
    "model_darts = arima_darts(p=5, d=1, q=0)\n",
    "#model_darts = NaiveSeasonal()"
=======
    "model_darts = arima_darts(p=5, d=1, q=0)"
>>>>>>> ad24471c02b41a7717e79dadb6fad3f7658635b7
   ]
  },
  {
   "cell_type": "code",
<<<<<<< HEAD
   "execution_count": 277,
=======
   "execution_count": 231,
>>>>>>> ad24471c02b41a7717e79dadb6fad3f7658635b7
   "id": "abcbf5a8-4e91-4f80-8389-b5806a00ef87",
   "metadata": {},
   "outputs": [
    {
     "data": {
      "text/plain": [
<<<<<<< HEAD
       "ARIMA(time_col='date', freq='W-SUN', target_cols=['open'], regressor_cols=['close'], order=(5, 1, 0), seasonal_order=(0, 0, 0, 0), trend=None, arima_params={}, fit_params={})"
      ]
     },
     "execution_count": 277,
=======
       "ARIMA(time_col='date', freq='W-SUN', target_cols=['open'], regressor_cols=None, order=(5, 1, 0), seasonal_order=(0, 0, 0, 0), trend=None, arima_params={}, fit_params={})"
      ]
     },
     "execution_count": 231,
>>>>>>> ad24471c02b41a7717e79dadb6fad3f7658635b7
     "metadata": {},
     "output_type": "execute_result"
    }
   ],
   "source": [
    "model.fit(train)"
   ]
  },
  {
   "cell_type": "code",
<<<<<<< HEAD
   "execution_count": 279,
=======
   "execution_count": 232,
>>>>>>> ad24471c02b41a7717e79dadb6fad3f7658635b7
   "id": "f708286c-6d38-4bb0-804b-90188feb496c",
   "metadata": {},
   "outputs": [],
   "source": [
<<<<<<< HEAD
    "model_darts.fit(ts_train, cov_train)"
=======
    "model_darts.fit(ts_train)"
>>>>>>> ad24471c02b41a7717e79dadb6fad3f7658635b7
   ]
  },
  {
   "cell_type": "code",
<<<<<<< HEAD
   "execution_count": 280,
=======
   "execution_count": 233,
>>>>>>> ad24471c02b41a7717e79dadb6fad3f7658635b7
   "id": "1c9c6c9e-7abb-49e1-b9af-ec9a0ce18264",
   "metadata": {},
   "outputs": [
    {
     "data": {
      "text/html": [
       "<div>\n",
       "<style scoped>\n",
       "    .dataframe tbody tr th:only-of-type {\n",
       "        vertical-align: middle;\n",
       "    }\n",
       "\n",
       "    .dataframe tbody tr th {\n",
       "        vertical-align: top;\n",
       "    }\n",
       "\n",
       "    .dataframe thead th {\n",
       "        text-align: right;\n",
       "    }\n",
       "</style>\n",
       "<table border=\"1\" class=\"dataframe\">\n",
       "  <thead>\n",
       "    <tr style=\"text-align: right;\">\n",
       "      <th></th>\n",
       "      <th>date</th>\n",
       "      <th>close</th>\n",
       "      <th>open_fcst</th>\n",
       "      <th>open_lower</th>\n",
       "      <th>open_upper</th>\n",
       "    </tr>\n",
       "  </thead>\n",
       "  <tbody>\n",
       "    <tr>\n",
       "      <th>0</th>\n",
       "      <td>2017-12-10</td>\n",
       "      <td>66.410000</td>\n",
<<<<<<< HEAD
       "      <td>66.389643</td>\n",
       "      <td>65.903553</td>\n",
       "      <td>66.875734</td>\n",
=======
       "      <td>69.290341</td>\n",
       "      <td>66.682271</td>\n",
       "      <td>71.898412</td>\n",
>>>>>>> ad24471c02b41a7717e79dadb6fad3f7658635b7
       "    </tr>\n",
       "    <tr>\n",
       "      <th>1</th>\n",
       "      <td>2017-12-17</td>\n",
       "      <td>66.972000</td>\n",
<<<<<<< HEAD
       "      <td>66.869279</td>\n",
       "      <td>66.377460</td>\n",
       "      <td>67.361097</td>\n",
=======
       "      <td>69.408055</td>\n",
       "      <td>65.679393</td>\n",
       "      <td>73.136717</td>\n",
>>>>>>> ad24471c02b41a7717e79dadb6fad3f7658635b7
       "    </tr>\n",
       "    <tr>\n",
       "      <th>2</th>\n",
       "      <td>2017-12-24</td>\n",
       "      <td>67.536000</td>\n",
<<<<<<< HEAD
       "      <td>67.429043</td>\n",
       "      <td>66.927294</td>\n",
       "      <td>67.930792</td>\n",
=======
       "      <td>69.490810</td>\n",
       "      <td>65.046330</td>\n",
       "      <td>73.935291</td>\n",
>>>>>>> ad24471c02b41a7717e79dadb6fad3f7658635b7
       "    </tr>\n",
       "    <tr>\n",
       "      <th>3</th>\n",
       "      <td>2017-12-31</td>\n",
       "      <td>67.242500</td>\n",
<<<<<<< HEAD
       "      <td>67.153639</td>\n",
       "      <td>66.644452</td>\n",
       "      <td>67.662826</td>\n",
=======
       "      <td>69.710919</td>\n",
       "      <td>64.540254</td>\n",
       "      <td>74.881585</td>\n",
>>>>>>> ad24471c02b41a7717e79dadb6fad3f7658635b7
       "    </tr>\n",
       "    <tr>\n",
       "      <th>4</th>\n",
       "      <td>2018-01-07</td>\n",
       "      <td>68.905000</td>\n",
<<<<<<< HEAD
       "      <td>68.859083</td>\n",
       "      <td>68.325687</td>\n",
       "      <td>69.392478</td>\n",
=======
       "      <td>69.720700</td>\n",
       "      <td>63.794237</td>\n",
       "      <td>75.647163</td>\n",
>>>>>>> ad24471c02b41a7717e79dadb6fad3f7658635b7
       "    </tr>\n",
       "    <tr>\n",
       "      <th>5</th>\n",
       "      <td>2018-01-14</td>\n",
       "      <td>71.028000</td>\n",
<<<<<<< HEAD
       "      <td>70.976738</td>\n",
       "      <td>70.422815</td>\n",
       "      <td>71.530662</td>\n",
=======
       "      <td>69.694077</td>\n",
       "      <td>62.972490</td>\n",
       "      <td>76.415664</td>\n",
>>>>>>> ad24471c02b41a7717e79dadb6fad3f7658635b7
       "    </tr>\n",
       "    <tr>\n",
       "      <th>6</th>\n",
       "      <td>2018-01-21</td>\n",
       "      <td>72.137500</td>\n",
<<<<<<< HEAD
       "      <td>72.049853</td>\n",
       "      <td>71.471540</td>\n",
       "      <td>72.628165</td>\n",
=======
       "      <td>69.733252</td>\n",
       "      <td>62.306260</td>\n",
       "      <td>77.160244</td>\n",
>>>>>>> ad24471c02b41a7717e79dadb6fad3f7658635b7
       "    </tr>\n",
       "    <tr>\n",
       "      <th>7</th>\n",
       "      <td>2018-01-28</td>\n",
       "      <td>73.836000</td>\n",
<<<<<<< HEAD
       "      <td>73.736014</td>\n",
       "      <td>73.145531</td>\n",
       "      <td>74.326496</td>\n",
=======
       "      <td>69.765883</td>\n",
       "      <td>61.700266</td>\n",
       "      <td>77.831501</td>\n",
>>>>>>> ad24471c02b41a7717e79dadb6fad3f7658635b7
       "    </tr>\n",
       "    <tr>\n",
       "      <th>8</th>\n",
       "      <td>2018-02-04</td>\n",
       "      <td>73.006000</td>\n",
<<<<<<< HEAD
       "      <td>72.917090</td>\n",
       "      <td>72.311832</td>\n",
       "      <td>73.522348</td>\n",
=======
       "      <td>69.787322</td>\n",
       "      <td>61.103112</td>\n",
       "      <td>78.471532</td>\n",
>>>>>>> ad24471c02b41a7717e79dadb6fad3f7658635b7
       "    </tr>\n",
       "    <tr>\n",
       "      <th>9</th>\n",
       "      <td>2018-02-11</td>\n",
       "      <td>68.243333</td>\n",
<<<<<<< HEAD
       "      <td>68.179358</td>\n",
       "      <td>67.558959</td>\n",
       "      <td>68.799758</td>\n",
=======
       "      <td>69.787121</td>\n",
       "      <td>60.506272</td>\n",
       "      <td>79.067970</td>\n",
>>>>>>> ad24471c02b41a7717e79dadb6fad3f7658635b7
       "    </tr>\n",
       "  </tbody>\n",
       "</table>\n",
       "</div>"
      ],
      "text/plain": [
       "        date      close  open_fcst  open_lower  open_upper\n",
<<<<<<< HEAD
       "0 2017-12-10  66.410000  66.389643   65.903553   66.875734\n",
       "1 2017-12-17  66.972000  66.869279   66.377460   67.361097\n",
       "2 2017-12-24  67.536000  67.429043   66.927294   67.930792\n",
       "3 2017-12-31  67.242500  67.153639   66.644452   67.662826\n",
       "4 2018-01-07  68.905000  68.859083   68.325687   69.392478\n",
       "5 2018-01-14  71.028000  70.976738   70.422815   71.530662\n",
       "6 2018-01-21  72.137500  72.049853   71.471540   72.628165\n",
       "7 2018-01-28  73.836000  73.736014   73.145531   74.326496\n",
       "8 2018-02-04  73.006000  72.917090   72.311832   73.522348\n",
       "9 2018-02-11  68.243333  68.179358   67.558959   68.799758"
      ]
     },
     "execution_count": 280,
=======
       "0 2017-12-10  66.410000  69.290341   66.682271   71.898412\n",
       "1 2017-12-17  66.972000  69.408055   65.679393   73.136717\n",
       "2 2017-12-24  67.536000  69.490810   65.046330   73.935291\n",
       "3 2017-12-31  67.242500  69.710919   64.540254   74.881585\n",
       "4 2018-01-07  68.905000  69.720700   63.794237   75.647163\n",
       "5 2018-01-14  71.028000  69.694077   62.972490   76.415664\n",
       "6 2018-01-21  72.137500  69.733252   62.306260   77.160244\n",
       "7 2018-01-28  73.836000  69.765883   61.700266   77.831501\n",
       "8 2018-02-04  73.006000  69.787322   61.103112   78.471532\n",
       "9 2018-02-11  68.243333  69.787121   60.506272   79.067970"
      ]
     },
     "execution_count": 233,
>>>>>>> ad24471c02b41a7717e79dadb6fad3f7658635b7
     "metadata": {},
     "output_type": "execute_result"
    }
   ],
   "source": [
    "future = model.get_future_dataframe(train, fh=10)\n",
    "future = future.merge(data[[\"date\", \"close\"]], on=\"date\")\n",
    "fcst = model.predict(future, conf_int=0.95)\n",
    "fcst"
   ]
  },
  {
   "cell_type": "code",
<<<<<<< HEAD
   "execution_count": 282,
=======
   "execution_count": 234,
>>>>>>> ad24471c02b41a7717e79dadb6fad3f7658635b7
   "id": "1e57743d-0131-426f-94c1-27755b97da9e",
   "metadata": {},
   "outputs": [
    {
     "data": {
      "text/html": [
       "<div>\n",
       "<style scoped>\n",
       "    .dataframe tbody tr th:only-of-type {\n",
       "        vertical-align: middle;\n",
       "    }\n",
       "\n",
       "    .dataframe tbody tr th {\n",
       "        vertical-align: top;\n",
       "    }\n",
       "\n",
       "    .dataframe thead th {\n",
       "        text-align: right;\n",
       "    }\n",
       "</style>\n",
       "<table border=\"1\" class=\"dataframe\">\n",
       "  <thead>\n",
       "    <tr style=\"text-align: right;\">\n",
       "      <th></th>\n",
       "      <th>time</th>\n",
       "      <th>open</th>\n",
       "    </tr>\n",
       "  </thead>\n",
       "  <tbody>\n",
       "    <tr>\n",
       "      <th>0</th>\n",
       "      <td>2017-12-10</td>\n",
<<<<<<< HEAD
       "      <td>66.389643</td>\n",
=======
       "      <td>69.290341</td>\n",
>>>>>>> ad24471c02b41a7717e79dadb6fad3f7658635b7
       "    </tr>\n",
       "    <tr>\n",
       "      <th>1</th>\n",
       "      <td>2017-12-17</td>\n",
<<<<<<< HEAD
       "      <td>66.869279</td>\n",
=======
       "      <td>69.408055</td>\n",
>>>>>>> ad24471c02b41a7717e79dadb6fad3f7658635b7
       "    </tr>\n",
       "    <tr>\n",
       "      <th>2</th>\n",
       "      <td>2017-12-24</td>\n",
<<<<<<< HEAD
       "      <td>67.429043</td>\n",
=======
       "      <td>69.490810</td>\n",
>>>>>>> ad24471c02b41a7717e79dadb6fad3f7658635b7
       "    </tr>\n",
       "    <tr>\n",
       "      <th>3</th>\n",
       "      <td>2017-12-31</td>\n",
<<<<<<< HEAD
       "      <td>67.153639</td>\n",
=======
       "      <td>69.710919</td>\n",
>>>>>>> ad24471c02b41a7717e79dadb6fad3f7658635b7
       "    </tr>\n",
       "    <tr>\n",
       "      <th>4</th>\n",
       "      <td>2018-01-07</td>\n",
<<<<<<< HEAD
       "      <td>68.859083</td>\n",
=======
       "      <td>69.720700</td>\n",
>>>>>>> ad24471c02b41a7717e79dadb6fad3f7658635b7
       "    </tr>\n",
       "    <tr>\n",
       "      <th>5</th>\n",
       "      <td>2018-01-14</td>\n",
<<<<<<< HEAD
       "      <td>70.976738</td>\n",
=======
       "      <td>69.694077</td>\n",
>>>>>>> ad24471c02b41a7717e79dadb6fad3f7658635b7
       "    </tr>\n",
       "    <tr>\n",
       "      <th>6</th>\n",
       "      <td>2018-01-21</td>\n",
<<<<<<< HEAD
       "      <td>72.049853</td>\n",
=======
       "      <td>69.733252</td>\n",
>>>>>>> ad24471c02b41a7717e79dadb6fad3f7658635b7
       "    </tr>\n",
       "    <tr>\n",
       "      <th>7</th>\n",
       "      <td>2018-01-28</td>\n",
<<<<<<< HEAD
       "      <td>73.736014</td>\n",
=======
       "      <td>69.765883</td>\n",
>>>>>>> ad24471c02b41a7717e79dadb6fad3f7658635b7
       "    </tr>\n",
       "    <tr>\n",
       "      <th>8</th>\n",
       "      <td>2018-02-04</td>\n",
<<<<<<< HEAD
       "      <td>72.917090</td>\n",
=======
       "      <td>69.787322</td>\n",
>>>>>>> ad24471c02b41a7717e79dadb6fad3f7658635b7
       "    </tr>\n",
       "    <tr>\n",
       "      <th>9</th>\n",
       "      <td>2018-02-11</td>\n",
<<<<<<< HEAD
       "      <td>68.179358</td>\n",
=======
       "      <td>69.787121</td>\n",
>>>>>>> ad24471c02b41a7717e79dadb6fad3f7658635b7
       "    </tr>\n",
       "  </tbody>\n",
       "</table>\n",
       "</div>"
      ],
      "text/plain": [
       "        time       open\n",
<<<<<<< HEAD
       "0 2017-12-10  66.389643\n",
       "1 2017-12-17  66.869279\n",
       "2 2017-12-24  67.429043\n",
       "3 2017-12-31  67.153639\n",
       "4 2018-01-07  68.859083\n",
       "5 2018-01-14  70.976738\n",
       "6 2018-01-21  72.049853\n",
       "7 2018-01-28  73.736014\n",
       "8 2018-02-04  72.917090\n",
       "9 2018-02-11  68.179358"
      ]
     },
     "execution_count": 282,
=======
       "0 2017-12-10  69.290341\n",
       "1 2017-12-17  69.408055\n",
       "2 2017-12-24  69.490810\n",
       "3 2017-12-31  69.710919\n",
       "4 2018-01-07  69.720700\n",
       "5 2018-01-14  69.694077\n",
       "6 2018-01-21  69.733252\n",
       "7 2018-01-28  69.765883\n",
       "8 2018-02-04  69.787322\n",
       "9 2018-02-11  69.787121"
      ]
     },
     "execution_count": 234,
>>>>>>> ad24471c02b41a7717e79dadb6fad3f7658635b7
     "metadata": {},
     "output_type": "execute_result"
    }
   ],
   "source": [
<<<<<<< HEAD
    "ts_fcst = model_darts.predict(10, cov_test)\n",
=======
    "ts_fcst = model_darts.predict(10)\n",
>>>>>>> ad24471c02b41a7717e79dadb6fad3f7658635b7
    "fcst_darts = ts_fcst.pd_dataframe()\n",
    "fcst_darts.columns.name = None\n",
    "fcst_darts.reset_index()"
   ]
  },
  {
   "cell_type": "code",
<<<<<<< HEAD
   "execution_count": 283,
=======
   "execution_count": 235,
>>>>>>> ad24471c02b41a7717e79dadb6fad3f7658635b7
   "id": "740ba25e-0b3d-4211-9641-8d4ed18a4bed",
   "metadata": {},
   "outputs": [
    {
     "data": {
<<<<<<< HEAD
      "image/png": "iVBORw0KGgoAAAANSUhEUgAAAsgAAAEYCAYAAABBfQDEAAAAOXRFWHRTb2Z0d2FyZQBNYXRwbG90bGliIHZlcnNpb24zLjQuMiwgaHR0cHM6Ly9tYXRwbG90bGliLm9yZy8rg+JYAAAACXBIWXMAAAsTAAALEwEAmpwYAABlaUlEQVR4nO3dd1gVx9fA8S9dwN672BUSRVlRESKxRxN7R40ae+wm0Z8aa9RYE2vUJGrsXaOxd0Fsa4k1dqNiV7ABSpn3D5UXQvECFy7lfJ6HR+7uzOxZGC+HYXbGTCmFEEIIIYQQ4i1zUwcghBBCCCFESiIJshBCCCGEEJFIgiyEEEIIIUQkkiALIYQQQggRiSTIQgghhBBCRGKZHBe5f/++yps3b3JcSpjQ/fv3ke+ziI30DxEX6R8iNtI3hKES2FfMYjqYLCPIYWFhyXEZYWLyfRZxkf4h4iL9Q8RG+oYwlDH7ikyxEEIIIYQQIhJJkIUQQgghhIhEEmQhhBBCCCEi+eBDepqmVQUmvHuZH9gCVAAsgDDgd13XlyRZhEIIIYQQQiSjDybIuq4fBjwBNE1bBGzkbYL8ma7rL5MwNiGEEEIIIZKdwVMsNE2zBlwBbyAc2Kpp2iZN04okVXBCCCGEEEIkt/isg1wL2KPrerimaS10XX+iaVp1YCbQ8L+FNU3rBnQD6N69O/Xr1zdKwCLlCgkJwc/Pz9RhiBRK+oeIi/QPERvpG8JQCekrBQoUiPG4mVLKoAY0TVsILNR1/eB/juu6rmtx1fXz81OxBSDSDj8/v1g7mhDSP0RcpH+I2EjfEIZKYF9J+EYhmqZZAZUAn3evM7/71xHwj28kQgghhBBCpFSGzkGuBezVdT383eu9mqZ5A/OAQUkSWRp0+vRptm7dGu96d+/epXnz5kkQkRBCCCFE2nc9IJAHL4MNLm/QHGRd17cB2yK9jnNKhYjZ6dOn0XU9xvnYoaGhWFrG/O3Inz8/a9euTerwhBBCCCHSHKUUN/2fE44F2W2tsbL48PhwfB7SSzJv3rzh5s2bRm/XwcEBa2vrWM9PmzaNBQsWANClSxcaN25MvXr1cHFx4eTJkzg5ObF48WLs7Ow4ceIEAwcO5OXLl+TMmZNFixaRL18+PD09qVy5Mvv27SMgIIDff/8dDw+PGO9xxIgRBAUF4ePjw//+9z8uXrzItWvXuH79OoULF2bChAm0b9+eV69eATBr1izc3Ny4efMmn3/+OefOnWPRokVs2rSJwMBArl27RpMmTZg0aZLRv3ZCCCGEEGnB81sHCf99PEXqVuSy3Tc45cnxwTopIkG+efMmpUuXNnq7ly5dolSpUjGeO3HiBAsXLuTo0aMopahcuTLVq1fn0qVL/P7771SrVo3OnTszZ84c+vXrR58+ffjzzz/JlSsXq1atYtiwYRHJdWhoKMeOHWPr1q2MHj2a3bt3R7uetbU1Y8aMQdd1Zs2aBcCoUaO4cOECPj4+2NraEhgYyK5du8iQIQNXrlyhTZs26Loera3Tp09z6tQpbGxsKF26NH369KFQoUJG/MoJIYQQQqQNqxbcpPu4HWwJa4T7E09eVFtOplwfx1knRSTIDg4OXLp0KUnajY2Pjw9NmjTB3t4egKZNm+Lt7U2hQoWoVq0aAO3atWPGjBnUq1ePc+fOUbt2bQDCwsLIly9fRFtNmzYFwMXFJd4j4Q0bNsTW1hZ4uzxJ7969OX36NBYWFly+fDnGOjVr1iRLliwAODo68u+//0qCLIQQQggRg117cwLQY8UqTlasgjo1kkx11sdZJ0UkyNbW1rGO9CY3MzOzaK+VUjg5OXH48OEY69jY2ABgYWFBaGhovK73PkEH+Omnn8iTJw9///034eHhZMiQIc7rJfSaQgghhBDpQZD/v+w+6UaXbpdZvrwEk3aM4X8NxxEaHo6leexzkQ3eSS+t8fDwYOPGjQQGBvLq1Ss2bNiAh4cHt27dikiEly9fjru7O6VLl+bRo0cRx0NCQjh//ny8r5kpUyZevHgR6/lnz56RL18+zM3NWbJkCWFhYQm7OSGEEEIIwYG/ThEQmI3qbTPTvl8gM5d+xsO75rwODY+zXrpNkCtWrEjHjh1xdXWlcuXKdOnShWzZslG6dGlmz55N2bJl8ff3p2fPnlhbW7N27VoGDx5M+fLlcXZ2xtfXN97X/PTTT7lw4QLOzs6sWrUq2vlevXrxxx9/UL58ef75558oo8tCCCGEECJ+dmwNpXSRm+QuZM4X7QMpkP8lP6/ryOvQuAchDd5JLzFSy056kVeLEPEnux2JuEj/EHGR/iFiI31DGOq/fUWFhVCu2GVcPV7RemxRMllbMnWQP/7nrrP0oBN5s+eDxOykJ4QQQgghRGryz4mTnLvlRLnamcltZ41Trkxkz2eFn38BwgL94qwrCXIkDg4ORhk93rFjB87OzlE+mjRpYoQIhRBCCCGEITav8yOL3XNKVMlO3owZyGRtSdFimbnrn5+wV3EnyCliFYu0pm7dutStW9fUYQghhBBCpEtBoWHs25cDD9dLWFoVIXsGKwAqlM7E8yBznj96CHFswSEjyEIIIYQQIk05/fdV9p6qQpU64WS2sYzYXrpwobf/3r/9Ms76MoIshBBCCCHSjNDwcBb99IBcWTLi3KQw+ez/f/+I98/wPbob9x4SMoIshBBCCCHSjMt3g1m1wZlOLXyxtLYgp93/J8iZMoFdhmCePni7EVxsJEFORqdPn2br1q0JqhsQEMCcOXOMHJEQQgghRNoyf+Z9IJxPO2TD2sIceyuLiHNmZpAv13MeP7TmTZgkyCmCJMhCCCGEEEnnVXA4qxZm46s6KwjJ/TFFMttiZhZ1qeO8eYJ58NCe13HsWJyuE+Rp06bx0Ucf8dFHH/Hzzz9z8+ZNypQpg5eXF2XLlqV58+YEBgYCcOLECapXr46Liwt169bl3r17AHh6ejJ48GBcXV0pVaoU3t7eMV7rzZs3jBgxglWrVkXspPfq1Ss6d+6Mq6srFSpU4M8//wTg/PnzuLq64uzsTLly5bhy5QpDhgzh2rVrODs78+233ybPF0gIIYQQIhVZsiKUp/52NG/3EHNzMwplto1WJl++MB4+ycqbOHbTSxkP6YW9gVc3jd+uvQNYWMd46sSJEyxcuJCjR4+ilKJy5cpUr16dS5cu8fvvv1OtWjU6d+7MnDlz6NevH3369OHPP/8kV65crFq1imHDhrFgwQIAQkNDOXbsGFu3bmX06NHs3r072vWsra0ZM2YMuq4za9YsAIYOHUqNGjVYsGABAQEBuLq6UqtWLebOnUu/fv3w8vLizZs3hIWF8eOPP3Lu3DlOnz5t/K+TEEIIIUQasPPPp9T5+DhhZWpSOLNtxOoVkRUoaMGxf/IREvQI7AvF2E7KSJBf3YS/4liMLqE+vwSZS8V4ysfHhyZNmmBvbw9A06ZN8fb2plChQlSrVg2Adu3aMWPGDOrVq8e5c+eoXbs2AGFhYeTLly+iraZNmwLg4uLCzZs3DQ5v586dbNq0iSlTpgAQHBzMrVu3qFq1KuPGjePOnTs0bdqUkiVLxvvWhRBCCCHSG/2oFV1qXeaVbXu0LHYxlslfyJa7/vkJDbwLJDBB1jStKjDhfZvAFmAdMAkIB3rqun42/rcQib3D22TW2Owd4l3lv/NUzMzePuXo5OTE4cOHY6xjY/P26UgLCwtCQ+NeNiQypRTr1q2jdOmovxyULVuWypUrs2XLFurXr8+8efMoVqxYPO9ECCGEECL9uHfPnNv3c+DkEkSBTBnIYGkRY7nCRTNz1z8Lb16cjLWtD85B1nX9sK7rnrquewK+wEZgHNAAaAtMjP8t/IeF9duRXmN/xDK9AsDDw4ONGzcSGBjIq1ev2LBhAx4eHty6dSsiEV6+fDnu7u6ULl2aR48eRRwPCQnh/Pnz8b7NTJky8eLFi4jXdevWZebMmRHLjJw6dQqA69evU6xYMfr27UujRo04c+ZMtLpCCCGEEOL/HTtmhbXlaxwqZMIhltFjgEKFrAkJs+bx3aexljH4IT1N06wBV0AHwnRd99d1/RaQ3fDQU46KFSvSsWNHXF1dqVy5Ml26dCFbtmyULl2a2bNnU7ZsWfz9/enZsyfW1tasXbuWwYMHU758eZydnfH19Y33NT/99FMuXLgQ8ZDe999/T0hICOXKlcPJyYnvv/8egNWrV/PRRx/h7OzMuXPn6NChAzly5KBatWp89NFH8pCeEEIIIcR/6EeC0YrqhOQsF2Vpt/8qWPDtbIEHtwNjLWMW1yLJkWmaVh/4jLfTLebout743XEfoIau62/+U74b0A2ge/fuLvXr1zfoOqZ0+/ZtOnbsyJ49e0wdSqoUEhKClZWVqcMQKZT0DxEX6R8iNtI3hKHq17SkbqmldJ3eBDtrm1jLvXkDxYoVYMUPU2k9bJBZTGXi85BeC2AhEABkjtzGf5NjAF3X5wPzAfz8/FSB93v7pWAhISFYWlqSGmJNifz8/ORrJ2Il/UPERfqHiI30jfRHKRXtmbAPef5cce6KYnCzu9hkz0uBOKZYAOTM+ow7D61Yf+meTdPS+V7/97xBUyw0TbMCKgE+uq4HApaapmXVNK0QEPsEjlTGwcGBc+fOJbqdHTt24OzsHOWjSZMmRohQCCGEECLtUUpx9OhRvv32W0qUKIGfn1+86h/0DSc83JyymiJrhg//xSFfrpc8emADkCum84aOINcC9uq6Hv7u9XBgK6CAXga2kW7UrVuXunXrmjoMIYQQQohU4csvv2TJkiU4OTnRrl07LC3jtxLx/gOhlMl/BYsCJcho/eG6efO85tHjjAC5gTv/PW/Q1XVd3wZsi/T6IOBmaNBCCCGEEELEJCQkhHXr1jF79mx69UrYuOth70CqlfJBZauEuQHTM/LnV9y/nA1iGUFO11tNCyGEEEII09J1ncDAQBK6oENIiOL0KXvcyuhkzFHGoDr5Clhy92l+SOQUCyGEEEIIIYzuwIEDODg44ODgkKD6+w+FERhojavLU7LZxr56RWQFi9hxN8AWCIvxCVAZQRZCCCGEECazf/9+qlevnuD6f/4VTskCN8hbIieZbQxbErCQQxYePc8NkCWm85IgCyGEEEKIZHHmzBk++eQTDh48CLydf+zj44Onp2eC29yzU9Gg3J+8zlgeS3PDlocrXCRit+XMMZ2XBDmZtWnThnLlyvHTTz/Fq9748eOTKCIhhBBCiKS3dOlSqlSpwokTJxgyZAhKKU6ePMmrV68SnCDf8gvnn7M21KuwhzfZDF8/In/+iE9zxnReEuRkdP/+fY4fP86ZM2cYMGBAvOpKgiyEEEKI1OjNmzf07t2b9u3bM2jQIPbv38/hw4fZv38/+/fvp3Dhwgmef7zhz1fY27ykkKcj5tbZDK6XMyf0HvUCYkmQU8RDem/ewM2bxm/XwQGsrWM/P23aNBYsWABAly5daNy4MfXq1cPFxYWTJ0/i5OTE4sWLsbOz48SJEwwcOJCXL1+SM2dOFi1aRL58+fD09KRy5crs27ePgIAAfv/9dzw8PGK8Xp06dfDz88PZ2ZmZM2eSL18+evTowaNHj7CwsGDNmjXY2dnRqlUrnj9/TmhoKL/88gtbtmwhKCgIZ2dnnJycWLZsmfG/WEIIIYQQRnbnzh1atGjBxYsX2bRpE1988QUA9evXZ9y4cVhZWcVr9Dj87g6CTvyPO05zKFy4EnvW3+LTj/7lfpEulDZwegWAuTk0+jKY56/JEWMBpVSSf9y5c0fF5dIlpcD4H5cuxX5NXdfVRx99pF6+fKlevHihHB0d1cmTJxWgfHx8lFJKderUSU2ePFm9efNGVa1aVT18+FAppdTKlStVp06dlFJKVa9eXQ0cOFAppdSWLVtUzZo1Y73mjRs3lJOTU8RrV1dXtX79eqWUUkFBQerVq1dqypQp6ocfflBKKRUaGqqeP3+ulFLK3t4+zq9hSvCh77NI36R/iLhI/xCxkb6Ret24cUPlzp1blS9fXl29ejXKOV9fXwUoS0tLtWDBAoPaCw96qN6sya1er8qm3qzMoo4cWaay2AWo0YPWKf2uf7z7ysFbj9W6f+6eUjHkriliBNnBAS5dSpp2Y+Pj40OTJk2wt7cHoGnTpnh7e1OoUCGqVasGQLt27ZgxYwb16tXj3Llz1K5dG4CwsDDy5csX0VbTpk0BcHFx4aaBQ+EvXrzAz88vYgvqDBkyAFCpUiU6d+5MSEgIjRs3xtnZOR53LIQQQgiRMvTv35+8efPi6+uLnZ1dlHNVq1bl008/Zd++fYaNICvFq0Nd2XS0Cd9vmk7/RvP4+Ox8ngW2pcQXLuTNaAPPX8Urvjx2NjwKfHM1pnMpIkG2toZSpUwdxVtm/9l9xczMDKUUTk5OHD58OMY6NjZv19yzsLAgNDQ0Udd//2Tnli1b6NixIwMHDqRDhw6JalMIIYQQIjlt27aNP//8E29v72jJ8XsTJ05k5syZBs0/fnpxAecPPqHTjHWUKhfOgJ/6kMGqOyWKPyVHIVty2Frz5Hn8YiyVIyOlcmRsEdO5dPuQnoeHBxs3biQwMJBXr16xYcMGPDw8uHXrVkQivHz5ctzd3SldujSPHj2KOB4SEsL58+cTdf1MmTJRsGBBNm7cCMDr168JDAzk33//JU+ePHTt2pUuXbpw8uRJAKysrAgJCUnUNYUQQgghklpwcDB9+vShffv2uLu7x1quUqVKLF68ONrgZBThoTw7+QP3t/1Mw5+3U61uKD+tesbvO/ypVBMadLLCztKCDJYWRr2HFDGCbAoVK1akY8eOuLq6Am8f0suWLRulS5dm9uzZdO7cGUdHR3r27Im1tTVr166lb9++PHv2jNDQUPr374+Tk1OiYliyZAndu3dnxIgRWFlZsWbNGry9vZk8eTJWVlZkzJiRxYsXA9CtWzfKlStHxYoV5SE9IYQQQqQop0+fZvTo0eTKlYvHjx/z8OFDJk2alLhG/f/mjW9HHl0Pos7UIxQuY8V3k58TRjj5HMIZPuM5IeHh5M1ob5ybiMRMKWX0Rv/Lz89PFSgQ405+KcrNmzf5/PPPOXfunKlDSZX8/PxIDd9nYRrSP0RcpH+I2EjfSB169OjB1q1b+fjjj3nw4AEDBw6kbdu2iWv0wkRO+p6i/og/yJbbnImLn2OTMQwbC3MszMwIDA0DoHL+bGTNYJXQvhLj8HW6HUEWQgghhBCJFx4ezubNm+nXrx/fffed0dq9ZPYNdYZDnoLh/LjwOTb2YZibm+GaPysZLC3wex7EvVevyWJj/HRWEuRIHBwcjDJ6vGPHDgYPHhzlWNGiRdmwYUOi2xZCCCGESElOnjzJ3bt3I9Y4NpY16ywoUCSEH34PIIMdKDOolDcrdlZv09dCWewolCXmBwATSxLkJFC3bl3q1q1r6jCEEEIIIYzi4MGDLF68mFmzZkUsTfve5s2bKVGiBGXKlDHqNYcNg0otn4GFQgEuebOSJYOVUa8Rm3S7ioUQQgghhIjb69ev+e677/D09OT3339n+/bt0cps2rSJhg0bxr0aRQKYmYG1zdt/K+XPSg7bOLZHNjJJkIUQQgghRDRKKerXr8/8+fNZtmwZtWrVYs2aNVHK3Lp1i9OnT9OwYcMkiSGvvQ2V82cjW4bkS45BplgIIYQQQogY+Pj4sHfvXo4fP46mabx48YJvvvmG4ODgiGkWf/31F9myZYvYhdjYyubMlCTtfohBCbKmaZ7A97wdcZ4B9AMsgDDgd13XlyRVgEIIIYQQIvlNnTqVmjVromkaAE2aNKFXr17s2LGDRo0aAW+nV9SvXx9Ly7Q15vrBu9E0zRYYBHym6/qbd8f6vXv9MonjE0IIIYQQyezSpUts2rSJLVu2RBzLlSsXnp6erFmzhkaNGnHixAn27t3L8uXLTRhp0jBkDnJVIAjYrGnaBk3T8gLhwFZN0zZpmlYkSSMUQgghhBDJ6qeffqJs2bLUq1cvyvEWLVqwadMmbt++TZMmTahXrx5NmzY1UZRJ54M76Wma1gb4FqgC1AIaAsN0XX+iaVp1YJCu69FmZmua1g3oBtC9e3eX+vXrGzt2kcKEhIRgZZU8y6+I1Ef6h4iL9A8RG+kbye/Jkye4uroyfvx4WrVqFeXc48ePqVixIrlz5yZjxoxs3ryZTJlMM0/4vxLSVwoUKBDj0huGJMifAfV1Xe+jaZoNsFvXdY9I53Vd17W42kgtW02LxJHtQEVcpH+IuEj/ELGRvpH8hg8fzu+//87NmzexsbGJdr5mzZrous6xY8coXbq0CSKMmTG3mjZkisVxoKymaWaAM3Bd07TMAJqmOQL+8Y1ECCGEEEKkPI8fP2b69OkMGTIkxuQY4Ndff8XX1zdFJcfG9sGH9HRdf6xp2gbgAKCAzsBeTdOC3hX5OgnjE0IIIYQQyWTSpElkyZKF7t27x1qmWLFiyRiRaRi0Joeu67OB2ZEOxTmlQgghhBBCpC737t1j1qxZTJs2Ldp20umN7KQnhBBCCCGYMGECefLkoXPnzqYOxeTS1qrOQgghhBAi3h4/fsy8efP45ZdfsLZO3m2dUyIZQRZCCCGESOdWrVpFhgwZaNu2ralDSREkQRZCCCGESOeWLl1KixYt0v3c4/ckQRZCCCGESMeuXr3KkSNHaN++valDSTEkQRZCCCGESMeWLVtGoUKF8PDw+HDhdEISZCGEEEKIdEopxdKlS/Hy8sLcXNLC9+QrIYQQQgiRTh07doyrV6/Srl07U4eSokiCLIQQQgiRTi1duhRnZ2ecnJxMHUqKIgmyEEIIIUQ6FBoayurVq2VptxhIgiyEEEIIkQ4dOHCAhw8f0rJlS1OHkuJIgiyEEEIIkQ6tXLmSqlWrUqRIEVOHkuJIgiyEEEIIkc6EhISwfv16WrVqZepQUiRJkIUQQggh0oB9+/Zx5MgRg8ru3r0bf39/WrRokcRRpU6Wpg5ACCGEEEIkzqNHj2jSpAlmZmb8/fffFC5cOM7yK1eu5JNPPiF//vzJFGHqIiPIQgghhBCp3MiRI8mSJQtFihTBy8uL0NDQWMsGBwezceNGmV4RB0mQhRBCCCFSsbNnzzJv3jwmTZrEqlWrOHnyJGPHjo21/MaNGwkMDKRZs2bJGGXqIlMshBBCCCFSKaUUAwYMoGrVqrRs2RIzMzNmzZpFly5dKF26dLQ1jpVSTJ06ldatW5M7d24TRZ3yGZQga5rmCXzP2xHnGcAjYBIQDvTUdf1sUgUo0o6QkBCsrKxMHYYQQgiRIu3evZt169Yxe/ZszM0N+yP/9u3b2bNnD8ePH8fMzAyAjh07cvPmTdq1a8fDhw/p379/RHlvb290XefXX39NiltIMz741dc0zRYYBHym6/qnuq5vAMYBDYC2wMSkDVGkdkopevTowccff4xSytThCCGEECnOX3/9RYMGDZg7dy67d++OOP7mzRt+++03goKCotVRSjF27FiaNWuGpmkRx83MzBg9ejSzZs1i4MCBDB48mPDwcACmTp1KzZo1cXZ2TvJ7Ss0MGUGuCgQBmzVNCwR6AWG6rvsD/pqmZU/KAEXqN3z4cObNmwfA9evXKV68uIkjEkIIIVKOdevW0bp1a3r06MGVK1eYOXMmderUAeDXX3+ld+/ePHjwgGHDhkWpt3//fg4fPszJkydjbLdXr17kzp2b9u3bc/XqVYYPH86mTZvYunVrkt9Tamf2oRE9TdPaAN8CVYBaQGMgt67rjd+d9wFq6Lr+5j/1ugHdALp37+5Sv359Y8cuUpiYplD89ttvjB49munTpzNkyBDGjRsnay6mUzLFRsRF+oeITVrvG/7+/miaRvv27Rk5ciR79+6lY8eO+Pj4kDNnTtzd3cmYMSMPHz7Ex8eHXLlyRdRt06YNlpaWLFmyJM5rnDx5ks6dO/PixQuKFCnCnj17IqZjpCUJ6SsFChSI8QthSIL8GVBf1/U+mqbZAD7AC13Xa7w7f0TX9SpxteHn56cKFCgQr4BF6uPn50fk7/PTp0/JlSsXkyZNYtCgQdSuXZsiRYrw22+/mTBKYSr/7R9CRCb9Q8QmrfeN6dOnM2rUKO7evYutrS3h4eGUKlWKxo0bky1bNqZOncrFixepUqUK9erV45dffgHg2LFjVK5cGR8fH6pVq/bB6/z777907NiRvn370qRJk6S+LZNIYF+JMUE2ZIrFcWCQpmlmgDNwASiqaVpWIBPwNL6RiPTBx8cHgG7dugHg7u7OihUrTBmSEEIIkWIopZg/fz4dOnTA1tYWAHNzc77++mvGjBlDeHg4Q4cOJU+ePPz44494eXnRs2dPnj9/ztChQ6levbpByTFAkSJF2LdvX1LeTprywYf0dF1/DGwADvB25YoxwHBgK7AS+F9SBihSr4MHD1KhQgUyZcoEgIeHB5cuXeLRo0cmjkwIIYQwPV9fXy5cuEDXrl2jHO/UqRNv3rzB3t6ePn36ANCyZUs0TaN8+fJ4eHjw+PFjJk+ebIqw0wWDlnnTdX02MDvSoWuAW5JEJNIMb29vPvnkk4jXlStXxtLSEh8fn2h/3nk/1SctzokSQgghYjJv3jzc3Nz46KOPohzPmjUrc+fOJX/+/NjZ2QFvfz4uXboUHx8fatSo8cGtpEXiyE56Ikm8fPmSkydP4uHhEXHM3t6eihUrRky9iGzQoEG0a9cuOUNMNFmyTgghREI9ffqU1atXR0xD/K/27dtTs2bNKMdKlChBx44dJTlOBpIgiyRx5MgRQkNDcXd3j3Lc3d0db2/vKMdev37NwoUL8fX1Tc4QE+XIkSPY2dnRtWtXrl27ZupwhBBCpDLLli0jQ4YMsrJTCiUJskgS3t7eODo6RlmOBt7OQz558iSvXr2KOLZ161YCAgK4efNmlOMp2aJFiyhQoACHDh2iVKlSDB061NQhcfnyZR48eGDqMIQQQhhg586dfPHFFxFTKETKIgmySBIHDx6MMr3ivWrVqhEWFsaRI0ciji1btixi/tWlS5eSLcaECgkJYd26dXz99decO3eO33//nYkTJzJz5kyTxfTs2TM8PDxo06aNyWIQQghhmPDwcHx9fQ1egUIkP0mQhdG9efOGI0eORHlA771cuXLh6OjIokWLUEoREBDA5s2bGTx4MHZ2dly4cMEEEcfP3r17efLkCS1btsTc3JyOHTvy008/0b9/f7Zs2WLUawUEBNC6dWuuXr0aZ7kxY8YQGBjIvn37Yt1RSQghRMpw+fJlnj59ipubrHeQUkmCLIxO13WCg4NjHEEG+Pnnn1m+fDnz5s1j7dq1WFlZ0aRJE8qWLcvFixeTOdr4W7VqFR4eHlEWI+/Tpw89e/akVatWfPXVV0ybNo3Tp08n+loHDx5k1apV1KtXj4cPH8ZY5uLFi8yYMYOZM2dSuXJlpk6dmujrCiGESDq+vr5kypQJJycnU4ciYmHQMm9CxIe3tzcODg4UKlQoxvO1a9fmxx9/pG/fvhQpUoSmTZtib2+Po6NjrCPIt27dIlOmTGTLli0pQ/+g169fs379esaPHx/luJmZGT///DN58+bl8OHD7Nq1i6FDh6LrerTle+LjxIkTFC9eHCsrKxo0aMDatWvZtWsXW7ZsoWTJkjRt2pRRo0bh4uJChw4dyJgxI61bt2bChAnylLMQQqRQvr6+VKlSBQsLC1OHImIhI8jCqJ49e8bs2bOpX79+nOW++eYbmjRpwtWrVyOWdytbtmyMCXJQUBBubm64ubnx5MmTJInbUDt27ODFixc0b9482jlLS0uGDx/Oli1buHnzJlWrVqVdu3a8fv06wdfTdR0PDw+2b9/O3bt3cXBwoH///piZmbF161aqVq3Kjh07mDFjBubm5jRp0oTChQszffr0xNymEEKIJOTr6yvTK1I4SZBFomzfvp1//vkn4vWAAQMICwvjhx9+iLOemZkZCxYsYOnSpRHrPDo6OnLt2rVoCeW8efN49uwZoaGhNGjQgJcvXxr/Rgy0cuVKatasSe7cueMsZ25uzh9//MGNGzcYOXJkgq6llOLEiRNomkaRIkU4cOAAGzdu5NGjR6xfv55z587xzz//sHfvXlxdXQGwsLBg4MCB/PrrrwQEBCToukIIIZLO06dPuXjxojygl9IppZL8486dO0qkPWfOnFEWFhbK1tZWzZs3Ty1YsEABatu2bQlq79KlSwpQZ8+ejTj28uVLlTt3bjVs2DB148YNlS9fPlW3bl315s0bY92Gwfbv36/Mzc3VypUrDa6zZMkSZWZmpg4ePBjv692+fVsB6siRI/Gq9/LlS5UnTx41ePDgeF8zKcn7gIiL9A8Rm7TWN7Zs2aLMzMzUs2fPTB1KmpPAvhJj7iojyCJBwsPD6dmzJ25ubgwbNoxevXrRvXt3unfvTr169RLUZrFixbC2to7yoN7s2bMJDg5m4MCBODg4sGPHDry9vZk0aZKxbsUgDx8+pE2bNrRu3ZqWLVsaXM/Ly4vmzZvToUMHnj9/HnF81apV/Pbbb3HWPXHiBBYWFpQrVy5esdrb2zNmzBh+/vln/v3333jVFUIIkbR8fX35+OOPyZw5s6lDEXGQBFkkyB9//MHRo0eZM2cOw4YN4+DBgzRr1owpU6YkuE1LS0tKly4dMQ/5xYsXTJo0iYEDB5I9e3YAPv74Y3788UfGjBnD+fPnjXIvHxIeHk67du3IlCkTc+fOxczMzOC6ZmZmzJ07l9evX9OvXz8A1q1bR5s2bejevTtHjx6Nte77B/xsbW3jHXPnzp0pVqwYw4cPj3ddIYQQSUfmH6cOkiCLeHvy5AnffvstAwYMiFihwc3NjSlTppAxY8ZEtR35Qb0JEyaglKJ///5Rynz99ddUrlyZTp06ERoamqjrGeL333/H29ubNWvWkClTpnjXz549O4sWLWLRokUMHjyYtm3b8s0331C/fn06duxIcHBwjPVOnDiBi4tLgmK2tLRk8uTJLF26lBMnTiSoDSGEEMYVGBjI0aNHJUFOBSRBFvE2a9YsrK2tGTFihNHbdnR05OLFi5w/f57JkyczceJEsmTJEqWMubk5CxYs4Ny5c0ybNs3oMfzXmjVraNmyZbynOkRWp04d+vTpw6RJk2jbti0TJ05k3rx53L9/P8aH+JRS6LqOpmkJvmb9+vX59NNP6d27d6JW0hBCCJFw4eHhTJkyBVdXV7JmzQpA9erVTRuU+CBJkEW8rVu3jrZt2yZ6tDgmZcuW5dKlS/To0YPKlSvTuXPnGMuVKFGC0aNHM3bsWB49ehRx/MiRI7Rt25awsDCjxPPy5UsOHDjwwWXrDDFx4kSWLFnCr7/+ipmZGfnz52fGjBlMmTKF/fv3Ryl7584dHj16lOARZPj/6R2XLl2ie/fuKKUSeQdCCCHiIzg4GC8vL4YPH467uzsrVqzg6tWrsk59ahDb03vG/EhrT6CmZ5cvX1aAOnToULRzxvg+nz17VgHK0tIyymoWMQkKClIFCxZU/fv3V0op9fr1a1W2bFkFqL179yY6FqWU+vPPP5WFhYV6+vSpUdr7r/DwcNWuXTuVNWtWdeHChYjj69evV5aWliooKCjR19i7d6+ytLRU48ePT3RbiSHvAyIu0j9EbFJr3/D391fu7u4qe/bsytvb29ThpAuyioUwmQ0bNpA3b16qVKmSJO2XLFkSa2trBg4c+MEd6DJkyMDIkSOZM2cOt27dYtq0ady+fRsnJyeWL19ulHi2bNmCm5tbku3gZ2Zmxm+//YazszOfffYZ9+/fB/7/Ab0MGTIk+hqffvopc+fOZejQodFGqoUQQiSNSZMmcfXqVY4cOYK7u7upwxHxJAmyiJf169fTpEkTzM2TpuvY2Nig6/oHNxp5r2PHjjg4ONCrVy/GjBnDqFGj6NmzJ2vXrk3QvNvXr18TEhICvP3rytatW40yvSIuNjY2bNiwgYwZM1K+fHmcnJyYNWtWoqZX/NdXX32Fk5MTBw8eNFqbQgghYhYSEsKCBQvo06cPJUuWNHU4IgEsTR2ASD38/Pw4evQoY8eOTdLrfPzxxwaXtbS0ZOzYsbRq1YqPPvqIvn374u/vT79+/di+fTuNGjUyuK2goCCqVauGjY0N+/bt48qVK9y5cyfJE2SArFmzsnPnThYvXoxSCgsLC5o1a2bUaxQrVowbN24YtU0hhBDRbd68mcePH9OpUydThyIS6IMJsqZpDsBx4P2isy0AX8Dv3etxuq7vSpLoRIqyceNGsmbNiqenp6lDiaJ58+YMGDCAdu3aYWVlRe7cualVqxbLly83OEFWStGrVy9u376NUoquXbvi5OREwYIF45WwJ0b+/PkZMmRIkrVfrFgxTp8+nWTtCyGEeGv+/Pk0bNiQfPnymToUkUCGjiAf0HW9+fsXmqY903XdM2lCEinV+vXradiwIVZWVqYOJQpzc/Noy721bduW7t278+LFC4PWLv71119ZvHgxO3fuxNLSklq1apEhQwbatm0br41BUrKiRYuyYcMGU4chhBBp2o0bN9i5cydbt241dSgiEQydSFpN0zRvTdPGa5pmBmTUNO2ApmnLNU3LnpQBipTh6dOnHDhwgCZNmpg6FIM0btwYeDvqHdmpU6dYsmRJlGPnzp2jT58+jB07lpo1a1K9enVmzZrFy5cv+fzzz5Mp4qRXtGhRbt++zZs3b0wdihBCpFm//fYbhQsXpnbt2qYORSSCmfrA2qiaptnwdqQ5EPgV2Abs13X9iaZpHYBKuq73iaFeN6AbQPfu3V2SYx6nSDqbN2+mX79+nD17Fnt7+xjLhISEpKjR5W7duvH69Wv++OOPKMd27NjBvn37KFasGPD2AbZHjx6xcePGKA8fXrx4kTJlyqSZEeSLFy9Su3ZtvL29KVq0aLJfP6X1D5GySP8QsUlNfSMsLIxKlSrRsWNH+vbta+pw0p2E9JUCBQrE+EP+gwlyZJqm1Qeq6Lo+4t1rO2C7ruufxFXPz89PFShQIB7hipSmc+fO3Lp1i927d8daxs/Pj5T0fV6+fDmdO3fm8ePHZMyYkeDgYHLmzElISAhNmzZlxYoVHD9+HFdXV3bv3k3NmjVNHXKSevnyJZkyZWLnzp0mGdlIaf1DpCzSP0RsUlPf8PX1pVq1aly9epXixYubOpx0J4F9JcYE+YNTLDRNizyB0wO4+m5UOeJ1fCMRqYtSiu3bt1OvXj1ThxIv9evXJywsjO3btwOwd+9eAgMDmTdvHitXruTUqVOMGDGC6tWrU6NGDRNHm/QyZsxIrly5YlzJIiwsjBkzZhAUFGSCyIQQIm3YsmULZcuWleQ4DTDkIT13TdN+4O0UixvAz4CvpmmvgNdAzHsBizTjzJkz3Lt3j88++8zUocRL1qxZqVGjBhs3bqR58+Zs2rSJqlWr8uWXX7Jw4ULatGnDpUuXOHjwYJqZRvEhRYsWjTFB/uuvv+jXrx8VKlTAw8PDBJEJIUTq99dff9GgQQNThyGM4IMJsq7r23g77zgy4+1gIFKMDRs2RCzjFjlh3L59OwULFsTR0dGE0SVM48aN+d///sfr16/ZtGkT/fv3x8zMjAkTJlCtWjXq1KmTrhLCokWLcv369WjHZ86cCSAjyEIIkUC3b9/mzJkzzJgxw9ShCCOQnfQEAKGhoXh5eVGjRg1cXFxYtWpVxLn30ytS4yhro0aNePbsGVOmTOHevXs0bNgQADc3N+bOncvs2bNNHGHyimkE+cKFC+zZsweQBFkIIRJqy5YtZMmSBTc3N1OHIoxAEmQBwPnz5wkKCmL9+vU4OzvTtm1bRowYwYsXL/Dx8Ul184/fy58/P5UrV+aHH36gVKlSlClTJuJc9+7dKVGihAmjS34x7aY3a9YsnJycsLW1lQRZCCESaMuWLdSrVy/VrLgh4iYJsgDg+PHjZMmShcaNG7NgwQKWLl3K+PHjadiwIUopatWqZeoQE6xJkyYEBwfHa9vptKpo0aI8fvyYly9fAvDs2TMWL15M7969JUEWQogECgoKYs+ePWlq7fz0ThJkAbxNkDVNi5hG0aZNG1asWIGPjw9ubm5kyZLFxBEmXNOmTbG0tKRZs2amDsXk3q9//H4UedGiRVhaWtKuXTtJkIUQIpLjx49TsmRJevTowc2bN+Msu2/fPoKDg1PtX1tFdJIgC+DtG0GlSpWiHGvRogX79u1j+vTpJorKOEqWLMm9e/eoXLmyqUMxucKFC2Nubs7169cJCwtj+vTpdO7cmYwZM2JnZycJshBCAPv376dGjRoULlyYffv2UbJkSdq1a8eqVat4+vRplLJPnjxh/PjxuLm5kTNnThNFLIxNEmRBcHAwZ8+ejZYgA7i7u1OhQgUTRGVc8qb1lpWVFQULFuTGjRusX7+eW7du0a9fPwBsbW0JDAw0cYRCCGFau3bt4rPPPqNJkybs2LGDCxcusHjxYu7fv0+HDh3IlSsXdevWZf369Zw6dYpKlSpx79495s+fb+rQhRFJgiz4+++/CQ0NjTFBFmnP+wf1Jk+eTKtWrShSpAiATLEQQghg8ODBfPHFFxFT0CwsLGjTpg27d+/m6dOnbNiwAXt7e1q2bEnFihUpXrw4x48fT5VLoYrYGbJRiEjjjh8/Tp48eShYsKCpQxHJoGjRoqxbtw4/Pz/mzZsXcVwSZCFEenfp0iVOnTrFrFmzMDePPoZob29Pw4YNadiwIXfv3kXXderXr4+lpaRTaY18R0XE/OPUuM6xiL+iRYvi5+dHzZo1o0yfkQRZCJHerVy5ksKFC1OlSpUPls2fP3/E2voi7ZEpFiLGB/RE2vV+JYtvv/02ynFJkIUQ6ZlSihUrVtC6desYR49F+iI9IJ178eIF//zzjyTI6Ui9evWYMGECderUiXJcEmQhRHr2999/c+nSJVq3bm3qUEQKIAlyKtW/f39Gjx6d6HZOnDiBUkoS5HQkZ86cDBkyJNqUGkmQhRDpzeXLl3n+/DkAK1asoHTp0jg7O5s2KJEiyBzkVCgwMJB58+YRHBxMnjx56NGjR5TzSikmTZrEkSNHuH//PiEhIdStW5fGjRtH2QwE3m6N6eDgIMugCUmQhRDpQmhoKOvXr2fGjBkcOnSIrFmzMnDgQFauXEmnTp3keRwByAhyqrR3717evHnD0KFD6d27Nzt27Ihyfvny5QwdOpTMmTPj6emJp6cna9euxdXVldq1a/Ps2TMA/vzzT6ZOncr3339vitsQKYwkyEKItC48PJz27dvj5eVFoUKF2L9/P0OGDGH69OncunVLpleICDKCnApt2bKFKlWq8MMPP/DkyRNatGjB5s2bqV69Og8fPqRfv34MGDCAKVOmRNSZMmUKuq7TrFkz3N3d+fHHH/Hy8qJfv3507tzZhHcjUgrZSU8IkdaNGjWK9evXs3//fqpVqwZA9erV6dWrF+fOnaNMmTImjlCkFDKCnMoopdiyZQsNGjTAzMyMWbNm0ahRI2rXrs2SJUvo06cP2bJlY8yYMdHqaprGkSNHsLKy4vPPP8fd3Z3Jkyeb4C5ESiQ76Qkh0rIlS5YwduxYFixYEJEcv5cpUyaqVq1qoshESiQjyKnMuXPnuH37Ng0aNADA0tKSxYsXU7x4cTp06AC83UPezs4uxvr58uXj4MGDzJs3j6+++koWNxcRZIqFECKtun37Nl26dOH777/Hy8vL1OGIVECyo1Rmy5YtFCxYkHLlykUcMzMzY9SoUTg6OvLgwQOqV68eZxsZM2Zk0KBBSR2qSGUkQRZCpFVz584lT548jBgxwtShiFTigwmypmkOwHHg/LtDLQBPYAAQBHyp6/qdJIpP/MeWLVuoX79+jE/ZtmzZ0gQRibRCEmQhRFoUHBzM/PnzGThwoPzVVBjM0DnIB3Rd99R13RPwBwbyNkkeAcgSCMnk6dOn+Pr6RkyvEMKYJEEWQqRFq1ev5sWLF3Tp0sXUoYhUxNBfpappmuYNeANLgIu6rr8BDmmaNiXuqsJYdu7ciaWlJTVr1jR1KCINsrW1JSwsjJCQEKysrEwdjhBCGMWsWbNo3bo1uXLlMnUoIhUxJEG+B5QAAoFfgabA80jnLWKqpGlaN6AbQPfu3alfv37iIhWsX7+eKlWqEBAQQEBAgKnDiSYkJAQ/Pz9ThyES6OXLlwBcu3aNTJkyGb196R8iLtI/RGwS0zdOnTrF8ePHGTVqlPSvdCAhfaVAgQIxHv9ggqzr+mvgNYCmaeuBjsDLSEXCYqk3H5gP4Ofnp2ILQBhGKYW3tzfffvttrN9MU/Pz80uxsYkPK1y4MADZsmUjT548Rm9f+oeIi/QPEZvE9I3BgwdTpUoVGaRLJ4z5PmLIQ3qZdF1/8e6lB7AF6KFpmjWgAWeMEomI05kzZ7h//z5169Y1dSgijXq/NKDMQxZCpAXXr19n5cqVrFy50tShiFTIkCkW7pqm/cDbKRY3ePtQXjCw/92/XyZZdCLC9u3bKViwII6OjqYORaRRtra2gCTIQoi0YeLEiZQsWZKmTZuaOhSRChkyxWIbsO0/h1e9+xDJZPv27dSrVy/G5d2EMIb3CbLspieESO38/PxYtGgRv/76K+bmsmmwiD/pNanAixcvOHTokEyvEElKRpCFEGnFlClTKFCgAG3atDF1KCKVkhWzU4F9+/YRHh5OrVq1TB2KSMMkQRZCpAUPHz5k3rx5/PTTT7JkpUgwGUFOBXbs2EGVKlXImjWrqUMRaViGDBkASZCFEKnbwIEDyZMnDx07djR1KCIVkwQ5hVNKsW3bNpleIZKcmZkZGTJkkARZCJGiBQQE4Onpyddff8327dt5/fp1xLlNmzaxbNkyfvvtN2xsbEwYpUjtJEFO4TZu3Mi///5Lq1atTB2KSAdku2khREq3fft2Dh8+zMmTJ6lfvz4ODg788ccfPHnyhO7du9O9e3fZcVYkmiTIKVh4eDgjR47Ey8uLUqVKmTockQ5IgiyESOm2b9/OJ598wuHDh7l79y5t2rShS5culChRAisrKyZNmmTqEEUaIAlyCrZu3TouXLjA999/b+pQRDohCbIQaUNoaCi6rvP8+XNTh2JU4eHhEcueAuTNm5dp06Zx5swZGjRowNKlS8mcObOJoxRpgSTIKVRYWBijRo2iffv2lCxZ0tThiHTCzs5OEmQhUqnbt2+zbNkyOnToQJ48eahUqRLFixdn5syZvHnzxtThGcWZM2d48OABn332WZTjZcuWZenSpXzyyScmikykNZIgp1ALFy7k0qVLDB8+3NShiHRERpCFSH0uX75MmTJlKFy4MF27duX+/fuMHj2a8+fP07NnTwYPHkypUqXo168f27ZtIzg42NQhJ9i2bdsoVKgQZcuWNXUoIo2TBDmFCQ4Opn///nTt2pUhQ4ZQvHhxU4ck0hFbW1vZSU+IVOThw4d89tln5MqVi0OHDhEQEMDOnTvp3bs3jo6OjBkzhqtXr/Lll19y5MgRGjRogKZpXL9+3dShJ4jsKiuSiyTIKcCBAweYPHkyffv2xcXFhcWLF7N27Vp++OEHU4cm0hkZQRYi9Xj16hWff/451tbW/Pnnn7i5uWFtbR2tXP78+Rk9ejRHjx7l1q1bZMyYkcqVK+Pt7f3BawQGBtKnTx8mTJiQFLcQL8+ePcPX1zfa9AohkoLspGdCJ06cYMiQIezevZvixYtTuHBh3N3dGT58OIUKFTJ1eCIdkgRZiJTN39+fBQsWcOrUKQ4fPsyrV684cuQI2bNnN6h+wYIF2bdvH1999RU1a9bk9OnTODo6xlj2/PnztGrViuvXrxMSEkKzZs1MuqLS3r17AahRo4bJYhDph4wgm8isWbPQNI2QkBCOHj3K1atX2bt3L/PmzZPkWJiMJMhCpFxXr16lSpUqTJw4kVevXtGuXTsOHjyIg4NDvNqxtbVl2bJl5MuXj82bN8dY5tSpU1SqVIlcuXJx+fJlPv74Y4YOHWqEu0i4TZs24ebmRpYsWUwah0gfJEFOIs+fP2fRokWEh4dHO7d//3769+/P5MmT2bdvH66uriaIUIjoJEEWImXy9vamcuXK5MqVi/Pnz7NhwwZGjx6d4BFdMzMzatWqxa5du6KdU0oxYMAAKleuzO7duylYsCCTJ09m3bp1HD58OLG3kiDLli1j0aJF9OzZ0yTXF+mPJMhJIDQ0lJYtW9KpUyeWLFkS5dzt27dp2bIlbdq0YdCgQfKggUhRJEEWIuUJDQ2lUaNG1KpVi927d5MrVy6jtFurVi18fHyi/Z/fvHkzBw8eZNq0aVhYWABQs2ZN6tWrx7fffotSyijX/68ZM2bg6enJ5cuXoxz38fGhU6dOjBw5ktatWyfJtYX4r3SfIIeGhuLr68vMmTON9vT+gAEDOHToEI0aNWLYsGG8evUKePtARdOmTSlYsCDz5s2T5FikOJIgC5HynD59Gn9/f8aPH0+GDBmM1m6NGjV4/fo1hw4dijgWEhLCd999R/v27alQoUKU8hMnTsTX15d58+YZfI3z58/zv//9j7t378ZZTinFzJkzOXnyJBUqVGD+/Pls376dUaNG0aVLF9q3b8/IkSPjd4NCJEK6fkhvxowZjBgxgmfPnmFhYcHZs2eZP39+otqcPXs2c+bMYdOmTVStWpXixYszdepUhgwZQvPmzblz5w6HDx/Gzs7OSHchhPHIRiFCJI3Q0FCuXr1KeHg41tbWlChRIsr5Fy9eYGNjE+MqFAcPHiR//vwUK1bMqDHlyZOHcuXKsXv3bmrVqgXA/Pnz+ffff2OcelGuXDl+/PFHevfuTYkSJSLqxOTSpUsMGDCAbdu2YWZmRlhYWJxbQP/9999cvXoVXdfZvHkzPXv2JDw8HEdHR7y8vJg5c6YMKonkpZRK8o87d+6olCYkJETlyJFD9ejRQ924cUNt2bJFAWrdunUJbvPKlSvK2tpaTZo0KeLY1KlTlZ2dnWrUqJHKmjWr+vvvv40RfoqUEr/PIn5+/PFHVbZs2SRpW/qHiEta7h9v3rxRnp6eCoj4mDhxYsT5ly9fqhIlSqjvvvsuxvqNGzdWrVq1SpLYBg0apFxcXJRSSj148EBlz55dDRs2LNby4eHhqlOnTipLlizq4sWLsZZr3ry5cnR0VLt27VLjxo1TefPmVSEhIbGW/9///qdKliypwsPDlVJK3b59W/n7+yul0nbfEMaVwL4SY+6abhPk/fv3K0DduHEj4ljfvn1VtmzZ1O3btxPU5ueff66cnZ1VaGhoxLHg4GBVvHhxZWtrq3x8fBIbdoqWEr/PIn6mT5+uHBwckqRt6R8iLmm5f/Tp00dlypRJeXt7q6tXr6oJEyYoa2trdeHCBaWUUv369VOAcnV1jVY3LCxM5ciRQ82ePTtJYtu2bZsyMzNTjx8/Vq1bt1bFixdXr169irPO69ev1SeffKIcHR1VWFhYjGUKFy6spkyZopR6m+yam5urv/76K8ay4eHhqkSJErEm5mm5bwjjMkmC7OLi0sbFxeXRu8+vuLi47H/3UftDdVNi5+7Xr5+qUKFClGNBQUHq448/VrVq1Yr4LdZQmzdvVkCMSfD58+eVruuJijc1SInfZxE/8+fPV7lz506StqV/iLik1f6xcOFCBag///wz4lhYWJiqVq2aqlKlijpw4IAyMzNTLVu2VFZWViooKChK/fPnzytAnTlzJknie/nypbKyslIdOnRQgNq7d69B9a5cuaIAtWPHjmjn7t27pwB18ODBiGN169ZVzZo1i7GtkydPKkCdPn06xvNptW8I4zNmgmzQQ3qaplkALYDb7w4903Xd891H9IlK//HkyZP4zftIYkopNmzYQOPGjaMcz5AhA3/88Qd79uxhw4YNBrf3fnvoDh06UK1atWjnHR0dcXFxSWzYQiQ5eUhPCOO5fPkyPXr0YNSoUTRs2DDiuLm5OQsWLOD06dPUq1ePJk2aMHXqVEJCQjh58mSUNg4ePEi2bNlwcnJKkhjt7e1xc3Nj8eLFdOnShU8//dSgeiVKlKBu3brMmTMn2rnjx49jbm5OxYoVI4516tSJTZs28fjx42jl16xZQ6lSpShXrlzCb0QIIzN0FYs2wBrg/aK+GTVNO6Bp2nJN0z64fU+LFi24d+9eQmM0utOnT3Pr1i2aNGkS7VyFChXo0qULgwYNMjhRWLBgAQ8fPmTixInGDlWIZCUJshDGM3bsWMqUKcP3338f7VypUqWYOHEi2bJlY86cORQsWJCCBQtGW2fY29sbDw8PzM2TbtGpBg0aUKBAASZPnhyvej179mTz5s3cunUryvFjx47x0UcfYW9vH3GsUaNG2Nvbs2LFiihllVKsXr2aFi1ayEN4IkUxUx9Yz/Dd6PEGoDFwTNd1TdO0HLquP9E0rQNQSdf1PjHU6wZ0A7h3756LtbU1q1atokCBAka/ifiaPHkyGzduxMfHJ8b/kI8fP8bDw4OePXvSt2/fD7bXoUMHsmTJwsyZM5Mi3FQjJCQEKysrU4chEmHPnj18+eWX3Lx5E0tL4y5yI/1DxCWt9Y/r16/j6enJ3LlzqV+/fqzlwsLCItYa7tGjB0qpiGXUlFJUqlSJLl260KNHjySLNSwsjODg4CgJrSFCQ0Nxc3OjRYsWfPvttxHHvby8yJcvH1OmTIlSfujQoRw7dowdO3ZE3POBAwfw8vJi586dsW55ndb6hkg6CekrBQoUiPk3s9jmXqj/n3v8pYuLS7t3n+v/OWfn4uJy8ENtnD17Vrm4uCgHBwcVGBiYkPkhRvXRRx+pQYMGxVnm/eoTH3pgLzg4WNnZ2alFixYZM8RUSeaJpX579+5VgHr+/LnR25b+IeKS1vpH+/bt1ccffxzrQ2wxmTZtmipQoEDE6+vXrytAHT16NClCNIoffvhB5cmTR71+/Vop9faBu2zZsql58+ZFK/vPP/8oGxubiIf3goKCVIkSJVTbtm3jvEZa6xsi6ST3HGRHoIOmaduBkpqmzdE0zebdOQ/g6ocayJYtGxs3buTmzZucOHHCsJQ+iVy9epVz587FOL0ist69e1OkSBG6dOkS43bR7x0+fJjAwEBq165t7FCFSHa2trYAMs1CiES4cuUKy5YtY+TIkfGaGlGlShX8/Py4ffvt4z7e3t7Y2dlF27AjJfnqq694+vQp69evB+DatWv4+/vj6uoarWzp0qUZP348w4YN4/z58/z44488evSIqVOnJnfYQnzQB//n6ro+WNf1Orqu1wOuAKMBX03TDgLfAAZtbfN+ftWxY8cSFXBibd++nRw5clClSpU4y1lbW7N8+XL27dsX53/eXbt24eTkRP78+Y0dqhDJThJkIRJvwoQJODo6fnAg5r8qVqyItbU1hw8fJjQ0lFmzZlGrVq0UPb0gb968tG/fnhEjRvDmzRuOHTuGra1trA8V9u/fn8qVK9OiRQsmTJjA+PHjyZs3bzJHLcSHxWuSoa7r2rtPE7Qkg6urK8ePH09IVaPZt28fnp6eEfOf4uLs7MzUqVMZMGAAn3zyCZUrV45WZufOndSpUycpQhUi2b3f4VESZCESJjw8nI0bNzJu3Lh4P1hnY2NDxYoVOXLkCDdv3uTcuXMsX748iSI1nrFjx1KyZEl++eUXbty4QYUKFWJN6s3NzVm0aBHlypWjfPnydO/ePZmjFcIwSfdYbAxcXV1NOoIcHh7O/v37qVGjhsF1vv76axo0aECbNm14/fp1lHNPnjzhxIkTMr1CpBkygixE4ly8eBF/f388PDwSVL9KlSps3LiRESNGMG7cuGhbUqdE+fPnZ/DgwYwePZrdu3fHOL0isqJFi+Lj48Off/5p0GCVEKaQrAlypUqVuH79eozrICaHM2fO8PTpU4PXeQQwMzNj3rx53Llzh40bN0Y5t2fPHqysrPjkk0+MHKkQpiEJshCJc+jQIbJmzRrrigwfUrVqVW7cuEHFihUNWkUppRg0aBB2dnacP3/+gwkyQPny5cmXL18yRCZEwiRrguzi4oKZmRm6rifnZSPs27ePvHnzUqZMmXjVy5MnD02bNo1Yeue9Xbt24e7uHu+lcYRIqSRBFiJxDh06hJubW4LXLfb09KRixYosWLAgVY2u2tvbM378eIAPPuMjRGqQrAlylixZKFOmjMmmWbyff5yQxci7d+/Ovn37uHTpEvB2ebydO3fK9AqRpmTIkAGAwMBAE0eSfJRShIaGmjoMkUb4+PjEuKOqoXLnzs2JEyfiPZCTErRv354LFy5QtGhRU4ciRKIla4IMppuHHBYWxsGDB+M1/zgyT09PSpUqxfz58wEYN24c9+7di7ZdtRCpmbm5OTY2NulqBHn06NHkyJGDb775JmJ5LSES4v79+1y/fj1RCXJqZmZmRtmyZU0dhhBGkewJcqVKlTh27BjqPzv4KaU4dOgQEyZMoHHjxtG2o4xLeHg49erVo1WrVgQHB8dY5tSpUzx79ixe848jMzMzo1u3bixatIglS5bw/fffM3/+/FT5W74QcUlP203fv3+fyZMnU7duXdatW0exYsVYtWqVqcMSqdShQ4ewsrKiUqVKpg5FCJFIJhlBfvToUbS92+fPn4+7uzu//vorr169on379mzfvt2gNn/99Vf27t3Lnj17qFevHs+ePYtWZt++fRQsWJDixYsnOPYvv/ySly9f0qFDB7777js6duyY4LaESKnSU4I8fvx4cuXKxZIlS7hy5QqdO3fm22+/jbZijRCG8PHxoWLFihHLJQohUq9kT5DLlSuHtbV1tGkWf/zxB126dOH69evs3LmTr776ipYtW3LmzJk427t37x6DBw9myJAhHDp0iBs3buDp6cmLFy+ilNu7dy81atRI0Pzj93LmzEmvXr3w8vKKeBhBiLTmQwny2LFjad26dbT/Y6nNv//+y9y5cxk1ahQ2NjZYWloyduxYnj59Gu2BXCEMcejQoXQ7vUKItCbZE2QbGxvKly8fJUG+desWhw8fpnXr1sDb6QyzZ8/Gzc2NBg0a8OjRo1jb69+/P3ny5GHo0KGULl0aX19fbt++zc8//xxR5vbt2+zbt88oG3r89NNPLF26NFU9XSxEfMSVIIeFhTFz5kzWrFmDu7t7qp6zO3r0aIoXL067du0ijuXOnZv+/fszbtw4Xr16Fa3OtWvX+Oeff3jw4AGPHj3i1KlTbNmyBX9//+QMXaRAgYGBnDp1Cnd3d1OHIoQwgmRPkAE+/fRT1qxZE/FnzNWrV5M7d26qV68eUcbS0pLVq1djZWVF7969Y2xnz549rF69mrlz50Y8fV+gQAEGDx7M1KlTI35oDR8+HAcHB1q2bJnEdyZE6mdnZxdrguzr68ujR484cOAAFhYWuLq6cvPmzeQN8J3Tp08zcuRIOnbsSOPGjeP8RTqmun/88Qdjx47F0jLqhqLffPMNb968YcaMGRHHQkJC+OabbyhRogRly5Ylb9685M6dm4oVK/L5558zePBgo91XerRs2bJU/0vGsWPHCA0Nxc3NzdShCCGMwCQJ8oABA3j06FHEihCrVq2iefPm0X5QZc6cmYULF7J69WrWrFkTrZ2ff/6Zzz77LNqDd19//TUZMmRg6tSpnDx5kiVLljBp0qQUvZ+9EClFXCPIGzZsoHz58ri7u3Pw4EGyZMnCpEmTkjlCCA0N5fPPP2fZsmUEBATg6+vLtGnTDK7bpUsXatSoQbNmzaKdz5o1K9999x0//PADbdq0Yc6cOXzyySfMnz+fZcuW8c8//3D48GF8fHy4efMmM2fOZPny5al+yomp7Nq1i3bt2qX6hyPXrl2Lk5MTefLkMXUoQghjUEol+cedO3fUfw0fPlzlypVLnT59WgFq//790cq817dvX5UzZ0714MGDiGM3btxQZmZm6q+//oqxzvTp05W9vb2qUqWKql69ugoPD4+1fWEcMX2fRepTt25d1atXr2jHw8PDVdGiRdWoUaMijv32228qQ4YMUf5vxsaY/WPt2rXKwsIios1p06apzJkzq4CAgIgyK1asUJcvX45Wd8qUKcrW1lZdvXo11vZfv36tpk+frho2bKiyZs2qNE1TV65cibHss2fPlL29vZo7d24i7yr9CQkJUU5OTsrMzExVr17d1OEk2JMnT5SdnZ30gSQiP1uEoRLYV2LMXU2WIAcEBKgcOXKoIkWKqHz58qnQ0NBYI3/58qUqXry4atSoUUSiO2TIEOXg4BBrvaCgIFWwYEEFKF3XDf0iiUSQN7G0oXHjxqpTp07Rjr//Zfbvv/+OOBYcHKzy5s2rRowYEa18UFCQmj59ekS/MGb/8PT0VM2bN494/eLFC5U9e3Y1fvx4pZRSCxYsUIDKmDGjWrVqVUS5a9euKVtbWzVp0iSDr2XIL9ddu3ZVFSpUkF/E42nWrFnKxsZGjRs3TtnY2KigoCBTh5QgEyZMUDly5FCvXr0ydShpkvxsEYZKEwmyUkpNnTpVAapv374fjP7IkSPK2tpaTZgwQQUHB6ucOXOqCRMmxFln27ZtauLEiR9sWxiHvImlDW3atFGtWrVSSim1atUqdfLkSaWUUiNHjlRFixaNlgSOHz8+xuRgzZo1ClDW1taqV69e6sSJE0aJ79y5czH+1Wn06NEqV65cav/+/cra2lqNGDFCffvttwpQjRo1UtWrV1eZM2dWFSpUUCEhIUaJ5b3jx48rQB0/ftyo7aZlT548UdmzZ1fDhg1T9+/fV4DatWuXqcOKlb+/v+rWrZuqUaOGKlOmjOrQoYMKCgpSr1+/Vvnz51fDhw83dYhplvxsEYZKMwlyUFCQatiwoTp37pxBdzBv3jxlbm6uvvrqK2VtbW3Qn3VF8pE3sbShc+fOqmHDhur48ePKzMxMWVlZqYkTJ6py5cqpgQMHRiv/9OlTZW9vr2bNmhXleM+ePVXVqlXVwoULVdGiRVX58uWNMsLas2dP5eTkFK2tJ0+eqIwZMypLS0vVuHFjFRYWppRSauPGjapu3bqqd+/e6rffflMPHz5MdAwxqVixourSpUuStJ0a7dy5U9WpU0edOnUq2rlXr16pRo0aqXz58qkXL14opZRydHRU3377bTJHabgJEyaobNmyqb59+6qxY8eqnDlzKg8PDzVz5kxlbW2t7t27Z+oQ0yz52SIMlWYS5PgKDw9XX331lQKUl5eXUdoUxiNvYmnD119/rWrVqqUqV66satasqWbMmKFsbGwUoLy9vWOs079/f1WiRIkoSWvp0qXVyJEjlVJKnTp1SgHq4MGDiYotICBA2dvbq19++SXG86NGjVLOzs7q+fPnibpOQsybN0/Z29ur+/fvJ/u1U5rQ0FDl6OiosmXLpiwsLNTgwYMjfjG5e/eu0jRN5cqVSx0+fDiiTo8ePZSzs7OpQo5TeHi4KlGiRJQE/tKlS8rBwUEBMU5JEsYjP1uEodJtgqzU21Hnnj17qgsXLhitTWEc8iaWNnzzzTfKyspKWVpaRvw/O3PmjBo5cmSsc/7fT3s4duyYUkopPz8/BagDBw5ElHFzc1ONGzdOVGy//PKLypQpU8So43+Fh4dHjBwnt1evXqmSJUuqxo0bJ8lc5G3btqmzZ88avd2ksGzZMmVpaamuXr2qFi5cqLJly6YAlTNnTpU9e3bl5OSkbty4EaXO8uXLFZAi/zK4f/9+BaiLFy9GOX737l3Vrl27WB/gFMYhP1uEodJ1gixSLvk+pw3ff/+9AtSgQYPiVc/JySmiztKlS5Wtra0KDg6OOL9o0SJlZmaWqGTCzc1Nde7cOcH1k9qhQ4eUubm5WrJkiVHb3b17t7KwsFA1a9Y0artJISQkRJUsWVJ17do14tizZ8/UwYMH1dy5c9X48ePVs2fPotW7cuWKypAhg1q2bFlyhmuQ9u3bK3d3d1OHkW7JzxZhKGMmyCZZB1kIkXLlypWL/PnzM2LEiHjVa926NatWrSI8PJy9e/fi7u6OjY1NxPkaNWpQsmRJpk+fnqC4rl27hq+vb5Sd71IaNzc3vvnmG3r37o2fn59R2rx+/TotW7akXLly7N2712jtJpWlS5fy77//Mnz48IhjmTNnxsPDg+7du/O///2PzJkzR6tna2uLh4cHu3btSs5wPyggIIA1a9bQpUsXU4cihEhGBifImqa10TTt0bvPW2ia5qtp2h5N0womXXhCiOTWs2dPzp8/H2MSE5dWrVpx584dDh8+zN69e6lRo0aU8+bm5vTv35+FCxcmaNe0ZcuWUbBgwSg7bqZEo0ePpmDBgrRr146QkBCD67169YoHDx5EOfbkyRMaN25MiRIlOHjwIDlz5mTFihXGDtlowsPDGTNmDF27dqVw4cLxrl+7du0UlyCvWLECKysrmjdvbupQhBDJyKAEWdM0C6AFcFvTNEtgIOAJjAC+T7LohBDJztLSkqxZs8a7XsmSJalYsSITJkzg5s2b0RJkgA4dOpAxY0aGDRsWr7aVUixZsgQvLy/MzVP2H74yZMjAmjVrOHXqFF9//fXbuWwfoJSiZcuW5M+fn/r167NkyRK6du1KoUKFCAgIYMOGDWTMmJHWrVuzdOnSZLiLhLly5Qo3btyga9euCapfrVo1/Pz8uHv3rpEjS5jDhw8zceJE2rRpg729vanDEUIkI8sPFwGgDbAGGASUBC7quv4GOKRp2pSYKmia1g3oBtC9e3fq169vhHBFShYSEpLi//wrkla9evUYP348mTJlIk+ePFH6Q0hICAEBAYwbN44uXbrg4eHBJ598YlC7J06c4OrVq9SpUydV9LHMmTMzZ84cOnToQL58+WjTpg3Xrl0jQ4YMlClTJlr5bdu2sW3bNkaOHMnhw4fp1KkTpUuXZuzYsTRq1AilFH5+ftSpU4eZM2eye/duypYta4I7i9v27duxtbUla9as8f4+hYSEkDt3bszNzdm5cye1a9dOoihjFhYWxq1bt3jx4gVBQUFs2rSJxYsXU6tWLXr16pUq+l1aJT9bhKES0lcKFCgQ84nYJie//3BxcbFwcXHZ5OLiYu7i4qK7uLi4ubi4/Bzp/LEPtSET7NMH+T6LGzduKEB9/vnn0c5F7h8dOnRQBQsWjLI1dFy+/vprVaFCBaPFmVzmzJmjgIgPCwsLtXXr1ihlXr58qQoXLhzlobbAwMAYV8IIDw9XJUuWVIMHD07y2BOid+/eysPDI0F13/cPJyeniOUBk8OyZcuUq6ursrW1jfK9ypcvn1qzZo3sjpgCyM8WYajkfkivHbBa1/Xwd68DgMiTE8PilaoLIdIsBwcH2rZti5eXV5zlpk+fjlKK/v37f7DNq1evsmzZshT9cF5sevbsyc6dO9m1axe3b9+mW7dutGjRgpMnT0aUGTduHK9evWLChAkRx2xtbTEzM4vWnpmZGe3atWPZsmWEh4dHO29qx44do3LlyolqQ9M0dF03UkRxu3PnDl26dKFEiRL8+uuv/P3339y5cwd/f39u375N8+bNY/w+CCHSPkOmWDgCFTRNa8fb6RV9gLKaplkDGnAmCeMTQqQyy5Yt+2CZrFmzMn/+fBo0aED37t2pUqVKjOXu3btHnTp1cHJyokePHsYONVlEniowY8YMbt++TYMGDejRowe6rrN9+3Z++eUXcuTIYVB7Xl5ejBw5kl27dlG3bt2kCjveXr9+zenTp/nmm28S1Y6Liwvjx483UlRx+9///kfhwoVZtGgRVlZWyXJNIUTq8MERZF3XB+u6XkfX9XrAFV3XewI/A/uBH959CCFEvNSvX5+6desyaNCgGB9ke/bsGZ999hl2dnZs3rwZOzs7E0RpXJaWlqxcuZJy5cqxcuVKsmfPzrx58+jcubPBbRQvXpx69eoxc+bMJIw0/s6cOcObN29wdXVNVDsuLi7cv38/yR/UO3bsGEuXLmXq1KmSHAshojH0IT0AdF3X3v27CliVJBEJIdKNKVOmUL58edatWxdlGa2XL1/SoEED/P398fX1JVu2bCaM0rjs7e3ZsWNHotro27cvDRo04OrVq5QoUcJIkSXOsWPHyJ07d4KWd4vM2dkZc3NzTpw4Qf78+Y0UXVTvp/fUqVNHHiAXQsQoZa+XJIRI0z766CO++uorBg8ezOvXrwEIDAzkiy++4Pr16+zZsyf2J4zTsbp161KiRAlmz55t6lAiHDt2DFdX10TP2bWzs6Ns2bKcOHHCSJH9v/DwcP766y8++eQTjh07xtSpU2WOsRAiRpIgCyFMasyYMTx48AA3Nze++uor6taty8WLF9m7d2+KGR1NaczNzenTpw8LFizg5cuXpg4H+P8E2RhcXFyMmiC/efOGP/74g3LlytGwYUPy5MnD0aNH+eijj4x2DSFE2iIJshDCpPLmzRsxqvfw4UPMzc3Zs2dPjOsFi//35ZdfEh4ezuLFi00dCs+ePeOff/4xWoJszJUs9u3bR/HixenWrRvVqlXjn3/+Ye3atbi4uBilfSFE2hSvOchCCJEUPD098fT0NHUYqUrmzJlp3749ixcvplevXsl23dGjR1OyZEnatm0bcex9MlupUiWjXCPyg3qJmYccFBRE586d0TSNX375hbx58xolPiFE2icjyEIIkUq5u7tz5swZwsKSZzn6EydOMGrUKLy8vBgyZAhhYWGEhISwdetWSpQoQfbs2Y1yncgP6iXG1KlT8ff3Z/78+ZIcCyHiRRJkIYRIpcqVK0dQUBDXrl1LluuNHTsWDw8PVq9ezYwZM6hUqRJ58uRh2rRpH9wcJj7s7OxwdHRk9erVCd4Q5c6dO0yYMIFRo0aRK1cuo8UmhEgfZIqFEEKkUqVLl8bKyoqzZ89SqlSpJL3W33//zZ9//snOnTupXbs2xYsXZ9q0aXz11Vc0atSIggULGvV648ePp2XLlgQHB7N48WJsbW3jVf+7776jcOHCfP3110aNSwiRPkiCLIQQqZSVlRVly5blzJkzNGvWLEmv9cMPP1ClShVq1aoFQMWKFVm6dGmSXe+LL75g3759NGzYkOrVq9OzZ088PDwoXrz4B5dm8/HxYcWKFWzfvl02ARFCJIhMsRBCiFSsXLlynDlzJkmvce7cOdauXcuIESOSdd3gKlWqcOTIEXLlykXfvn0pWbIkmTJlolChQjg7O3Ps2LFodcLCwujbty9ffPFFitqKWwiRusgIshBCpGIff/wx8+fPT9JrjBs3Dk3TqFevXpJeJybFihVjy5YthIaGcvr0aS5dukRAQADTp09n5cqV0ZaWW7BgAefOnWP16tXJHqsQIu2QBFkIIVKxcuXKce3aNV6+fEnGjBmN3v4///zDqlWr2Lhxo0l3nbO0tETTNDRNA+D27dvs3LkzSpmAgACGDh3KgAEDZJMZIUSiyBQLIYRIxcqVKwe8nQaRFMaPH0+5cuX44osvkqT9hPL09OT06dM8ffo04ti4ceOwtLRk+PDhJoxMCJEWSIIshBCpWL58+ciePTtnz541ettXr15l2bJlyT732BDVqlXD3Nwcb29v4O120r///jvfffcdmTJlMnF0QojUThJkIYRIxczMzJLsQb3x48fj6OhI48aNjd52YmXKlAlN09i/fz8A27Zt49mzZ7Rp08a0gQkh0gRJkIUQIpWLK0FWSnH8+HGmTZtGYGCgwW1u3bqVxYsXM3z4cMzNU+aPCk9Pz4gEedmyZdSqVUt2zBNCGEXKfNcTQghhsI8//pizZ8+ilIo4FhoayqRJkyhWrBiurq588803/PTTTwa1t3fvXpo2bUqPHj1o2bJlUoWdaJ6envz999/cvHmTzZs3065dO1OHJIRIIyRBFkKIVK5cuXL4+/vj5+cHwOXLl3F3d2f06NF4eXlx7tw5xo0bx5QpUwgICIizLW9vbxo2bEibNm2YMWNGipt7HNn7ecgDBgzAzMwsRU4FEUKkTpIgCyFEKufk5ISZmRnt2rWjWrVqlC9fHnNzc06fPs0PP/yAk5MTffr0wcrKKtZR5MDAQL777js8PT1p2LAhv/32W4qdWvHe+3nIGzdupFGjRvJwnhDCaD64DrKmaXmADUAIEAZ4ASsAi3evf9d1fUlSBimEECJ29vb2DBw4kLt371KwYEG6deuGl5cXlpb//xafMWNGBg8ezOjRo+nbty85cuSIOHf37l2qV6/O06dPWbRoEe3atUvRI8eReXp6cvToUby8vEwdihAiDTFko5DHgLuu6+GapnUEvnp3/DNd118mWWRCCCEMNmXKlA+W6dmzJ1OmTGHKlClMmDAh4viiRYsIDAzk4sWL5M6dOynDNLpmzZrh4+Mj20oLIYzqg38/03U9TNf18HcvMwHngXBgq6ZpmzRNK5KUAQohhDAOOzs7vvvuO3755ReCgoIijq9fv57mzZunuuQYoFKlSvj4+GBlZWXqUIQQaYhZ5KeeY6NpmjMwD8gK1AFe6rr+RNO06sAgXdcbxlCnG9ANoHv37i7169c3YtgiJQoJCZEfUiJW0j9SBn9/f1xcXJg2bRqNGzfm9u3bVK1alTVr1lC1alWTxSX9Q8RG+oYwVEL6SoECBWKcT2ZQgvyepmktgRq6rveIdEzXdV2Lq56fn58qUKCAwdcRqZOfnx/yfRaxkf6RcrRs2RJ/f3927drFTz/9xIQJE7h37x4WFhYmi0n6h4iN9A1hqAT2lRgT5A9OsdA0zTrSy2dAoKZpmd+dcwT84xuJEEII0+ncuTN79uzh33//Zd26dTRu3NikybEQQqQ0hjyk56xp2hTerlgRDHQG9mqa9n4C29dJFZwQQgjjq127Nvnz5+fHH3/E19eX4cOHmzokIYRIUT6YIOu6fgz45D+H45xSIYQQIuWysLCgY8eOjBs3jixZslCjRg1ThySEEClKyl4FXgghRJLo2LEjAF988QXW1tZxFxZCiHTGkCkWQggh0pgSJUowevRoGjRoYOpQhBAixZEEWQgh0qkRI0aYOgQhhEiRZIqFEEIIIYQQkUiCLIQQQgghRCSSIAshhBBCCBGJJMhCCCGEEEJEIgmyEEIIIYQQkUiCLIQQQgghRCSSIAshhBBCCBGJJMhCCCGEEEJEIgmyEEIIIYQQkZgppUwdgxBCCCGEECmGjCALIYQQQggRiSTIQgghhBBCRCIJshBCCCGEEJFIgiyEEEIIIUQkkiALIYQQQggRiSTIQgghhBBCRCIJshBCCCGEEJFYmjoAkTpomuYKTAdCAD+gA9AYGAAEAV/qun5H07S+wEBA13W9+X/amAvk/O9xkbolpm9omtYRGPaunp+u617JfgMiSSX2vUPTtP7AF4AF0EnX9RvJegMiySTyvaMn0OpdU45AV13X/0zeOxDJJZF9JQ+wEjADXgAtdV0P+tA1ZQRZGOo2UEPX9U+Am0Aj3nZCT2AE8P27ciuBmv+trGmaA5A/GeIUyS9RfQOYruu6pyTHaVaC+4emaS5AYV3Xa77rI5Icpy0J7hu6rv/yrk94Ag+BXckTsjCRxPyc8QJWvusrx4AmhlxQEmRhEF3X70X6jesNUBq4qOv6G13XDwHl3pV7CITF0MR3wNRkCVYkKyP0jV6apnlrmtY6eSIWySmR/aMRYKtp2l5N02ZqmmaRbIGLJGeE9w40TasEnNd1PTA5Yhamkci+chHI+u7zbMBjQ64pCbKIF03TigB1AB/geaRTsf7g0jSt2LtP/03C0ISJJaRvABuBj4D6wEBN0/IlWYDCpBLYP/IA4bqu1+Dtn1FbJF2EwlQS2DfeawGsToq4RMqTwL5yDGijado5oBKwx5BrSYIsDKZpWmZgCdAReARkjnQ6xt/u3xkCTE66yISpJbRv6LoeoOt6uK7rL4D9QNkkDFOYSCLeOwKAve8+3wM4JUF4woQS0Tfe+wzYavzIREqTiL7yLfCzrusfAX8C3Qy5niTIwiCaplnydm7PaF3XLwFXgLKapllrmuYGnImjugPwC/AH4K5pWpekjlckn8T0jXdveLz703ll4HoyhCySUSLfOw4Bzu8+d0b6R5qSyL6Bpmkab6dXfPCBK5G6JbKvmPH/0yoeA1kMuaaZUioRIYv0QtO09sDPwNl3h355928/IJi3T5DefjePtDdQ8l3ZOrquh79rwwGYIqtYpC2J6Ru8fbDiM96+ga3Qdf3n5ItcJIdE9g8zYO67Y0+Atrquv06+6EVSSuzPFU3TJgJHdV1fn7yRi+SWyPeRgsDid+VDgTa6rj/60DUlQRZCCCGEECISmWIhhBBCCCFEJJIgCyGEEEIIEYkkyEIIIYQQQkQiCbIQQgghhBCRSIIshBBCCCFEJJamDkAIIcT/0zTtG95urNNJ1/VFsZSx4+327TdjKyOEECLhZARZCCFSHztgJG93lBJCCGFksg6yEEKY2LtR4yHAQ+A40AHoBDQAagG2vN1Fbpiu6xs0TbsJFInUxGhg/LuPNoA9sAvoZciC+EIIIaKSBFkIIUxI07TywGngPDCDtyPD+XmbIOcG/IGMQFegEJALaAosAy4CY4BzQDNgFDAPuA98A+zQdb1Zst2MEEKkETIHWQghTMvz3b8/6br+u6ZphYDhgAXgBLQGrCOVdwB2vvv8oa7rKwE0TVv47lj3SGVrJ1HMQgiRpkmCLIQQKYPZf/614u1Ui93AFKAPb6dcZABi+9NfKPA5EPbutTxnIoQQCSAJshBCmNb+d//21zTNnLdTKyKzB0oC1SIdew6EAyU0TfMCfIC/AA34krdJtSNQlP8fbRZCCGEgGV0QQggT0nX9b+BbIC9vR4kPvDsVAqwEnHk7zWJHpDohvF0KLiuwFPAAJrw75gHMAj6L1JYQQoh4kIf0hBBCCCGEiERGkIUQQgghhIhEEmQhhBBCCCEikQRZCCGEEEKISCRBFkIIIYQQIhJJkIUQQgghhIhEEmQhhBBCCCEikQRZCCGEEEKISP4PwJcq3XpRksgAAAAASUVORK5CYII=\n",
=======
      "image/png": "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\n",
>>>>>>> ad24471c02b41a7717e79dadb6fad3f7658635b7
      "text/plain": [
       "<Figure size 720x288 with 1 Axes>"
      ]
     },
     "metadata": {
      "needs_background": "light"
     },
     "output_type": "display_data"
    }
   ],
   "source": [
    "model.plot_fcst(fcst, train=None, test=test, plot_history=True, figsize=(10, 4), style=\"-\")          "
   ]
  },
  {
   "cell_type": "code",
<<<<<<< HEAD
   "execution_count": 284,
=======
   "execution_count": 236,
>>>>>>> ad24471c02b41a7717e79dadb6fad3f7658635b7
   "id": "c77f855b-b1ac-4291-811a-4b31923c9497",
   "metadata": {},
   "outputs": [
    {
     "data": {
<<<<<<< HEAD
      "image/png": "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\n",
=======
      "image/png": "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\n",
>>>>>>> ad24471c02b41a7717e79dadb6fad3f7658635b7
      "text/plain": [
       "<Figure size 864x288 with 1 Axes>"
      ]
     },
     "metadata": {
      "needs_background": "light"
     },
     "output_type": "display_data"
    }
   ],
   "source": [
    "ts_train.plot()\n",
    "ts_fcst.plot()\n",
    "ts_test.plot()"
   ]
  },
  {
   "cell_type": "code",
<<<<<<< HEAD
   "execution_count": 285,
=======
   "execution_count": 237,
>>>>>>> ad24471c02b41a7717e79dadb6fad3f7658635b7
   "id": "6bfd3de7-f2bb-4362-81c1-62c735d3c808",
   "metadata": {},
   "outputs": [
    {
     "data": {
      "text/html": [
       "<div>\n",
       "<style scoped>\n",
       "    .dataframe tbody tr th:only-of-type {\n",
       "        vertical-align: middle;\n",
       "    }\n",
       "\n",
       "    .dataframe tbody tr th {\n",
       "        vertical-align: top;\n",
       "    }\n",
       "\n",
       "    .dataframe thead th {\n",
       "        text-align: right;\n",
       "    }\n",
       "</style>\n",
       "<table border=\"1\" class=\"dataframe\">\n",
       "  <thead>\n",
       "    <tr style=\"text-align: right;\">\n",
       "      <th></th>\n",
       "      <th>open</th>\n",
       "    </tr>\n",
       "  </thead>\n",
       "  <tbody>\n",
       "    <tr>\n",
       "      <th>mae</th>\n",
<<<<<<< HEAD
       "      <td>0.331440</td>\n",
       "    </tr>\n",
       "    <tr>\n",
       "      <th>mse</th>\n",
       "      <td>0.140283</td>\n",
=======
       "      <td>2.261591</td>\n",
       "    </tr>\n",
       "    <tr>\n",
       "      <th>mse</th>\n",
       "      <td>6.084529</td>\n",
>>>>>>> ad24471c02b41a7717e79dadb6fad3f7658635b7
       "    </tr>\n",
       "  </tbody>\n",
       "</table>\n",
       "</div>"
      ],
      "text/plain": [
       "         open\n",
<<<<<<< HEAD
       "mae  0.331440\n",
       "mse  0.140283"
      ]
     },
     "execution_count": 285,
=======
       "mae  2.261591\n",
       "mse  6.084529"
      ]
     },
     "execution_count": 237,
>>>>>>> ad24471c02b41a7717e79dadb6fad3f7658635b7
     "metadata": {},
     "output_type": "execute_result"
    }
   ],
   "source": [
    "model.score(fcst, test, metrics=[mae, mse])"
   ]
  },
  {
   "cell_type": "code",
<<<<<<< HEAD
   "execution_count": 286,
=======
   "execution_count": 238,
>>>>>>> ad24471c02b41a7717e79dadb6fad3f7658635b7
   "id": "a06c1935-ff6c-422c-a310-c7e7077c04f9",
   "metadata": {},
   "outputs": [
    {
     "name": "stderr",
     "output_type": "stream",
     "text": [
<<<<<<< HEAD
      "100%|████████████████████████████████████████████████████████████████████████████████| 117/117 [00:14<00:00,  7.81it/s]\n"
=======
      "100%|████████████████████████████████████████████████████████████████████████████████| 117/117 [00:04<00:00, 24.76it/s]\n"
>>>>>>> ad24471c02b41a7717e79dadb6fad3f7658635b7
     ]
    }
   ],
   "source": [
    "hfcst = model.historical_forecasts(train, fh=10)"
   ]
  },
  {
   "cell_type": "code",
<<<<<<< HEAD
   "execution_count": 287,
=======
   "execution_count": 239,
>>>>>>> ad24471c02b41a7717e79dadb6fad3f7658635b7
   "id": "a578fffb-ae1a-4a8e-a3ba-9eb153c9eceb",
   "metadata": {},
   "outputs": [
    {
     "data": {
      "text/html": [
       "<div>\n",
       "<style scoped>\n",
       "    .dataframe tbody tr th:only-of-type {\n",
       "        vertical-align: middle;\n",
       "    }\n",
       "\n",
       "    .dataframe tbody tr th {\n",
       "        vertical-align: top;\n",
       "    }\n",
       "\n",
       "    .dataframe thead th {\n",
       "        text-align: right;\n",
       "    }\n",
       "</style>\n",
       "<table border=\"1\" class=\"dataframe\">\n",
       "  <thead>\n",
       "    <tr style=\"text-align: right;\">\n",
       "      <th></th>\n",
       "      <th>date</th>\n",
<<<<<<< HEAD
       "      <th>close</th>\n",
=======
>>>>>>> ad24471c02b41a7717e79dadb6fad3f7658635b7
       "      <th>open_fcst</th>\n",
       "    </tr>\n",
       "  </thead>\n",
       "  <tbody>\n",
       "    <tr>\n",
       "      <th>0</th>\n",
       "      <td>2015-07-12</td>\n",
<<<<<<< HEAD
       "      <td>39.2440</td>\n",
       "      <td>39.353264</td>\n",
=======
       "      <td>38.985672</td>\n",
>>>>>>> ad24471c02b41a7717e79dadb6fad3f7658635b7
       "    </tr>\n",
       "    <tr>\n",
       "      <th>1</th>\n",
       "      <td>2015-07-19</td>\n",
<<<<<<< HEAD
       "      <td>40.1740</td>\n",
       "      <td>40.301647</td>\n",
=======
       "      <td>38.930288</td>\n",
>>>>>>> ad24471c02b41a7717e79dadb6fad3f7658635b7
       "    </tr>\n",
       "    <tr>\n",
       "      <th>2</th>\n",
       "      <td>2015-07-26</td>\n",
<<<<<<< HEAD
       "      <td>39.9040</td>\n",
       "      <td>39.970634</td>\n",
=======
       "      <td>38.827385</td>\n",
>>>>>>> ad24471c02b41a7717e79dadb6fad3f7658635b7
       "    </tr>\n",
       "    <tr>\n",
       "      <th>3</th>\n",
       "      <td>2015-08-02</td>\n",
<<<<<<< HEAD
       "      <td>40.4760</td>\n",
       "      <td>40.564520</td>\n",
=======
       "      <td>38.786097</td>\n",
>>>>>>> ad24471c02b41a7717e79dadb6fad3f7658635b7
       "    </tr>\n",
       "    <tr>\n",
       "      <th>4</th>\n",
       "      <td>2015-08-09</td>\n",
<<<<<<< HEAD
       "      <td>40.4900</td>\n",
       "      <td>40.545253</td>\n",
=======
       "      <td>38.703307</td>\n",
>>>>>>> ad24471c02b41a7717e79dadb6fad3f7658635b7
       "    </tr>\n",
       "    <tr>\n",
       "      <th>5</th>\n",
       "      <td>2015-08-16</td>\n",
<<<<<<< HEAD
       "      <td>39.1980</td>\n",
       "      <td>39.307134</td>\n",
=======
       "      <td>38.665025</td>\n",
>>>>>>> ad24471c02b41a7717e79dadb6fad3f7658635b7
       "    </tr>\n",
       "    <tr>\n",
       "      <th>6</th>\n",
       "      <td>2015-08-23</td>\n",
<<<<<<< HEAD
       "      <td>37.9960</td>\n",
       "      <td>38.084710</td>\n",
=======
       "      <td>38.656990</td>\n",
>>>>>>> ad24471c02b41a7717e79dadb6fad3f7658635b7
       "    </tr>\n",
       "    <tr>\n",
       "      <th>7</th>\n",
       "      <td>2015-08-30</td>\n",
<<<<<<< HEAD
       "      <td>35.5620</td>\n",
       "      <td>35.663205</td>\n",
=======
       "      <td>38.636356</td>\n",
>>>>>>> ad24471c02b41a7717e79dadb6fad3f7658635b7
       "    </tr>\n",
       "    <tr>\n",
       "      <th>8</th>\n",
       "      <td>2015-09-06</td>\n",
<<<<<<< HEAD
       "      <td>35.4800</td>\n",
       "      <td>35.565275</td>\n",
=======
       "      <td>38.623443</td>\n",
>>>>>>> ad24471c02b41a7717e79dadb6fad3f7658635b7
       "    </tr>\n",
       "    <tr>\n",
       "      <th>9</th>\n",
       "      <td>2015-09-13</td>\n",
<<<<<<< HEAD
       "      <td>35.8925</td>\n",
       "      <td>35.986455</td>\n",
=======
       "      <td>38.612026</td>\n",
>>>>>>> ad24471c02b41a7717e79dadb6fad3f7658635b7
       "    </tr>\n",
       "  </tbody>\n",
       "</table>\n",
       "</div>"
      ],
      "text/plain": [
<<<<<<< HEAD
       "        date    close  open_fcst\n",
       "0 2015-07-12  39.2440  39.353264\n",
       "1 2015-07-19  40.1740  40.301647\n",
       "2 2015-07-26  39.9040  39.970634\n",
       "3 2015-08-02  40.4760  40.564520\n",
       "4 2015-08-09  40.4900  40.545253\n",
       "5 2015-08-16  39.1980  39.307134\n",
       "6 2015-08-23  37.9960  38.084710\n",
       "7 2015-08-30  35.5620  35.663205\n",
       "8 2015-09-06  35.4800  35.565275\n",
       "9 2015-09-13  35.8925  35.986455"
      ]
     },
     "execution_count": 287,
=======
       "        date  open_fcst\n",
       "0 2015-07-12  38.985672\n",
       "1 2015-07-19  38.930288\n",
       "2 2015-07-26  38.827385\n",
       "3 2015-08-02  38.786097\n",
       "4 2015-08-09  38.703307\n",
       "5 2015-08-16  38.665025\n",
       "6 2015-08-23  38.656990\n",
       "7 2015-08-30  38.636356\n",
       "8 2015-09-06  38.623443\n",
       "9 2015-09-13  38.612026"
      ]
     },
     "execution_count": 239,
>>>>>>> ad24471c02b41a7717e79dadb6fad3f7658635b7
     "metadata": {},
     "output_type": "execute_result"
    }
   ],
   "source": [
    "hfcst[0]"
   ]
  },
  {
   "cell_type": "code",
<<<<<<< HEAD
   "execution_count": 289,
=======
   "execution_count": 240,
>>>>>>> ad24471c02b41a7717e79dadb6fad3f7658635b7
   "id": "a2a2a0a5-4811-4ccf-80b1-b47e82bc7e4e",
   "metadata": {},
   "outputs": [
    {
     "data": {
      "application/vnd.jupyter.widget-view+json": {
<<<<<<< HEAD
       "model_id": "bb6cb701302d4393bcb4d7bad51b24ce",
=======
       "model_id": "d73828079fad4f60918276ae4ff48e8f",
>>>>>>> ad24471c02b41a7717e79dadb6fad3f7658635b7
       "version_major": 2,
       "version_minor": 0
      },
      "text/plain": [
       "  0%|          | 0/118 [00:00<?, ?it/s]"
      ]
     },
     "metadata": {},
     "output_type": "display_data"
    }
   ],
   "source": [
<<<<<<< HEAD
    "hfcst_darts = model_darts.historical_forecasts(ts_train, future_covariates=cov_train, forecast_horizon=10, last_points_only=False, verbose=True, overlap_end=False)\n",
=======
    "hfcst_darts = model_darts.historical_forecasts(ts_train, forecast_horizon=10, last_points_only=False, verbose=True, overlap_end=False)\n",
>>>>>>> ad24471c02b41a7717e79dadb6fad3f7658635b7
    "hfcst_darts = [fcst.pd_dataframe() for fcst in hfcst_darts]\n",
    "hfcst_darts = hfcst_darts[1:]"
   ]
  },
  {
   "cell_type": "code",
<<<<<<< HEAD
   "execution_count": 290,
=======
   "execution_count": 241,
>>>>>>> ad24471c02b41a7717e79dadb6fad3f7658635b7
   "id": "f1589187-a180-45ab-8f90-e199fb903432",
   "metadata": {},
   "outputs": [
    {
     "data": {
      "text/html": [
       "<div>\n",
       "<style scoped>\n",
       "    .dataframe tbody tr th:only-of-type {\n",
       "        vertical-align: middle;\n",
       "    }\n",
       "\n",
       "    .dataframe tbody tr th {\n",
       "        vertical-align: top;\n",
       "    }\n",
       "\n",
       "    .dataframe thead th {\n",
       "        text-align: right;\n",
       "    }\n",
       "</style>\n",
       "<table border=\"1\" class=\"dataframe\">\n",
       "  <thead>\n",
       "    <tr style=\"text-align: right;\">\n",
       "      <th>component</th>\n",
       "      <th>open</th>\n",
       "    </tr>\n",
       "    <tr>\n",
       "      <th>time</th>\n",
       "      <th></th>\n",
       "    </tr>\n",
       "  </thead>\n",
       "  <tbody>\n",
       "    <tr>\n",
       "      <th>2015-07-12</th>\n",
<<<<<<< HEAD
       "      <td>39.353264</td>\n",
       "    </tr>\n",
       "    <tr>\n",
       "      <th>2015-07-19</th>\n",
       "      <td>40.301647</td>\n",
       "    </tr>\n",
       "    <tr>\n",
       "      <th>2015-07-26</th>\n",
       "      <td>39.970634</td>\n",
       "    </tr>\n",
       "    <tr>\n",
       "      <th>2015-08-02</th>\n",
       "      <td>40.564520</td>\n",
       "    </tr>\n",
       "    <tr>\n",
       "      <th>2015-08-09</th>\n",
       "      <td>40.545253</td>\n",
       "    </tr>\n",
       "    <tr>\n",
       "      <th>2015-08-16</th>\n",
       "      <td>39.307134</td>\n",
       "    </tr>\n",
       "    <tr>\n",
       "      <th>2015-08-23</th>\n",
       "      <td>38.084710</td>\n",
       "    </tr>\n",
       "    <tr>\n",
       "      <th>2015-08-30</th>\n",
       "      <td>35.663205</td>\n",
       "    </tr>\n",
       "    <tr>\n",
       "      <th>2015-09-06</th>\n",
       "      <td>35.565275</td>\n",
       "    </tr>\n",
       "    <tr>\n",
       "      <th>2015-09-13</th>\n",
       "      <td>35.986455</td>\n",
=======
       "      <td>38.985672</td>\n",
       "    </tr>\n",
       "    <tr>\n",
       "      <th>2015-07-19</th>\n",
       "      <td>38.930288</td>\n",
       "    </tr>\n",
       "    <tr>\n",
       "      <th>2015-07-26</th>\n",
       "      <td>38.827385</td>\n",
       "    </tr>\n",
       "    <tr>\n",
       "      <th>2015-08-02</th>\n",
       "      <td>38.786097</td>\n",
       "    </tr>\n",
       "    <tr>\n",
       "      <th>2015-08-09</th>\n",
       "      <td>38.703307</td>\n",
       "    </tr>\n",
       "    <tr>\n",
       "      <th>2015-08-16</th>\n",
       "      <td>38.665025</td>\n",
       "    </tr>\n",
       "    <tr>\n",
       "      <th>2015-08-23</th>\n",
       "      <td>38.656990</td>\n",
       "    </tr>\n",
       "    <tr>\n",
       "      <th>2015-08-30</th>\n",
       "      <td>38.636356</td>\n",
       "    </tr>\n",
       "    <tr>\n",
       "      <th>2015-09-06</th>\n",
       "      <td>38.623443</td>\n",
       "    </tr>\n",
       "    <tr>\n",
       "      <th>2015-09-13</th>\n",
       "      <td>38.612026</td>\n",
>>>>>>> ad24471c02b41a7717e79dadb6fad3f7658635b7
       "    </tr>\n",
       "  </tbody>\n",
       "</table>\n",
       "</div>"
      ],
      "text/plain": [
       "component        open\n",
       "time                 \n",
<<<<<<< HEAD
       "2015-07-12  39.353264\n",
       "2015-07-19  40.301647\n",
       "2015-07-26  39.970634\n",
       "2015-08-02  40.564520\n",
       "2015-08-09  40.545253\n",
       "2015-08-16  39.307134\n",
       "2015-08-23  38.084710\n",
       "2015-08-30  35.663205\n",
       "2015-09-06  35.565275\n",
       "2015-09-13  35.986455"
      ]
     },
     "execution_count": 290,
=======
       "2015-07-12  38.985672\n",
       "2015-07-19  38.930288\n",
       "2015-07-26  38.827385\n",
       "2015-08-02  38.786097\n",
       "2015-08-09  38.703307\n",
       "2015-08-16  38.665025\n",
       "2015-08-23  38.656990\n",
       "2015-08-30  38.636356\n",
       "2015-09-06  38.623443\n",
       "2015-09-13  38.612026"
      ]
     },
     "execution_count": 241,
>>>>>>> ad24471c02b41a7717e79dadb6fad3f7658635b7
     "metadata": {},
     "output_type": "execute_result"
    }
   ],
   "source": [
    "hfcst_darts[0]"
   ]
  },
  {
   "cell_type": "code",
<<<<<<< HEAD
   "execution_count": 291,
=======
   "execution_count": 242,
>>>>>>> ad24471c02b41a7717e79dadb6fad3f7658635b7
   "id": "e8d97714-bb8e-4efd-a75c-7c92ad9c2664",
   "metadata": {},
   "outputs": [
    {
     "data": {
<<<<<<< HEAD
      "image/png": "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\n",
=======
      "image/png": "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\n",
>>>>>>> ad24471c02b41a7717e79dadb6fad3f7658635b7
      "text/plain": [
       "<Figure size 864x288 with 1 Axes>"
      ]
     },
     "metadata": {
      "needs_background": "light"
     },
     "output_type": "display_data"
    }
   ],
   "source": [
    "hfcst_tail = pd.concat([fcst.tail(1) for fcst in hfcst]).reset_index(drop=True)\n",
    "model.plot_fcst(hfcst_tail, train=train)"
   ]
  },
  {
   "cell_type": "code",
<<<<<<< HEAD
   "execution_count": 292,
=======
   "execution_count": 243,
>>>>>>> ad24471c02b41a7717e79dadb6fad3f7658635b7
   "id": "921dc635-12ac-4870-a6d3-49737a11122d",
   "metadata": {},
   "outputs": [
    {
     "data": {
      "text/plain": [
       "<AxesSubplot:xlabel='time'>"
      ]
     },
<<<<<<< HEAD
     "execution_count": 292,
=======
     "execution_count": 243,
>>>>>>> ad24471c02b41a7717e79dadb6fad3f7658635b7
     "metadata": {},
     "output_type": "execute_result"
    },
    {
     "data": {
<<<<<<< HEAD
      "image/png": "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\n",
=======
      "image/png": "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\n",
>>>>>>> ad24471c02b41a7717e79dadb6fad3f7658635b7
      "text/plain": [
       "<Figure size 864x288 with 1 Axes>"
      ]
     },
     "metadata": {
      "needs_background": "light"
     },
     "output_type": "display_data"
    }
   ],
   "source": [
    "hfcst_darts_tail = pd.concat([fcst.tail(1) for fcst in hfcst_darts])\n",
    "\n",
    "f, ax = plt.subplots()\n",
    "ts_train.pd_dataframe().plot(ax=ax)\n",
    "hfcst_darts_tail.plot(ax=ax)"
   ]
  },
  {
   "cell_type": "code",
<<<<<<< HEAD
   "execution_count": 293,
=======
   "execution_count": 244,
>>>>>>> ad24471c02b41a7717e79dadb6fad3f7658635b7
   "id": "1a343448-24a2-4d2a-931f-abc82433785b",
   "metadata": {},
   "outputs": [
    {
     "data": {
      "text/html": [
       "<div>\n",
       "<style scoped>\n",
       "    .dataframe tbody tr th:only-of-type {\n",
       "        vertical-align: middle;\n",
       "    }\n",
       "\n",
       "    .dataframe tbody tr th {\n",
       "        vertical-align: top;\n",
       "    }\n",
       "\n",
       "    .dataframe thead tr th {\n",
       "        text-align: left;\n",
       "    }\n",
       "</style>\n",
       "<table border=\"1\" class=\"dataframe\">\n",
       "  <thead>\n",
       "    <tr>\n",
       "      <th></th>\n",
       "      <th colspan=\"2\" halign=\"left\">open</th>\n",
       "    </tr>\n",
       "    <tr>\n",
       "      <th></th>\n",
       "      <th>mae</th>\n",
       "      <th>mse</th>\n",
       "    </tr>\n",
       "  </thead>\n",
       "  <tbody>\n",
       "    <tr>\n",
       "      <th>0</th>\n",
<<<<<<< HEAD
       "      <td>0.133440</td>\n",
       "      <td>0.030678</td>\n",
       "    </tr>\n",
       "    <tr>\n",
       "      <th>1</th>\n",
       "      <td>0.139820</td>\n",
       "      <td>0.031481</td>\n",
       "    </tr>\n",
       "    <tr>\n",
       "      <th>2</th>\n",
       "      <td>0.134987</td>\n",
       "      <td>0.029101</td>\n",
       "    </tr>\n",
       "    <tr>\n",
       "      <th>3</th>\n",
       "      <td>0.151980</td>\n",
       "      <td>0.032801</td>\n",
       "    </tr>\n",
       "    <tr>\n",
       "      <th>4</th>\n",
       "      <td>0.167096</td>\n",
       "      <td>0.038140</td>\n",
=======
       "      <td>1.620954</td>\n",
       "      <td>3.637486</td>\n",
       "    </tr>\n",
       "    <tr>\n",
       "      <th>1</th>\n",
       "      <td>1.868067</td>\n",
       "      <td>4.918798</td>\n",
       "    </tr>\n",
       "    <tr>\n",
       "      <th>2</th>\n",
       "      <td>2.552814</td>\n",
       "      <td>10.185948</td>\n",
       "    </tr>\n",
       "    <tr>\n",
       "      <th>3</th>\n",
       "      <td>3.168193</td>\n",
       "      <td>14.001789</td>\n",
       "    </tr>\n",
       "    <tr>\n",
       "      <th>4</th>\n",
       "      <td>3.864090</td>\n",
       "      <td>18.545743</td>\n",
>>>>>>> ad24471c02b41a7717e79dadb6fad3f7658635b7
       "    </tr>\n",
       "    <tr>\n",
       "      <th>...</th>\n",
       "      <td>...</td>\n",
       "      <td>...</td>\n",
       "    </tr>\n",
       "    <tr>\n",
       "      <th>112</th>\n",
<<<<<<< HEAD
       "      <td>0.177197</td>\n",
       "      <td>0.048372</td>\n",
       "    </tr>\n",
       "    <tr>\n",
       "      <th>113</th>\n",
       "      <td>0.179690</td>\n",
       "      <td>0.042589</td>\n",
       "    </tr>\n",
       "    <tr>\n",
       "      <th>114</th>\n",
       "      <td>0.224494</td>\n",
       "      <td>0.063290</td>\n",
       "    </tr>\n",
       "    <tr>\n",
       "      <th>115</th>\n",
       "      <td>0.231462</td>\n",
       "      <td>0.067719</td>\n",
       "    </tr>\n",
       "    <tr>\n",
       "      <th>116</th>\n",
       "      <td>0.220129</td>\n",
       "      <td>0.065394</td>\n",
=======
       "      <td>3.562000</td>\n",
       "      <td>14.097887</td>\n",
       "    </tr>\n",
       "    <tr>\n",
       "      <th>113</th>\n",
       "      <td>2.140435</td>\n",
       "      <td>5.731271</td>\n",
       "    </tr>\n",
       "    <tr>\n",
       "      <th>114</th>\n",
       "      <td>1.302813</td>\n",
       "      <td>2.035665</td>\n",
       "    </tr>\n",
       "    <tr>\n",
       "      <th>115</th>\n",
       "      <td>0.791573</td>\n",
       "      <td>1.120603</td>\n",
       "    </tr>\n",
       "    <tr>\n",
       "      <th>116</th>\n",
       "      <td>0.994360</td>\n",
       "      <td>1.550735</td>\n",
>>>>>>> ad24471c02b41a7717e79dadb6fad3f7658635b7
       "    </tr>\n",
       "  </tbody>\n",
       "</table>\n",
       "<p>117 rows × 2 columns</p>\n",
       "</div>"
      ],
      "text/plain": [
<<<<<<< HEAD
       "         open          \n",
       "          mae       mse\n",
       "0    0.133440  0.030678\n",
       "1    0.139820  0.031481\n",
       "2    0.134987  0.029101\n",
       "3    0.151980  0.032801\n",
       "4    0.167096  0.038140\n",
       "..        ...       ...\n",
       "112  0.177197  0.048372\n",
       "113  0.179690  0.042589\n",
       "114  0.224494  0.063290\n",
       "115  0.231462  0.067719\n",
       "116  0.220129  0.065394\n",
=======
       "         open           \n",
       "          mae        mse\n",
       "0    1.620954   3.637486\n",
       "1    1.868067   4.918798\n",
       "2    2.552814  10.185948\n",
       "3    3.168193  14.001789\n",
       "4    3.864090  18.545743\n",
       "..        ...        ...\n",
       "112  3.562000  14.097887\n",
       "113  2.140435   5.731271\n",
       "114  1.302813   2.035665\n",
       "115  0.791573   1.120603\n",
       "116  0.994360   1.550735\n",
>>>>>>> ad24471c02b41a7717e79dadb6fad3f7658635b7
       "\n",
       "[117 rows x 2 columns]"
      ]
     },
<<<<<<< HEAD
     "execution_count": 293,
=======
     "execution_count": 244,
>>>>>>> ad24471c02b41a7717e79dadb6fad3f7658635b7
     "metadata": {},
     "output_type": "execute_result"
    }
   ],
   "source": [
    "model.score_cv(hfcst, train, metrics=[mae, mse])"
   ]
  },
  {
   "cell_type": "code",
<<<<<<< HEAD
   "execution_count": 296,
=======
   "execution_count": 245,
>>>>>>> ad24471c02b41a7717e79dadb6fad3f7658635b7
   "id": "3275c817-aae0-4079-9ceb-4b7e2a2fefd9",
   "metadata": {},
   "outputs": [
    {
     "data": {
      "application/vnd.jupyter.widget-view+json": {
<<<<<<< HEAD
       "model_id": "051e1b2eec1a4a138bd7d5eda2d51a57",
=======
       "model_id": "1c4c798e52df4283a7fdb23b48b9954e",
>>>>>>> ad24471c02b41a7717e79dadb6fad3f7658635b7
       "version_major": 2,
       "version_minor": 0
      },
      "text/plain": [
       "  0%|          | 0/118 [00:00<?, ?it/s]"
      ]
     },
     "metadata": {},
     "output_type": "display_data"
    },
    {
     "data": {
      "text/plain": [
<<<<<<< HEAD
       "[0.13344039241863684,\n",
       " 0.1398199898839998,\n",
       " 0.1349872779501709,\n",
       " 0.1519800327234087,\n",
       " 0.16709557049386348]"
      ]
     },
     "execution_count": 296,
=======
       "[1.6209542482148798,\n",
       " 1.8680672391873265,\n",
       " 2.5528143317136895,\n",
       " 3.1681927377194525,\n",
       " 3.864089737012673,\n",
       " 4.89103691505074,\n",
       " 3.806316855687566,\n",
       " 2.570433110459144,\n",
       " 1.159340676542343,\n",
       " 1.5445680580869934]"
      ]
     },
     "execution_count": 245,
>>>>>>> ad24471c02b41a7717e79dadb6fad3f7658635b7
     "metadata": {},
     "output_type": "execute_result"
    }
   ],
   "source": [
<<<<<<< HEAD
    "score_darts = model_darts.backtest(ts_train, future_covariates=cov_train, forecast_horizon=10, last_points_only=False, verbose=True, overlap_end=False, metric=darts.metrics.mae, reduction=None)\n",
    "score_darts = score_darts[1:]\n",
    "score_darts[:5]"
=======
    "score_darts = model_darts.backtest(ts_train, forecast_horizon=10, last_points_only=False, verbose=True, overlap_end=False, metric=darts.metrics.mae, reduction=None)\n",
    "score_darts = score_darts[1:]\n",
    "score_darts[:10]"
>>>>>>> ad24471c02b41a7717e79dadb6fad3f7658635b7
   ]
  },
  {
   "cell_type": "code",
<<<<<<< HEAD
   "execution_count": 297,
=======
   "execution_count": 246,
>>>>>>> ad24471c02b41a7717e79dadb6fad3f7658635b7
   "id": "9189858e-ea8f-48be-9e28-a486ebde24c6",
   "metadata": {},
   "outputs": [
    {
     "data": {
      "text/html": [
       "<div>\n",
       "<style scoped>\n",
       "    .dataframe tbody tr th:only-of-type {\n",
       "        vertical-align: middle;\n",
       "    }\n",
       "\n",
       "    .dataframe tbody tr th {\n",
       "        vertical-align: top;\n",
       "    }\n",
       "\n",
       "    .dataframe thead th {\n",
       "        text-align: right;\n",
       "    }\n",
       "</style>\n",
       "<table border=\"1\" class=\"dataframe\">\n",
       "  <thead>\n",
       "    <tr style=\"text-align: right;\">\n",
       "      <th></th>\n",
       "      <th>open</th>\n",
       "    </tr>\n",
       "  </thead>\n",
       "  <tbody>\n",
       "    <tr>\n",
       "      <th>mae</th>\n",
<<<<<<< HEAD
       "      <td>0.195697</td>\n",
       "    </tr>\n",
       "    <tr>\n",
       "      <th>mse</th>\n",
       "      <td>0.065715</td>\n",
=======
       "      <td>2.318512</td>\n",
       "    </tr>\n",
       "    <tr>\n",
       "      <th>mse</th>\n",
       "      <td>8.382294</td>\n",
>>>>>>> ad24471c02b41a7717e79dadb6fad3f7658635b7
       "    </tr>\n",
       "  </tbody>\n",
       "</table>\n",
       "</div>"
      ],
      "text/plain": [
       "         open\n",
<<<<<<< HEAD
       "mae  0.195697\n",
       "mse  0.065715"
      ]
     },
     "execution_count": 297,
=======
       "mae  2.318512\n",
       "mse  8.382294"
      ]
     },
     "execution_count": 246,
>>>>>>> ad24471c02b41a7717e79dadb6fad3f7658635b7
     "metadata": {},
     "output_type": "execute_result"
    }
   ],
   "source": [
    "model.score_cv(hfcst, train, metrics=[mae, mse], agg=np.mean)"
   ]
  },
  {
   "cell_type": "code",
<<<<<<< HEAD
   "execution_count": 298,
=======
   "execution_count": 247,
>>>>>>> ad24471c02b41a7717e79dadb6fad3f7658635b7
   "id": "527f623b-fee5-4e1a-93b6-71913a536ec9",
   "metadata": {},
   "outputs": [
    {
     "data": {
      "text/plain": [
<<<<<<< HEAD
       "0.19569667097563195"
      ]
     },
     "execution_count": 298,
=======
       "2.3185121992496573"
      ]
     },
     "execution_count": 247,
>>>>>>> ad24471c02b41a7717e79dadb6fad3f7658635b7
     "metadata": {},
     "output_type": "execute_result"
    }
   ],
   "source": [
    "np.mean(score_darts)"
   ]
  },
  {
   "cell_type": "code",
   "execution_count": null,
   "id": "e07ba8d2-257c-452f-ac40-687892ab25c6",
   "metadata": {},
   "outputs": [],
   "source": []
  }
 ],
 "metadata": {
  "kernelspec": {
   "display_name": "Python 3 (ipykernel)",
   "language": "python",
   "name": "python3"
  },
  "language_info": {
   "codemirror_mode": {
    "name": "ipython",
    "version": 3
   },
   "file_extension": ".py",
   "mimetype": "text/x-python",
   "name": "python",
   "nbconvert_exporter": "python",
   "pygments_lexer": "ipython3",
   "version": "3.7.11"
  }
 },
 "nbformat": 4,
 "nbformat_minor": 5
}
