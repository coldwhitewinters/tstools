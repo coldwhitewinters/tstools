{
 "cells": [
  {
   "cell_type": "markdown",
   "id": "e56b81dc-5126-4037-b2ec-e55168a329a3",
   "metadata": {},
   "source": [
    "# Notes"
   ]
  },
  {
   "cell_type": "markdown",
   "id": "cd043b89-738f-46f3-a17f-a0c10979ae02",
   "metadata": {},
   "source": []
  },
  {
   "cell_type": "markdown",
   "id": "9da94338-f409-4d17-b5cf-d7f2fde98380",
   "metadata": {},
   "source": [
    "# Setup"
   ]
  },
  {
   "cell_type": "code",
   "execution_count": 1,
   "id": "2d2f9e9d-aa44-40bd-83b6-6f8315f1b7a8",
   "metadata": {},
   "outputs": [],
   "source": [
    "%load_ext autoreload\n",
    "%autoreload 2"
   ]
  },
  {
   "cell_type": "code",
   "execution_count": 2,
   "id": "7803f99a",
   "metadata": {},
   "outputs": [],
   "source": [
    "import sys\n",
    "sys.path.append(\"..\")\n",
    "\n",
    "import numpy as np\n",
    "import pandas as pd\n",
    "\n",
    "import matplotlib.pyplot as plt\n",
    "import seaborn as sns\n",
    "import plotly.express as px\n",
    "import plotly.graph_objects as go\n",
    "from plotly.subplots import make_subplots\n",
    "from ipywidgets import interact, widgets\n",
    "\n",
    "plt.rcParams[\"figure.figsize\"] = (12, 4)"
   ]
  },
  {
   "cell_type": "markdown",
   "id": "4b64f7f8-9505-4eae-830b-0f0ad02dcde5",
   "metadata": {},
   "source": [
    "# Data"
   ]
  },
  {
   "cell_type": "code",
   "execution_count": 3,
   "id": "e29dd22d-4e46-41f5-ab77-fa95981d5a7c",
   "metadata": {},
   "outputs": [
    {
     "data": {
      "text/html": [
       "<div>\n",
       "<style scoped>\n",
       "    .dataframe tbody tr th:only-of-type {\n",
       "        vertical-align: middle;\n",
       "    }\n",
       "\n",
       "    .dataframe tbody tr th {\n",
       "        vertical-align: top;\n",
       "    }\n",
       "\n",
       "    .dataframe thead th {\n",
       "        text-align: right;\n",
       "    }\n",
       "</style>\n",
       "<table border=\"1\" class=\"dataframe\">\n",
       "  <thead>\n",
       "    <tr style=\"text-align: right;\">\n",
       "      <th></th>\n",
       "      <th>date</th>\n",
       "      <th>open</th>\n",
       "      <th>high</th>\n",
       "      <th>low</th>\n",
       "      <th>close</th>\n",
       "      <th>volume</th>\n",
       "      <th>Name</th>\n",
       "    </tr>\n",
       "  </thead>\n",
       "  <tbody>\n",
       "    <tr>\n",
       "      <th>0</th>\n",
       "      <td>2013-02-08</td>\n",
       "      <td>15.07</td>\n",
       "      <td>15.12</td>\n",
       "      <td>14.63</td>\n",
       "      <td>14.75</td>\n",
       "      <td>8407500</td>\n",
       "      <td>AAL</td>\n",
       "    </tr>\n",
       "    <tr>\n",
       "      <th>1</th>\n",
       "      <td>2013-02-11</td>\n",
       "      <td>14.89</td>\n",
       "      <td>15.01</td>\n",
       "      <td>14.26</td>\n",
       "      <td>14.46</td>\n",
       "      <td>8882000</td>\n",
       "      <td>AAL</td>\n",
       "    </tr>\n",
       "    <tr>\n",
       "      <th>2</th>\n",
       "      <td>2013-02-12</td>\n",
       "      <td>14.45</td>\n",
       "      <td>14.51</td>\n",
       "      <td>14.10</td>\n",
       "      <td>14.27</td>\n",
       "      <td>8126000</td>\n",
       "      <td>AAL</td>\n",
       "    </tr>\n",
       "    <tr>\n",
       "      <th>3</th>\n",
       "      <td>2013-02-13</td>\n",
       "      <td>14.30</td>\n",
       "      <td>14.94</td>\n",
       "      <td>14.25</td>\n",
       "      <td>14.66</td>\n",
       "      <td>10259500</td>\n",
       "      <td>AAL</td>\n",
       "    </tr>\n",
       "    <tr>\n",
       "      <th>4</th>\n",
       "      <td>2013-02-14</td>\n",
       "      <td>14.94</td>\n",
       "      <td>14.96</td>\n",
       "      <td>13.16</td>\n",
       "      <td>13.99</td>\n",
       "      <td>31879900</td>\n",
       "      <td>AAL</td>\n",
       "    </tr>\n",
       "    <tr>\n",
       "      <th>...</th>\n",
       "      <td>...</td>\n",
       "      <td>...</td>\n",
       "      <td>...</td>\n",
       "      <td>...</td>\n",
       "      <td>...</td>\n",
       "      <td>...</td>\n",
       "      <td>...</td>\n",
       "    </tr>\n",
       "    <tr>\n",
       "      <th>619035</th>\n",
       "      <td>2018-02-01</td>\n",
       "      <td>76.84</td>\n",
       "      <td>78.27</td>\n",
       "      <td>76.69</td>\n",
       "      <td>77.82</td>\n",
       "      <td>2982259</td>\n",
       "      <td>ZTS</td>\n",
       "    </tr>\n",
       "    <tr>\n",
       "      <th>619036</th>\n",
       "      <td>2018-02-02</td>\n",
       "      <td>77.53</td>\n",
       "      <td>78.12</td>\n",
       "      <td>76.73</td>\n",
       "      <td>76.78</td>\n",
       "      <td>2595187</td>\n",
       "      <td>ZTS</td>\n",
       "    </tr>\n",
       "    <tr>\n",
       "      <th>619037</th>\n",
       "      <td>2018-02-05</td>\n",
       "      <td>76.64</td>\n",
       "      <td>76.92</td>\n",
       "      <td>73.18</td>\n",
       "      <td>73.83</td>\n",
       "      <td>2962031</td>\n",
       "      <td>ZTS</td>\n",
       "    </tr>\n",
       "    <tr>\n",
       "      <th>619038</th>\n",
       "      <td>2018-02-06</td>\n",
       "      <td>72.74</td>\n",
       "      <td>74.56</td>\n",
       "      <td>72.13</td>\n",
       "      <td>73.27</td>\n",
       "      <td>4924323</td>\n",
       "      <td>ZTS</td>\n",
       "    </tr>\n",
       "    <tr>\n",
       "      <th>619039</th>\n",
       "      <td>2018-02-07</td>\n",
       "      <td>72.70</td>\n",
       "      <td>75.00</td>\n",
       "      <td>72.69</td>\n",
       "      <td>73.86</td>\n",
       "      <td>4534912</td>\n",
       "      <td>ZTS</td>\n",
       "    </tr>\n",
       "  </tbody>\n",
       "</table>\n",
       "<p>619040 rows × 7 columns</p>\n",
       "</div>"
      ],
      "text/plain": [
       "             date   open   high    low  close    volume Name\n",
       "0      2013-02-08  15.07  15.12  14.63  14.75   8407500  AAL\n",
       "1      2013-02-11  14.89  15.01  14.26  14.46   8882000  AAL\n",
       "2      2013-02-12  14.45  14.51  14.10  14.27   8126000  AAL\n",
       "3      2013-02-13  14.30  14.94  14.25  14.66  10259500  AAL\n",
       "4      2013-02-14  14.94  14.96  13.16  13.99  31879900  AAL\n",
       "...           ...    ...    ...    ...    ...       ...  ...\n",
       "619035 2018-02-01  76.84  78.27  76.69  77.82   2982259  ZTS\n",
       "619036 2018-02-02  77.53  78.12  76.73  76.78   2595187  ZTS\n",
       "619037 2018-02-05  76.64  76.92  73.18  73.83   2962031  ZTS\n",
       "619038 2018-02-06  72.74  74.56  72.13  73.27   4924323  ZTS\n",
       "619039 2018-02-07  72.70  75.00  72.69  73.86   4534912  ZTS\n",
       "\n",
       "[619040 rows x 7 columns]"
      ]
     },
     "execution_count": 3,
     "metadata": {},
     "output_type": "execute_result"
    }
   ],
   "source": [
    "stocks = pd.read_csv(\"../data/all_stocks_5yr.csv.gz\", parse_dates=[\"date\"])\n",
    "stocks"
   ]
  },
  {
   "cell_type": "code",
   "execution_count": 4,
   "id": "cdf67a75-77d4-45eb-b396-e43144f2b268",
   "metadata": {},
   "outputs": [
    {
     "name": "stdout",
     "output_type": "stream",
     "text": [
      "<class 'pandas.core.frame.DataFrame'>\n",
      "RangeIndex: 619040 entries, 0 to 619039\n",
      "Data columns (total 7 columns):\n",
      " #   Column  Non-Null Count   Dtype         \n",
      "---  ------  --------------   -----         \n",
      " 0   date    619040 non-null  datetime64[ns]\n",
      " 1   open    619029 non-null  float64       \n",
      " 2   high    619032 non-null  float64       \n",
      " 3   low     619032 non-null  float64       \n",
      " 4   close   619040 non-null  float64       \n",
      " 5   volume  619040 non-null  int64         \n",
      " 6   Name    619040 non-null  object        \n",
      "dtypes: datetime64[ns](1), float64(4), int64(1), object(1)\n",
      "memory usage: 33.1+ MB\n"
     ]
    }
   ],
   "source": [
    "stocks.info()"
   ]
  },
  {
   "cell_type": "code",
   "execution_count": 5,
   "id": "13e7e268-d402-4380-948a-30b5552d9a7e",
   "metadata": {},
   "outputs": [
    {
     "data": {
      "text/html": [
       "<div>\n",
       "<style scoped>\n",
       "    .dataframe tbody tr th:only-of-type {\n",
       "        vertical-align: middle;\n",
       "    }\n",
       "\n",
       "    .dataframe tbody tr th {\n",
       "        vertical-align: top;\n",
       "    }\n",
       "\n",
       "    .dataframe thead th {\n",
       "        text-align: right;\n",
       "    }\n",
       "</style>\n",
       "<table border=\"1\" class=\"dataframe\">\n",
       "  <thead>\n",
       "    <tr style=\"text-align: right;\">\n",
       "      <th></th>\n",
       "      <th>Name</th>\n",
       "      <th>date</th>\n",
       "      <th>open</th>\n",
       "      <th>high</th>\n",
       "      <th>low</th>\n",
       "      <th>close</th>\n",
       "      <th>volume</th>\n",
       "    </tr>\n",
       "  </thead>\n",
       "  <tbody>\n",
       "    <tr>\n",
       "      <th>0</th>\n",
       "      <td>A</td>\n",
       "      <td>2013-02-10</td>\n",
       "      <td>45.070000</td>\n",
       "      <td>45.350000</td>\n",
       "      <td>45.000000</td>\n",
       "      <td>45.080000</td>\n",
       "      <td>1824755.00</td>\n",
       "    </tr>\n",
       "    <tr>\n",
       "      <th>1</th>\n",
       "      <td>A</td>\n",
       "      <td>2013-02-17</td>\n",
       "      <td>44.598000</td>\n",
       "      <td>44.878000</td>\n",
       "      <td>44.040000</td>\n",
       "      <td>44.160000</td>\n",
       "      <td>5165006.80</td>\n",
       "    </tr>\n",
       "    <tr>\n",
       "      <th>2</th>\n",
       "      <td>A</td>\n",
       "      <td>2013-02-24</td>\n",
       "      <td>42.255000</td>\n",
       "      <td>42.545000</td>\n",
       "      <td>41.871250</td>\n",
       "      <td>42.170000</td>\n",
       "      <td>3689833.75</td>\n",
       "    </tr>\n",
       "    <tr>\n",
       "      <th>3</th>\n",
       "      <td>A</td>\n",
       "      <td>2013-03-03</td>\n",
       "      <td>41.332000</td>\n",
       "      <td>41.891000</td>\n",
       "      <td>40.898000</td>\n",
       "      <td>41.480000</td>\n",
       "      <td>3985236.20</td>\n",
       "    </tr>\n",
       "    <tr>\n",
       "      <th>4</th>\n",
       "      <td>A</td>\n",
       "      <td>2013-03-10</td>\n",
       "      <td>42.780000</td>\n",
       "      <td>43.178000</td>\n",
       "      <td>42.518000</td>\n",
       "      <td>42.842000</td>\n",
       "      <td>2878377.80</td>\n",
       "    </tr>\n",
       "    <tr>\n",
       "      <th>...</th>\n",
       "      <td>...</td>\n",
       "      <td>...</td>\n",
       "      <td>...</td>\n",
       "      <td>...</td>\n",
       "      <td>...</td>\n",
       "      <td>...</td>\n",
       "      <td>...</td>\n",
       "    </tr>\n",
       "    <tr>\n",
       "      <th>128835</th>\n",
       "      <td>ZTS</td>\n",
       "      <td>2018-01-14</td>\n",
       "      <td>74.334000</td>\n",
       "      <td>75.013000</td>\n",
       "      <td>73.879140</td>\n",
       "      <td>74.648000</td>\n",
       "      <td>2431182.00</td>\n",
       "    </tr>\n",
       "    <tr>\n",
       "      <th>128836</th>\n",
       "      <td>ZTS</td>\n",
       "      <td>2018-01-21</td>\n",
       "      <td>76.302500</td>\n",
       "      <td>76.747500</td>\n",
       "      <td>75.667500</td>\n",
       "      <td>76.315000</td>\n",
       "      <td>3196819.50</td>\n",
       "    </tr>\n",
       "    <tr>\n",
       "      <th>128837</th>\n",
       "      <td>ZTS</td>\n",
       "      <td>2018-01-28</td>\n",
       "      <td>78.018000</td>\n",
       "      <td>78.784000</td>\n",
       "      <td>77.783000</td>\n",
       "      <td>78.548000</td>\n",
       "      <td>2780926.20</td>\n",
       "    </tr>\n",
       "    <tr>\n",
       "      <th>128838</th>\n",
       "      <td>ZTS</td>\n",
       "      <td>2018-02-04</td>\n",
       "      <td>78.222000</td>\n",
       "      <td>78.760000</td>\n",
       "      <td>77.396000</td>\n",
       "      <td>77.772000</td>\n",
       "      <td>3236979.20</td>\n",
       "    </tr>\n",
       "    <tr>\n",
       "      <th>128839</th>\n",
       "      <td>ZTS</td>\n",
       "      <td>2018-02-11</td>\n",
       "      <td>74.026667</td>\n",
       "      <td>75.493333</td>\n",
       "      <td>72.666667</td>\n",
       "      <td>73.653333</td>\n",
       "      <td>4140422.00</td>\n",
       "    </tr>\n",
       "  </tbody>\n",
       "</table>\n",
       "<p>128840 rows × 7 columns</p>\n",
       "</div>"
      ],
      "text/plain": [
       "       Name       date       open       high        low      close      volume\n",
       "0         A 2013-02-10  45.070000  45.350000  45.000000  45.080000  1824755.00\n",
       "1         A 2013-02-17  44.598000  44.878000  44.040000  44.160000  5165006.80\n",
       "2         A 2013-02-24  42.255000  42.545000  41.871250  42.170000  3689833.75\n",
       "3         A 2013-03-03  41.332000  41.891000  40.898000  41.480000  3985236.20\n",
       "4         A 2013-03-10  42.780000  43.178000  42.518000  42.842000  2878377.80\n",
       "...     ...        ...        ...        ...        ...        ...         ...\n",
       "128835  ZTS 2018-01-14  74.334000  75.013000  73.879140  74.648000  2431182.00\n",
       "128836  ZTS 2018-01-21  76.302500  76.747500  75.667500  76.315000  3196819.50\n",
       "128837  ZTS 2018-01-28  78.018000  78.784000  77.783000  78.548000  2780926.20\n",
       "128838  ZTS 2018-02-04  78.222000  78.760000  77.396000  77.772000  3236979.20\n",
       "128839  ZTS 2018-02-11  74.026667  75.493333  72.666667  73.653333  4140422.00\n",
       "\n",
       "[128840 rows x 7 columns]"
      ]
     },
     "execution_count": 5,
     "metadata": {},
     "output_type": "execute_result"
    }
   ],
   "source": [
    "stocks = stocks.set_index(\"date\").groupby(\"Name\").resample(\"W\").mean().reset_index()\n",
    "stocks"
   ]
  },
  {
   "cell_type": "markdown",
   "id": "21c882ae-5073-49e4-8d28-814559e6f9dd",
   "metadata": {},
   "source": [
    "# Sandbox"
   ]
  },
  {
   "cell_type": "code",
   "execution_count": 6,
   "id": "b06f818e-3f98-4451-a53d-82f406db95a9",
   "metadata": {},
   "outputs": [],
   "source": [
    "from tstools.forecast.models import (\n",
    "    Univariate,\n",
    "    Naive,\n",
    "    Drift,\n",
    "    Mean,\n",
    "    ETS,\n",
    "    ARIMA,\n",
    "    AutoARIMA,\n",
    "    AutoRegression,\n",
    "    ScikitRegression,\n",
    ")\n",
    "from tstools.metrics import mae, mse\n",
    "\n",
    "from darts.timeseries import TimeSeries\n",
    "from darts.models import ( \n",
    "    NaiveSeasonal,\n",
    "    NaiveDrift,\n",
    "    Prophet,\n",
    "    ExponentialSmoothing,\n",
    "    ARIMA as arima_darts,\n",
    "    AutoARIMA as autoarima_darts,\n",
    "    RegressionEnsembleModel,\n",
    "    RegressionModel,\n",
    "    Theta,\n",
    "    FFT\n",
    ")\n",
    "import darts.metrics\n",
    "\n",
    "from sklearn.preprocessing import StandardScaler\n",
    "from sklearn.linear_model import LinearRegression, Ridge, Lasso\n",
    "from sklearn.tree import DecisionTreeRegressor\n",
    "from sklearn.ensemble import RandomForestRegressor\n",
    "from sklearn.svm import LinearSVR, SVR\n",
    "\n",
    "import statsmodels.api as sm\n",
    "import statsmodels.tsa.api as tsa\n",
    "import pmdarima as pm\n",
    "\n",
    "from warnings import filterwarnings\n",
    "filterwarnings('ignore')"
   ]
  },
  {
   "cell_type": "code",
   "execution_count": 7,
   "id": "bb4da8e4-407a-47a4-b811-0a927ca84d69",
   "metadata": {},
   "outputs": [
    {
     "data": {
      "text/html": [
       "<div>\n",
       "<style scoped>\n",
       "    .dataframe tbody tr th:only-of-type {\n",
       "        vertical-align: middle;\n",
       "    }\n",
       "\n",
       "    .dataframe tbody tr th {\n",
       "        vertical-align: top;\n",
       "    }\n",
       "\n",
       "    .dataframe thead th {\n",
       "        text-align: right;\n",
       "    }\n",
       "</style>\n",
       "<table border=\"1\" class=\"dataframe\">\n",
       "  <thead>\n",
       "    <tr style=\"text-align: right;\">\n",
       "      <th></th>\n",
       "      <th>Name</th>\n",
       "      <th>date</th>\n",
       "      <th>open</th>\n",
       "      <th>high</th>\n",
       "      <th>low</th>\n",
       "      <th>close</th>\n",
       "      <th>volume</th>\n",
       "    </tr>\n",
       "  </thead>\n",
       "  <tbody>\n",
       "    <tr>\n",
       "      <th>0</th>\n",
       "      <td>A</td>\n",
       "      <td>2013-02-10</td>\n",
       "      <td>45.070</td>\n",
       "      <td>45.350000</td>\n",
       "      <td>45.00000</td>\n",
       "      <td>45.080000</td>\n",
       "      <td>1.824755e+06</td>\n",
       "    </tr>\n",
       "    <tr>\n",
       "      <th>1</th>\n",
       "      <td>A</td>\n",
       "      <td>2013-02-17</td>\n",
       "      <td>44.598</td>\n",
       "      <td>44.878000</td>\n",
       "      <td>44.04000</td>\n",
       "      <td>44.160000</td>\n",
       "      <td>5.165007e+06</td>\n",
       "    </tr>\n",
       "    <tr>\n",
       "      <th>2</th>\n",
       "      <td>A</td>\n",
       "      <td>2013-02-24</td>\n",
       "      <td>42.255</td>\n",
       "      <td>42.545000</td>\n",
       "      <td>41.87125</td>\n",
       "      <td>42.170000</td>\n",
       "      <td>3.689834e+06</td>\n",
       "    </tr>\n",
       "    <tr>\n",
       "      <th>3</th>\n",
       "      <td>A</td>\n",
       "      <td>2013-03-03</td>\n",
       "      <td>41.332</td>\n",
       "      <td>41.891000</td>\n",
       "      <td>40.89800</td>\n",
       "      <td>41.480000</td>\n",
       "      <td>3.985236e+06</td>\n",
       "    </tr>\n",
       "    <tr>\n",
       "      <th>4</th>\n",
       "      <td>A</td>\n",
       "      <td>2013-03-10</td>\n",
       "      <td>42.780</td>\n",
       "      <td>43.178000</td>\n",
       "      <td>42.51800</td>\n",
       "      <td>42.842000</td>\n",
       "      <td>2.878378e+06</td>\n",
       "    </tr>\n",
       "    <tr>\n",
       "      <th>...</th>\n",
       "      <td>...</td>\n",
       "      <td>...</td>\n",
       "      <td>...</td>\n",
       "      <td>...</td>\n",
       "      <td>...</td>\n",
       "      <td>...</td>\n",
       "      <td>...</td>\n",
       "    </tr>\n",
       "    <tr>\n",
       "      <th>257</th>\n",
       "      <td>A</td>\n",
       "      <td>2018-01-14</td>\n",
       "      <td>70.702</td>\n",
       "      <td>71.430000</td>\n",
       "      <td>70.12500</td>\n",
       "      <td>71.028000</td>\n",
       "      <td>2.039419e+06</td>\n",
       "    </tr>\n",
       "    <tr>\n",
       "      <th>258</th>\n",
       "      <td>A</td>\n",
       "      <td>2018-01-21</td>\n",
       "      <td>72.105</td>\n",
       "      <td>72.623750</td>\n",
       "      <td>71.59500</td>\n",
       "      <td>72.137500</td>\n",
       "      <td>1.905580e+06</td>\n",
       "    </tr>\n",
       "    <tr>\n",
       "      <th>259</th>\n",
       "      <td>A</td>\n",
       "      <td>2018-01-28</td>\n",
       "      <td>73.870</td>\n",
       "      <td>74.161000</td>\n",
       "      <td>73.22800</td>\n",
       "      <td>73.836000</td>\n",
       "      <td>1.796494e+06</td>\n",
       "    </tr>\n",
       "    <tr>\n",
       "      <th>260</th>\n",
       "      <td>A</td>\n",
       "      <td>2018-02-04</td>\n",
       "      <td>73.548</td>\n",
       "      <td>74.002000</td>\n",
       "      <td>72.84000</td>\n",
       "      <td>73.006000</td>\n",
       "      <td>1.827100e+06</td>\n",
       "    </tr>\n",
       "    <tr>\n",
       "      <th>261</th>\n",
       "      <td>A</td>\n",
       "      <td>2018-02-11</td>\n",
       "      <td>68.670</td>\n",
       "      <td>69.798333</td>\n",
       "      <td>67.40500</td>\n",
       "      <td>68.243333</td>\n",
       "      <td>2.990119e+06</td>\n",
       "    </tr>\n",
       "  </tbody>\n",
       "</table>\n",
       "<p>262 rows × 7 columns</p>\n",
       "</div>"
      ],
      "text/plain": [
       "    Name       date    open       high       low      close        volume\n",
       "0      A 2013-02-10  45.070  45.350000  45.00000  45.080000  1.824755e+06\n",
       "1      A 2013-02-17  44.598  44.878000  44.04000  44.160000  5.165007e+06\n",
       "2      A 2013-02-24  42.255  42.545000  41.87125  42.170000  3.689834e+06\n",
       "3      A 2013-03-03  41.332  41.891000  40.89800  41.480000  3.985236e+06\n",
       "4      A 2013-03-10  42.780  43.178000  42.51800  42.842000  2.878378e+06\n",
       "..   ...        ...     ...        ...       ...        ...           ...\n",
       "257    A 2018-01-14  70.702  71.430000  70.12500  71.028000  2.039419e+06\n",
       "258    A 2018-01-21  72.105  72.623750  71.59500  72.137500  1.905580e+06\n",
       "259    A 2018-01-28  73.870  74.161000  73.22800  73.836000  1.796494e+06\n",
       "260    A 2018-02-04  73.548  74.002000  72.84000  73.006000  1.827100e+06\n",
       "261    A 2018-02-11  68.670  69.798333  67.40500  68.243333  2.990119e+06\n",
       "\n",
       "[262 rows x 7 columns]"
      ]
     },
     "execution_count": 7,
     "metadata": {},
     "output_type": "execute_result"
    }
   ],
   "source": [
    "#data = stocks[stocks.Name.isin([\"A\", \"AAL\"])]\n",
    "data = stocks[stocks.Name.isin([\"A\"])]\n",
    "data"
   ]
  },
  {
   "cell_type": "code",
   "execution_count": 8,
   "id": "76eaa38a-d26c-4830-af53-3bbd08296de8",
   "metadata": {},
   "outputs": [],
   "source": [
    "train = data.iloc[:-10].copy()\n",
    "test = data.iloc[-10:].copy()"
   ]
  },
  {
   "cell_type": "code",
   "execution_count": 9,
   "id": "b13a63d0-5648-48eb-a993-e129aed093ba",
   "metadata": {},
   "outputs": [],
   "source": [
    "ts_train = TimeSeries.from_dataframe(train[[\"date\", \"open\"]].set_index(\"date\"))\n",
    "ts_test = TimeSeries.from_dataframe(test[[\"date\", \"open\"]].set_index(\"date\"))\n",
    "cov_train = TimeSeries.from_dataframe(train[[\"date\", \"close\"]].set_index(\"date\"))\n",
    "cov_test = TimeSeries.from_dataframe(test[[\"date\", \"close\"]].set_index(\"date\"))"
   ]
  },
  {
   "cell_type": "code",
   "execution_count": 10,
   "id": "b59d2331-6604-4261-bff8-26e8b1b5a361",
   "metadata": {},
   "outputs": [],
   "source": [
    "ts_train_endog = train.set_index(\"date\").asfreq(\"W\")[\"open\"].copy()\n",
    "ts_train_exog = train.set_index(\"date\").asfreq(\"W\")[\"close\"].copy()\n",
    "ts_test_endog = test.set_index(\"date\").asfreq(\"W\")[\"open\"].copy()\n",
    "ts_test_exog = test.set_index(\"date\").asfreq(\"W\")[\"close\"].copy()"
   ]
  },
  {
   "cell_type": "code",
   "execution_count": 127,
   "id": "7b948001-54ae-4d1a-a6cf-39d8cd638d1e",
   "metadata": {},
   "outputs": [],
   "source": [
    "#model = Naive(time_col=\"date\", target_col=\"open\", regressor_cols=None, freq=\"W\")\n",
    "#model = Drift(time_col=\"date\", target_col=\"open\", regressor_cols=None, freq=\"W\")\n",
    "model = Mean(time_col=\"date\", target_col=\"open\", regressor_cols=None, freq=\"W\")\n",
    "#model = ARIMA(time_col=\"date\", target_col=\"open\", regressor_cols=[\"close\"], freq=\"W\", order=(5, 1, 0))\n",
    "#model = ETS(time_col=\"date\", target_col=\"open\", regressor_cols=None, freq=\"W\", trend=\"add\", damped_trend=True)\n",
    "#model = AutoRegression(time_col=\"date\", target_col=\"open\", regressor_cols=None, freq=\"W\", lags=5, trend=\"n\")\n",
    "#model = AutoARIMA(time_col=\"date\", target_col=\"open\", regressor_cols=None, freq=\"W\")"
   ]
  },
  {
   "cell_type": "code",
   "execution_count": 128,
   "id": "2c642ae3-4420-44e2-82c4-37565965b75b",
   "metadata": {},
   "outputs": [
    {
     "data": {
      "text/plain": [
       "Mean(time_col='date', target_col='open', regressor_cols=None, freq='W')"
      ]
     },
     "execution_count": 128,
     "metadata": {},
     "output_type": "execute_result"
    }
   ],
   "source": [
    "model.fit(data)"
   ]
  },
  {
   "cell_type": "code",
   "execution_count": 129,
   "id": "1c9c6c9e-7abb-49e1-b9af-ec9a0ce18264",
   "metadata": {},
   "outputs": [],
   "source": [
    "future = model.get_future_dataframe(train, fh=10)\n",
    "future = future.merge(data[[\"date\", \"close\"]], on=\"date\")\n",
    "fcst = model.predict(future, conf_int=0.95)"
   ]
  },
  {
   "cell_type": "code",
   "execution_count": 130,
   "id": "740ba25e-0b3d-4211-9641-8d4ed18a4bed",
   "metadata": {},
   "outputs": [
    {
     "data": {
      "image/png": "[encoded data removed]",
      "text/plain": [
       "<Figure size 864x288 with 1 Axes>"
      ]
     },
     "metadata": {
      "needs_background": "light"
     },
     "output_type": "display_data"
    }
   ],
   "source": [
    "model.plot_fcst(fcst, train=None, test=test, plot_history=True)              "
   ]
  },
  {
   "cell_type": "code",
   "execution_count": 131,
   "id": "6bfd3de7-f2bb-4362-81c1-62c735d3c808",
   "metadata": {},
   "outputs": [
    {
     "data": {
      "text/plain": [
       "mae     20.416488\n",
       "mse    423.459605\n",
       "dtype: float64"
      ]
     },
     "execution_count": 131,
     "metadata": {},
     "output_type": "execute_result"
    }
   ],
   "source": [
    "model.score(test, fcst, metrics=[mae, mse])"
   ]
  },
  {
   "cell_type": "code",
   "execution_count": 132,
   "id": "a06c1935-ff6c-422c-a310-c7e7077c04f9",
   "metadata": {},
   "outputs": [
    {
     "name": "stderr",
     "output_type": "stream",
     "text": [
      "100%|████████████████████████████████████████████████████████████████████████████████| 117/117 [00:04<00:00, 23.77it/s]\n"
     ]
    }
   ],
   "source": [
    "hfcst = model.historical_forecasts(train, fh=10)"
   ]
  },
  {
   "cell_type": "code",
   "execution_count": 133,
   "id": "e8d97714-bb8e-4efd-a75c-7c92ad9c2664",
   "metadata": {},
   "outputs": [],
   "source": [
    "hfcst_tail = pd.concat([fcst.tail(1) for fcst in hfcst]).reset_index(drop=True)"
   ]
  },
  {
   "cell_type": "code",
   "execution_count": 134,
   "id": "921dc635-12ac-4870-a6d3-49737a11122d",
   "metadata": {},
   "outputs": [
    {
     "data": {
      "image/png": "[encoded data removed]",
      "text/plain": [
       "<Figure size 864x288 with 1 Axes>"
      ]
     },
     "metadata": {
      "needs_background": "light"
     },
     "output_type": "display_data"
    }
   ],
   "source": [
    "model.plot_fcst(hfcst_tail)"
   ]
  },
  {
   "cell_type": "code",
   "execution_count": 135,
   "id": "1a343448-24a2-4d2a-931f-abc82433785b",
   "metadata": {},
   "outputs": [
    {
     "data": {
      "text/html": [
       "<div>\n",
       "<style scoped>\n",
       "    .dataframe tbody tr th:only-of-type {\n",
       "        vertical-align: middle;\n",
       "    }\n",
       "\n",
       "    .dataframe tbody tr th {\n",
       "        vertical-align: top;\n",
       "    }\n",
       "\n",
       "    .dataframe thead th {\n",
       "        text-align: right;\n",
       "    }\n",
       "</style>\n",
       "<table border=\"1\" class=\"dataframe\">\n",
       "  <thead>\n",
       "    <tr style=\"text-align: right;\">\n",
       "      <th></th>\n",
       "      <th>mae</th>\n",
       "      <th>mse</th>\n",
       "    </tr>\n",
       "  </thead>\n",
       "  <tbody>\n",
       "    <tr>\n",
       "      <th>0</th>\n",
       "      <td>10.196330</td>\n",
       "      <td>107.844523</td>\n",
       "    </tr>\n",
       "    <tr>\n",
       "      <th>1</th>\n",
       "      <td>10.450006</td>\n",
       "      <td>113.500990</td>\n",
       "    </tr>\n",
       "    <tr>\n",
       "      <th>2</th>\n",
       "      <td>10.888594</td>\n",
       "      <td>123.159438</td>\n",
       "    </tr>\n",
       "    <tr>\n",
       "      <th>3</th>\n",
       "      <td>11.436536</td>\n",
       "      <td>135.977464</td>\n",
       "    </tr>\n",
       "    <tr>\n",
       "      <th>4</th>\n",
       "      <td>11.855518</td>\n",
       "      <td>144.827660</td>\n",
       "    </tr>\n",
       "    <tr>\n",
       "      <th>...</th>\n",
       "      <td>...</td>\n",
       "      <td>...</td>\n",
       "    </tr>\n",
       "    <tr>\n",
       "      <th>112</th>\n",
       "      <td>18.589327</td>\n",
       "      <td>347.319605</td>\n",
       "    </tr>\n",
       "    <tr>\n",
       "      <th>113</th>\n",
       "      <td>18.988657</td>\n",
       "      <td>362.213531</td>\n",
       "    </tr>\n",
       "    <tr>\n",
       "      <th>114</th>\n",
       "      <td>19.187270</td>\n",
       "      <td>369.515267</td>\n",
       "    </tr>\n",
       "    <tr>\n",
       "      <th>115</th>\n",
       "      <td>19.470810</td>\n",
       "      <td>380.979399</td>\n",
       "    </tr>\n",
       "    <tr>\n",
       "      <th>116</th>\n",
       "      <td>19.735414</td>\n",
       "      <td>391.763541</td>\n",
       "    </tr>\n",
       "  </tbody>\n",
       "</table>\n",
       "<p>117 rows × 2 columns</p>\n",
       "</div>"
      ],
      "text/plain": [
       "           mae         mse\n",
       "0    10.196330  107.844523\n",
       "1    10.450006  113.500990\n",
       "2    10.888594  123.159438\n",
       "3    11.436536  135.977464\n",
       "4    11.855518  144.827660\n",
       "..         ...         ...\n",
       "112  18.589327  347.319605\n",
       "113  18.988657  362.213531\n",
       "114  19.187270  369.515267\n",
       "115  19.470810  380.979399\n",
       "116  19.735414  391.763541\n",
       "\n",
       "[117 rows x 2 columns]"
      ]
     },
     "execution_count": 135,
     "metadata": {},
     "output_type": "execute_result"
    }
   ],
   "source": [
    "model.score_cv(train, hfcst, metrics=[mae, mse])"
   ]
  },
  {
   "cell_type": "code",
   "execution_count": 136,
   "id": "fe48204f-e7b1-44d9-9766-947b45a5a3f5",
   "metadata": {},
   "outputs": [
    {
     "data": {
      "text/plain": [
       "mae     7.461068\n",
       "mse    87.525129\n",
       "dtype: float64"
      ]
     },
     "execution_count": 136,
     "metadata": {},
     "output_type": "execute_result"
    }
   ],
   "source": [
    "model.score_cv(train, hfcst, metrics=[mae, mse], agg=np.mean)"
   ]
  },
  {
   "cell_type": "code",
   "execution_count": null,
   "id": "c2b03a9a-9f01-4d62-b877-79d1976970f2",
   "metadata": {},
   "outputs": [],
   "source": []
  },
  {
   "cell_type": "code",
   "execution_count": null,
   "id": "80b18ccd-b36e-48cc-8856-7f669d30c858",
   "metadata": {},
   "outputs": [],
   "source": []
  }
 ],
 "metadata": {
  "kernelspec": {
   "display_name": "Python 3 (ipykernel)",
   "language": "python",
   "name": "python3"
  },
  "language_info": {
   "codemirror_mode": {
    "name": "ipython",
    "version": 3
   },
   "file_extension": ".py",
   "mimetype": "text/x-python",
   "name": "python",
   "nbconvert_exporter": "python",
   "pygments_lexer": "ipython3",
   "version": "3.7.11"
  }
 },
 "nbformat": 4,
 "nbformat_minor": 5
}
